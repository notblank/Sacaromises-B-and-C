{
 "cells": [
  {
   "cell_type": "code",
   "execution_count": 1,
   "metadata": {
    "collapsed": true
   },
   "outputs": [],
   "source": [
    "import cobra\n",
    "import matplotlib.pylab as plt\n",
    "import numpy as np\n",
    "import pandas as pd"
   ]
  },
  {
   "cell_type": "code",
   "execution_count": 2,
   "metadata": {},
   "outputs": [
    {
     "data": {
      "text/html": [
       "\n",
       "        <table>\n",
       "            <tr>\n",
       "                <td><strong>Name</strong></td>\n",
       "                <td>iMM904</td>\n",
       "            </tr><tr>\n",
       "                <td><strong>Memory address</strong></td>\n",
       "                <td>0x0ceff73b240</td>\n",
       "            </tr><tr>\n",
       "                <td><strong>Number of metabolites</strong></td>\n",
       "                <td>1226</td>\n",
       "            </tr><tr>\n",
       "                <td><strong>Number of reactions</strong></td>\n",
       "                <td>1577</td>\n",
       "            </tr><tr>\n",
       "                <td><strong>Objective expression</strong></td>\n",
       "                <td>1.0*BIOMASS_SC5_notrace - 1.0*BIOMASS_SC5_notrace_reverse_93090</td>\n",
       "            </tr><tr>\n",
       "                <td><strong>Compartments</strong></td>\n",
       "                <td>cytosol, mitochondria, extracellular space, peroxisome/glyoxysome, endoplasmic reticulum, vacuole, nucleus, golgi apparatus</td>\n",
       "            </tr>\n",
       "          </table>"
      ],
      "text/plain": [
       "<Model iMM904 at 0xceff73b240>"
      ]
     },
     "execution_count": 2,
     "metadata": {},
     "output_type": "execute_result"
    }
   ],
   "source": [
    "cerevisiae = cobra.io.load_json_model('./COBRA models/iMM904.json')\n",
    "cerevisiae"
   ]
  },
  {
   "cell_type": "code",
   "execution_count": 3,
   "metadata": {
    "collapsed": true
   },
   "outputs": [],
   "source": [
    "cerevisiaeMod1 = cobra.io.load_json_model('./COBRA models/butyrate production/cerevisiaeMod1.json')\n",
    "cerevisiaeMod1a = cobra.io.load_json_model('./COBRA models/butyrate production/cerevisiaeMod1a.json')\n",
    "cerevisiaeMod2 = cobra.io.load_json_model('./COBRA models/butyrate production/cerevisiaeMod2.json')\n",
    "cerevisiaeMod3 = cobra.io.load_json_model('./COBRA models/butyrate production/cerevisiaeMod3.json')"
   ]
  },
  {
   "cell_type": "code",
   "execution_count": 4,
   "metadata": {
    "collapsed": true
   },
   "outputs": [],
   "source": [
    "cerevisiaeMod1.objective = cerevisiaeMod1.reactions.DM_but_c\n",
    "cerevisiaeMod1a.objective = cerevisiaeMod1a.reactions.DM_but_c\n",
    "cerevisiaeMod2.objective = cerevisiaeMod2.reactions.DM_but_c\n",
    "cerevisiaeMod3.objective = cerevisiaeMod3.reactions.DM_but_c"
   ]
  },
  {
   "cell_type": "code",
   "execution_count": 5,
   "metadata": {},
   "outputs": [
    {
     "name": "stdout",
     "output_type": "stream",
     "text": [
      "IN FLUXES     OUT FLUXES     OBJECTIVES\n",
      "------------  -------------  --------------\n",
      "glc__D_e  10  h_e     19.2   DM_but_c  7.48\n",
      "o2_e       2  h2o_e   12.4\n",
      "              co2_e    6.54\n",
      "              succ_e   5.88\n"
     ]
    }
   ],
   "source": [
    "cerevisiaeMod1.optimize()\n",
    "cerevisiaeMod1.summary()"
   ]
  },
  {
   "cell_type": "code",
   "execution_count": 6,
   "metadata": {},
   "outputs": [
    {
     "name": "stdout",
     "output_type": "stream",
     "text": [
      "IN FLUXES     OUT FLUXES     OBJECTIVES\n",
      "------------  -------------  --------------\n",
      "glc__D_e  10  h_e     14.2   DM_but_c  8.95\n",
      "o2_e       2  h2o_e   12.3\n",
      "              co2_e   11\n",
      "              succ_e   2.63\n",
      "              etoh_e   1.35\n"
     ]
    }
   ],
   "source": [
    "cerevisiaeMod1a.optimize()\n",
    "cerevisiaeMod1a.summary()"
   ]
  },
  {
   "cell_type": "code",
   "execution_count": 7,
   "metadata": {},
   "outputs": [
    {
     "name": "stdout",
     "output_type": "stream",
     "text": [
      "IN FLUXES        OUT FLUXES    OBJECTIVES\n",
      "---------------  ------------  --------------\n",
      "glc__D_e  10     h2o_e  13.3   DM_but_c  11.7\n",
      "o2_e       1.65  co2_e  13.3\n",
      "                 h_e    11.7\n"
     ]
    }
   ],
   "source": [
    "cerevisiaeMod2.optimize()\n",
    "cerevisiaeMod2.summary()"
   ]
  },
  {
   "cell_type": "code",
   "execution_count": 8,
   "metadata": {},
   "outputs": [
    {
     "name": "stdout",
     "output_type": "stream",
     "text": [
      "IN FLUXES     OUT FLUXES     OBJECTIVES\n",
      "------------  -------------  --------------\n",
      "glc__D_e  10  co2_e   14.1   DM_but_c  10.9\n",
      "o2_e       2  h2o_e   12.9\n",
      "              h_e     10.9\n",
      "              etoh_e   1.14\n"
     ]
    }
   ],
   "source": [
    "cerevisiaeMod3.optimize()\n",
    "cerevisiaeMod3.summary()"
   ]
  },
  {
   "cell_type": "markdown",
   "metadata": {},
   "source": [
    "## The optmal flux for butyrate production is using the prescribed reactions: "
   ]
  },
  {
   "cell_type": "code",
   "execution_count": 9,
   "metadata": {},
   "outputs": [
    {
     "name": "stdout",
     "output_type": "stream",
     "text": [
      "PRODUCING REACTIONS -- Butyrate (n-C4:0) (but_c)\n",
      "------------------------------------------------\n",
      "%       FLUX  RXN ID    REACTION\n",
      "----  ------  --------  ---------------------------------------\n",
      "100%    8.95  BCOAhydb  btcoa_c + h2o_c <=> but_c + coa_c + h_c\n",
      "\n",
      "CONSUMING REACTIONS -- Butyrate (n-C4:0) (but_c)\n",
      "------------------------------------------------\n",
      "%       FLUX  RXN ID    REACTION\n",
      "----  ------  --------  ---------------------------------------\n",
      "100%    8.95  DM_but_c  but_c -->\n"
     ]
    }
   ],
   "source": [
    "cerevisiaeMod1a.metabolites.but_c.summary()"
   ]
  },
  {
   "cell_type": "code",
   "execution_count": 10,
   "metadata": {},
   "outputs": [
    {
     "name": "stdout",
     "output_type": "stream",
     "text": [
      "PRODUCING REACTIONS -- Butanoyl-CoA (btcoa_c)\n",
      "---------------------------------------------\n",
      "%       FLUX  RXN ID    REACTION\n",
      "----  ------  --------  ------------------------------------------\n",
      "100%    8.95  ACOAD1b   b2coa_c + h_c + nadh_c <=> btcoa_c + nad_c\n",
      "\n",
      "CONSUMING REACTIONS -- Butanoyl-CoA (btcoa_c)\n",
      "---------------------------------------------\n",
      "%       FLUX  RXN ID    REACTION\n",
      "----  ------  --------  ------------------------------------------\n",
      "100%    8.95  BCOAhydb  btcoa_c + h2o_c <=> but_c + coa_c + h_c\n"
     ]
    }
   ],
   "source": [
    "cerevisiaeMod1a.metabolites.btcoa_c.summary()"
   ]
  },
  {
   "cell_type": "code",
   "execution_count": 11,
   "metadata": {},
   "outputs": [
    {
     "name": "stdout",
     "output_type": "stream",
     "text": [
      "PRODUCING REACTIONS -- Crotonoyl-CoA (b2coa_c)\n",
      "----------------------------------------------\n",
      "%       FLUX  RXN ID     REACTION\n",
      "----  ------  ---------  ------------------------------------------\n",
      "100%    8.95  HBCOAhydb  3hbcoa_c <=> b2coa_c + h2o_c\n",
      "\n",
      "CONSUMING REACTIONS -- Crotonoyl-CoA (b2coa_c)\n",
      "----------------------------------------------\n",
      "%       FLUX  RXN ID     REACTION\n",
      "----  ------  ---------  ------------------------------------------\n",
      "100%    8.95  ACOAD1b    b2coa_c + h_c + nadh_c <=> btcoa_c + nad_c\n"
     ]
    }
   ],
   "source": [
    "cerevisiaeMod1a.metabolites.b2coa_c.summary()"
   ]
  },
  {
   "cell_type": "markdown",
   "metadata": {},
   "source": [
    "# Optimal Biomass Production: "
   ]
  },
  {
   "cell_type": "code",
   "execution_count": 12,
   "metadata": {
    "collapsed": true
   },
   "outputs": [],
   "source": [
    "cerevisiaeMod1.objective = 'BIOMASS_SC5_notrace' \n",
    "cerevisiaeMod1a.objective = 'BIOMASS_SC5_notrace' \n",
    "cerevisiaeMod2.objective = 'BIOMASS_SC5_notrace' \n",
    "cerevisiaeMod3.objective = 'BIOMASS_SC5_notrace' "
   ]
  },
  {
   "cell_type": "code",
   "execution_count": 13,
   "metadata": {},
   "outputs": [
    {
     "name": "stdout",
     "output_type": "stream",
     "text": [
      "IN FLUXES          OUT FLUXES        OBJECTIVES\n",
      "-----------------  ----------------  ----------------------\n",
      "glc__D_e  10       co2_e   17.9      BIOMASS_SC5_...  0.291\n",
      "o2_e       2       etoh_e  15.7\n",
      "nh4_e      1.63    h2o_e    5.68\n",
      "pi_e       0.0576  h_e      1.54\n",
      "so4_e      0.0225  ac_e     0.0709\n",
      "                   for_e    0.00151\n"
     ]
    }
   ],
   "source": [
    "cerevisiaeMod1.optimize()\n",
    "cerevisiaeMod1.summary()"
   ]
  },
  {
   "cell_type": "code",
   "execution_count": 14,
   "metadata": {},
   "outputs": [
    {
     "name": "stdout",
     "output_type": "stream",
     "text": [
      "IN FLUXES          OUT FLUXES        OBJECTIVES\n",
      "-----------------  ----------------  ----------------------\n",
      "glc__D_e  10       co2_e   17.9      BIOMASS_SC5_...  0.291\n",
      "o2_e       2       etoh_e  15.7\n",
      "nh4_e      1.63    h2o_e    5.68\n",
      "pi_e       0.0576  h_e      1.54\n",
      "so4_e      0.0225  ac_e     0.0709\n",
      "                   for_e    0.00151\n"
     ]
    }
   ],
   "source": [
    "cerevisiaeMod1a.optimize()\n",
    "cerevisiaeMod1a.summary()"
   ]
  },
  {
   "cell_type": "code",
   "execution_count": 15,
   "metadata": {},
   "outputs": [
    {
     "name": "stdout",
     "output_type": "stream",
     "text": [
      "IN FLUXES          OUT FLUXES        OBJECTIVES\n",
      "-----------------  ----------------  --------------------\n",
      "glc__D_e  10       co2_e   17.2      BIOMASS_SC5_...  0.3\n",
      "o2_e       2       etoh_e  13.9\n",
      "nh4_e      1.68    h2o_e    6.85\n",
      "pi_e       0.0594  h_e      2.56\n",
      "so4_e      0.0232  for_e    0.00155\n"
     ]
    }
   ],
   "source": [
    "cerevisiaeMod2.optimize()\n",
    "cerevisiaeMod2.summary()"
   ]
  },
  {
   "cell_type": "code",
   "execution_count": 16,
   "metadata": {},
   "outputs": [
    {
     "name": "stdout",
     "output_type": "stream",
     "text": [
      "IN FLUXES          OUT FLUXES        OBJECTIVES\n",
      "-----------------  ----------------  ----------------------\n",
      "glc__D_e  10       co2_e   17.6      BIOMASS_SC5_...  0.293\n",
      "o2_e       2       etoh_e  14.9\n",
      "nh4_e      1.64    h2o_e    6.16\n",
      "pi_e       0.0579  h_e      2\n",
      "so4_e      0.0227  ac_e     0.0713\n",
      "                   for_e    0.00152\n"
     ]
    }
   ],
   "source": [
    "cerevisiaeMod3.optimize()\n",
    "cerevisiaeMod3.summary()"
   ]
  },
  {
   "cell_type": "markdown",
   "metadata": {},
   "source": [
    "# Multi-objective optimization\n",
    "\n",
    "https://cobrapy.readthedocs.io/en/latest/constraints_objectives.html\n",
    "\n",
    "Here the scalarization of the multi-objective problem where the biomass and butyrate production are maximized is solved: \n",
    "\n",
    "$$\n",
    "\\begin{equation*}\n",
    "\\begin{aligned}\n",
    "& \\underset{f}{\\text{maximize}}\n",
    "& &  f_{biomass} +  \\lambda \\ f_{but} \\\\\n",
    "& \\text{subject to}\n",
    "& & Sf = 0 \\\\\n",
    "&&& l_i \\leq f_i \\leq u_i, \\; i = 1, \\ldots, m.\n",
    "\\end{aligned}\n",
    "\\end{equation*}\n",
    "$$\n",
    "\n",
    "In the objective $biomass$ and $but$ are functions of the vector of flows $f$. The parameter $\\lambda$ controls the tradeoff between the biomass and the production of butyrate. \n",
    "\n"
   ]
  },
  {
   "cell_type": "code",
   "execution_count": 17,
   "metadata": {
    "collapsed": true
   },
   "outputs": [],
   "source": [
    "biomass = cerevisiaeMod2.reactions.BIOMASS_SC5_notrace.flux_expression\n",
    "but1 = cerevisiaeMod1.reactions.DM_but_c.flux_expression\n",
    "but1a = cerevisiaeMod1a.reactions.DM_but_c.flux_expression\n",
    "but2 = cerevisiaeMod2.reactions.DM_but_c.flux_expression\n",
    "but3 = cerevisiaeMod3.reactions.DM_but_c.flux_expression"
   ]
  },
  {
   "cell_type": "code",
   "execution_count": 18,
   "metadata": {
    "collapsed": true
   },
   "outputs": [],
   "source": [
    "# solution path:\n",
    "lams = np.arange(0, 0.07, 0.001)\n",
    "nlams = len(lams)\n",
    "\n",
    "buts1 = np.repeat(0.0, nlams)\n",
    "buts1a = np.repeat(0.0, nlams)\n",
    "buts2 = np.repeat(0.0, nlams)\n",
    "buts3 = np.repeat(0.0, nlams)\n",
    "\n",
    "biomasses1 = np.repeat(0.0, nlams)\n",
    "biomasses1a = np.repeat(0.0, nlams)\n",
    "biomasses2 = np.repeat(0.0, nlams)\n",
    "biomasses3 = np.repeat(0.0, nlams)\n",
    "\n",
    "\n",
    "for i, lam in enumerate(lams):\n",
    "    \n",
    "    biomass_but1 = cerevisiaeMod1.problem.Objective(biomass + lam*but1,\n",
    "    direction='max')\n",
    "    biomass_but1a = cerevisiaeMod1a.problem.Objective(biomass + lam*but1a,\n",
    "    direction='max')\n",
    "    biomass_but2 = cerevisiaeMod2.problem.Objective(biomass + lam*but2,\n",
    "    direction='max')\n",
    "    biomass_but3 = cerevisiaeMod3.problem.Objective(biomass + lam*but3,\n",
    "    direction='max')\n",
    "    \n",
    "    cerevisiaeMod1.objective = biomass_but1\n",
    "    cerevisiaeMod1a.objective = biomass_but1a\n",
    "    cerevisiaeMod2.objective = biomass_but2\n",
    "    cerevisiaeMod3.objective = biomass_but3\n",
    "    \n",
    "    solution1 = cerevisiaeMod1.optimize(objective_sense=None)\n",
    "    solution1a = cerevisiaeMod1a.optimize(objective_sense=None)\n",
    "    solution2 = cerevisiaeMod2.optimize(objective_sense=None)\n",
    "    solution3 = cerevisiaeMod3.optimize(objective_sense=None)\n",
    "    \n",
    "    buts1[i] = solution1.fluxes.DM_but_c\n",
    "    buts1a[i] = solution1a.fluxes.DM_but_c\n",
    "    buts2[i] = solution2.fluxes.DM_but_c\n",
    "    buts3[i] = solution3.fluxes.DM_but_c\n",
    "    \n",
    "    biomasses1[i] = solution1.fluxes.BIOMASS_SC5_notrace\n",
    "    biomasses1a[i] = solution1a.fluxes.BIOMASS_SC5_notrace\n",
    "    biomasses2[i] = solution2.fluxes.BIOMASS_SC5_notrace\n",
    "    biomasses3[i] = solution3.fluxes.BIOMASS_SC5_notrace\n",
    "    \n",
    "    "
   ]
  },
  {
   "cell_type": "markdown",
   "metadata": {},
   "source": [
    "## Some plots:"
   ]
  },
  {
   "cell_type": "code",
   "execution_count": 19,
   "metadata": {},
   "outputs": [
    {
     "data": {
      "image/png": "[encoded data removed]",
      "text/plain": [
       "<Figure size 432x288 with 2 Axes>"
      ]
     },
     "metadata": {
      "needs_background": "light"
     },
     "output_type": "display_data"
    }
   ],
   "source": [
    "ax1 = plt.subplot(2, 1, 1)\n",
    "box = ax1.get_position()\n",
    "ax1.set_position([box.x0, box.y0, box.width * 0.8, box.height])\n",
    "\n",
    "a = 0.8\n",
    "plt.plot(lams, buts1, label = 'mod 1', alpha = a)\n",
    "plt.plot(lams, buts1a, label = 'mod 1a', alpha = a)\n",
    "plt.plot(lams, buts2, label = 'mod 2', alpha = a)\n",
    "plt.plot(lams, buts3, label = 'mod 3', alpha = a)\n",
    "plt.ylabel('butyrate')\n",
    "\n",
    "ax1.legend(loc='center left', bbox_to_anchor=(1, 0.5))\n",
    "\n",
    "ax2 = plt.subplot(2, 1, 2)\n",
    "box2 = ax2.get_position()\n",
    "ax2.set_position([box2.x0, box2.y0, box2.width * 0.8, box2.height])\n",
    "\n",
    "plt.plot(lams, biomasses1, label = 'mod 1', alpha = a)\n",
    "plt.plot(lams, biomasses1a, label = 'mod 1a', alpha = a)\n",
    "plt.plot(lams, biomasses2, label = 'mod 2', alpha = a)\n",
    "plt.plot(lams, biomasses3, label = 'mod 3', alpha = a)\n",
    "plt.ylabel('biomass')\n",
    "plt.xlabel('$\\lambda$')\n",
    "\n",
    "plt.savefig('lambdaBioBut.png', format='png', dpi=500)\n",
    "plt.show()"
   ]
  },
  {
   "cell_type": "markdown",
   "metadata": {},
   "source": [
    "### Model 2 is consistenly better:\n",
    "\n",
    "The butyrate production is higher for any fixed biomass produciton. "
   ]
  },
  {
   "cell_type": "code",
   "execution_count": 72,
   "metadata": {},
   "outputs": [
    {
     "data": {
      "image/png": "[encoded data removed]",
      "text/plain": [
       "<Figure size 432x288 with 1 Axes>"
      ]
     },
     "metadata": {
      "needs_background": "light"
     },
     "output_type": "display_data"
    }
   ],
   "source": [
    "a = 0.8\n",
    "plt.plot(biomasses1, buts1, label = 'mod 1', alpha = a)\n",
    "plt.plot(biomasses1a, buts1a, label = 'mod 1a', alpha = a)\n",
    "plt.plot(biomasses2, buts2, label = 'mod 2', alpha = a)\n",
    "plt.plot(biomasses3, buts3, label = 'mod 3', alpha = a)\n",
    "plt.axhline(y=0, color='gray', linestyle='--')\n",
    "plt.axvline(x=0, color='gray', linestyle='--')\n",
    "\n",
    "\n",
    "plt.annotate(\n",
    "    '$( f_{biomass}  > 0 , \\ \\max \\  f_{but})$',\n",
    "    xy=(0.03, 11.5), arrowprops=dict(arrowstyle='->', connectionstyle=\"arc3,rad=0.1\"), \n",
    "    xytext=(0.08, 10.3))\n",
    "\n",
    "plt.annotate(\n",
    "    '$(\\max \\  f_{biomass}, \\ f_{but}  > 0) $',\n",
    "    xy=(0.3, 1), arrowprops=dict(arrowstyle='->', connectionstyle=\"arc3,rad=0.1\"), \n",
    "    xytext=(0.08, 2))\n",
    "\n",
    "\n",
    "plt.title('Biomass and Butyrate Production')\n",
    "plt.xlabel('biomass')\n",
    "plt.ylabel('butyrate')\n",
    "plt.legend()\n",
    "\n",
    "plt.savefig('lambdaAllModels.png', format='png', dpi=500)\n",
    "plt.show()"
   ]
  },
  {
   "cell_type": "markdown",
   "metadata": {},
   "source": [
    "## Butyrate consumption for biomass in models 2 and 3"
   ]
  },
  {
   "cell_type": "code",
   "execution_count": 21,
   "metadata": {
    "collapsed": true
   },
   "outputs": [],
   "source": [
    "lam = 0.06\n",
    "\n",
    "but2 = cerevisiaeMod2.reactions.DM_but_c.flux_expression\n",
    "but3 = cerevisiaeMod3.reactions.DM_but_c.flux_expression\n",
    "\n",
    "biomass_but2 = cerevisiaeMod2.problem.Objective(biomass + lam*but2,\n",
    "    direction='max')\n",
    "biomass_but3 = cerevisiaeMod3.problem.Objective(biomass + lam*but3,\n",
    "    direction='max')\n",
    "\n",
    "cerevisiaeMod2.objective = biomass_but2\n",
    "cerevisiaeMod3.objective = biomass_but3"
   ]
  },
  {
   "cell_type": "code",
   "execution_count": 22,
   "metadata": {
    "collapsed": true
   },
   "outputs": [],
   "source": [
    "solution2 = cerevisiaeMod2.optimize(objective_sense=None)\n",
    "solution3 = cerevisiaeMod3.optimize(objective_sense=None)"
   ]
  },
  {
   "cell_type": "code",
   "execution_count": 23,
   "metadata": {},
   "outputs": [
    {
     "name": "stdout",
     "output_type": "stream",
     "text": [
      "PRODUCING REACTIONS -- Succinate (succ_c)\n",
      "-----------------------------------------\n",
      "%    FLUX    RXN ID    REACTION\n",
      "---  ------  --------  ----------\n",
      "\n",
      "\n",
      "CONSUMING REACTIONS -- Succinate (succ_c)\n",
      "-----------------------------------------\n",
      "%    FLUX    RXN ID    REACTION\n",
      "---  ------  --------  ----------\n",
      "\n"
     ]
    }
   ],
   "source": [
    "cerevisiaeMod2.metabolites.succ_c.summary()  "
   ]
  },
  {
   "cell_type": "code",
   "execution_count": 24,
   "metadata": {},
   "outputs": [
    {
     "name": "stdout",
     "output_type": "stream",
     "text": [
      "IN FLUXES           OUT FLUXES    OBJECTIVES\n",
      "------------------  ------------  -----------------------\n",
      "glc__D_e  10        h2o_e  13.8   BIOMASS_SC5_...  0.0302\n",
      "o2_e       2        co2_e  13.4   DM_but_c         0.683\n",
      "nh4_e      0.169    h_e    11.5\n",
      "pi_e       0.00597  but_c  11.4\n",
      "so4_e      0.00233\n"
     ]
    }
   ],
   "source": [
    "cerevisiaeMod2.summary()"
   ]
  },
  {
   "cell_type": "code",
   "execution_count": 25,
   "metadata": {},
   "outputs": [
    {
     "name": "stdout",
     "output_type": "stream",
     "text": [
      "IN FLUXES     OUT FLUXES     OBJECTIVES\n",
      "------------  -------------  ----------------------\n",
      "glc__D_e  10  co2_e   14.1   BIOMASS_SC5_...  0\n",
      "o2_e       2  h2o_e   12.9   DM_but_c         0.655\n",
      "              but_c   10.9\n",
      "              h_e     10.9\n",
      "              etoh_e   1.14\n"
     ]
    }
   ],
   "source": [
    "cerevisiaeMod3.summary()"
   ]
  },
  {
   "cell_type": "code",
   "execution_count": 26,
   "metadata": {},
   "outputs": [
    {
     "name": "stdout",
     "output_type": "stream",
     "text": [
      "PRODUCING REACTIONS -- Butyrate (n-C4:0) (but_c)\n",
      "------------------------------------------------\n",
      "%       FLUX  RXN ID      REACTION\n",
      "----  ------  ----------  -------------------------------------------------\n",
      "100%    11.4  FACOAL40ib  atp_c + but_c + coa_c <=> amp_c + btcoa_c + ppi_c\n",
      "\n",
      "CONSUMING REACTIONS -- Butyrate (n-C4:0) (but_c)\n",
      "------------------------------------------------\n",
      "%       FLUX  RXN ID      REACTION\n",
      "----  ------  ----------  -------------------------------------------------\n",
      "100%    11.4  DM_but_c    but_c -->\n"
     ]
    }
   ],
   "source": [
    "cerevisiaeMod2.metabolites.but_c.summary()"
   ]
  },
  {
   "cell_type": "code",
   "execution_count": 27,
   "metadata": {},
   "outputs": [
    {
     "name": "stdout",
     "output_type": "stream",
     "text": [
      "PRODUCING REACTIONS -- Butanoyl-CoA (btcoa_c)\n",
      "---------------------------------------------\n",
      "%       FLUX  RXN ID      REACTION\n",
      "----  ------  ----------  -------------------------------------------------\n",
      "100%    11.4  ACOAD1b     b2coa_c + h_c + nadh_c <=> btcoa_c + nad_c\n",
      "\n",
      "CONSUMING REACTIONS -- Butanoyl-CoA (btcoa_c)\n",
      "---------------------------------------------\n",
      "%       FLUX  RXN ID      REACTION\n",
      "----  ------  ----------  -------------------------------------------------\n",
      "100%    11.4  FACOAL40ib  atp_c + but_c + coa_c <=> amp_c + btcoa_c + ppi_c\n"
     ]
    }
   ],
   "source": [
    "cerevisiaeMod2.metabolites.btcoa_c.summary()"
   ]
  },
  {
   "cell_type": "code",
   "execution_count": 28,
   "metadata": {},
   "outputs": [
    {
     "name": "stdout",
     "output_type": "stream",
     "text": [
      "PRODUCING REACTIONS -- Crotonoyl-CoA (b2coa_c)\n",
      "----------------------------------------------\n",
      "%       FLUX  RXN ID     REACTION\n",
      "----  ------  ---------  ------------------------------------------\n",
      "100%    11.4  HBCOAhydb  3hbcoa_c <=> b2coa_c + h2o_c\n",
      "\n",
      "CONSUMING REACTIONS -- Crotonoyl-CoA (b2coa_c)\n",
      "----------------------------------------------\n",
      "%       FLUX  RXN ID     REACTION\n",
      "----  ------  ---------  ------------------------------------------\n",
      "100%    11.4  ACOAD1b    b2coa_c + h_c + nadh_c <=> btcoa_c + nad_c\n"
     ]
    }
   ],
   "source": [
    "cerevisiaeMod2.metabolites.b2coa_c.summary()"
   ]
  },
  {
   "cell_type": "code",
   "execution_count": 29,
   "metadata": {},
   "outputs": [
    {
     "name": "stdout",
     "output_type": "stream",
     "text": [
      "PRODUCING REACTIONS -- (R)-3-Hydroxybutyryl-CoA (3hbcoa_c)\n",
      "----------------------------------------------------------\n",
      "%       FLUX  RXN ID     REACTION\n",
      "----  ------  ---------  -------------------------------------------\n",
      "100%    11.4  AvAARb     aacoa_c + h_c + nadh_c <=> 3hbcoa_c + nad_c\n",
      "\n",
      "CONSUMING REACTIONS -- (R)-3-Hydroxybutyryl-CoA (3hbcoa_c)\n",
      "----------------------------------------------------------\n",
      "%       FLUX  RXN ID     REACTION\n",
      "----  ------  ---------  -------------------------------------------\n",
      "100%    11.4  HBCOAhydb  3hbcoa_c <=> b2coa_c + h2o_c\n"
     ]
    }
   ],
   "source": [
    "cerevisiaeMod2.metabolites.get_by_id('3hbcoa_c').summary()"
   ]
  },
  {
   "cell_type": "code",
   "execution_count": 30,
   "metadata": {},
   "outputs": [
    {
     "name": "stdout",
     "output_type": "stream",
     "text": [
      "PRODUCING REACTIONS -- Acetoacetyl-CoA (aacoa_c)\n",
      "------------------------------------------------\n",
      "%       FLUX  RXN ID    REACTION\n",
      "----  ------  --------  --------------------------------------------------\n",
      "66%     7.54  ACACT1b   2.0 accoa_c <=> aacoa_c + coa_c\n",
      "34%     3.84  HMGCOAS   coa_c + h_c + hmgcoa_c <=> aacoa_c + accoa_c + ...\n",
      "\n",
      "CONSUMING REACTIONS -- Acetoacetyl-CoA (aacoa_c)\n",
      "------------------------------------------------\n",
      "%       FLUX  RXN ID    REACTION\n",
      "----  ------  --------  --------------------------------------------------\n",
      "100%   11.4   AvAARb    aacoa_c + h_c + nadh_c <=> 3hbcoa_c + nad_c\n"
     ]
    }
   ],
   "source": [
    "cerevisiaeMod2.metabolites.aacoa_c.summary()"
   ]
  },
  {
   "cell_type": "code",
   "execution_count": 31,
   "metadata": {},
   "outputs": [
    {
     "name": "stdout",
     "output_type": "stream",
     "text": [
      "PRODUCING REACTIONS -- Acetyl-CoA (accoa_c)\n",
      "-------------------------------------------\n",
      "%       FLUX  RXN ID    REACTION\n",
      "----  ------  --------  --------------------------------------------------\n",
      "75%   11.3    ACS       ac_c + atp_c + coa_c --> accoa_c + amp_c + ppi_c\n",
      "25%    3.84   HMGCOAS   coa_c + h_c + hmgcoa_c <=> aacoa_c + accoa_c + ...\n",
      "\n",
      "CONSUMING REACTIONS -- Acetyl-CoA (accoa_c)\n",
      "-------------------------------------------\n",
      "%       FLUX  RXN ID    REACTION\n",
      "----  ------  --------  --------------------------------------------------\n",
      "100%  15.1    ACACT1b   2.0 accoa_c <=> aacoa_c + coa_c\n",
      "0%     0.012  ACCOAC    accoa_c + atp_c + hco3_c <=> adp_c + h_c + malc...\n"
     ]
    }
   ],
   "source": [
    "cerevisiaeMod2.metabolites.accoa_c.summary()"
   ]
  },
  {
   "cell_type": "code",
   "execution_count": 32,
   "metadata": {},
   "outputs": [
    {
     "name": "stdout",
     "output_type": "stream",
     "text": [
      "PRODUCING REACTIONS -- D-Glucose (glc__D_e)\n",
      "-------------------------------------------\n",
      "%       FLUX  RXN ID      REACTION\n",
      "----  ------  ----------  ---------------------\n",
      "100%      10  EX_glc_...  glc__D_e <=>\n",
      "\n",
      "CONSUMING REACTIONS -- D-Glucose (glc__D_e)\n",
      "-------------------------------------------\n",
      "%       FLUX  RXN ID      REACTION\n",
      "----  ------  ----------  ---------------------\n",
      "100%      10  GLCt1       glc__D_e --> glc__D_c\n"
     ]
    }
   ],
   "source": [
    "cerevisiaeMod2.metabolites.glc__D_e.summary()"
   ]
  },
  {
   "cell_type": "code",
   "execution_count": 33,
   "metadata": {},
   "outputs": [
    {
     "data": {
      "text/html": [
       "\n",
       "        <table>\n",
       "            <tr>\n",
       "                <td><strong>Reaction identifier</strong></td><td>EX_o2_e</td>\n",
       "            </tr><tr>\n",
       "                <td><strong>Name</strong></td><td>O2 exchange</td>\n",
       "            </tr><tr>\n",
       "                <td><strong>Memory address</strong></td>\n",
       "                <td>0x0a9356b24a8</td>\n",
       "            </tr><tr>\n",
       "                <td><strong>Stoichiometry</strong></td>\n",
       "                <td>\n",
       "                    <p style='text-align:right'>o2_e <=> </p>\n",
       "                    <p style='text-align:right'>O2 O2 <=> </p>\n",
       "                </td>\n",
       "            </tr><tr>\n",
       "                <td><strong>GPR</strong></td><td></td>\n",
       "            </tr><tr>\n",
       "                <td><strong>Lower bound</strong></td><td>-2.0</td>\n",
       "            </tr><tr>\n",
       "                <td><strong>Upper bound</strong></td><td>999999.0</td>\n",
       "            </tr>\n",
       "        </table>\n",
       "        "
      ],
      "text/plain": [
       "<Reaction EX_o2_e at 0xa9356b24a8>"
      ]
     },
     "execution_count": 33,
     "metadata": {},
     "output_type": "execute_result"
    }
   ],
   "source": [
    "cerevisiaeMod2.reactions.EX_o2_e"
   ]
  },
  {
   "cell_type": "markdown",
   "metadata": {},
   "source": [
    "## Drawing the model escher: \n",
    "\n",
    "https://cnls.lanl.gov/external/qbio2018/Slides/FBA%202/qBio-FBA-lab-slides.pdf"
   ]
  },
  {
   "cell_type": "code",
   "execution_count": 36,
   "metadata": {
    "collapsed": true
   },
   "outputs": [],
   "source": [
    "Mod1 = cobra.io.load_json_model('./COBRA models/butyrate production/cerevisiaeMod1.json')\n",
    "Mod1a = cobra.io.load_json_model('./COBRA models/butyrate production/cerevisiaeMod1a.json')\n",
    "Mod2 = cobra.io.load_json_model('./COBRA models/butyrate production/cerevisiaeMod2.json')\n",
    "Mod3 = cobra.io.load_json_model('./COBRA models/butyrate production/cerevisiaeMod3.json')"
   ]
  },
  {
   "cell_type": "code",
   "execution_count": 42,
   "metadata": {
    "collapsed": true
   },
   "outputs": [],
   "source": [
    "def escherDF(model, lam, name):\n",
    "    \n",
    "    modelCopy = model.copy()\n",
    "    \n",
    "    biomass = modelCopy.reactions.BIOMASS_SC5_notrace.flux_expression\n",
    "    but = modelCopy.reactions.DM_but_c.flux_expression\n",
    "    \n",
    "    biomass_but = modelCopy.problem.Objective(biomass + lam*but, direction='max')\n",
    "    modelCopy.objective = biomass_but\n",
    "    \n",
    "    solution = modelCopy.optimize(objective_sense=None)\n",
    "    \n",
    "    df = pd.DataFrame.from_dict([solution.x_dict]).T\n",
    "    df.to_csv( name + '.csv')\n",
    "    \n"
   ]
  },
  {
   "cell_type": "code",
   "execution_count": 44,
   "metadata": {
    "collapsed": true
   },
   "outputs": [],
   "source": [
    "escherDF(Mod1, 0.02, 'mod1_0.02')"
   ]
  }
 ],
 "metadata": {
  "kernelspec": {
   "display_name": "Python 3",
   "language": "python",
   "name": "python3"
  },
  "language_info": {
   "codemirror_mode": {
    "name": "ipython",
    "version": 3
   },
   "file_extension": ".py",
   "mimetype": "text/x-python",
   "name": "python",
   "nbconvert_exporter": "python",
   "pygments_lexer": "ipython3",
   "version": "3.6.2"
  }
 },
 "nbformat": 4,
 "nbformat_minor": 2
}
