{
 "cells": [
  {
   "cell_type": "code",
   "execution_count": 1,
   "metadata": {
    "collapsed": true
   },
   "outputs": [],
   "source": [
    "import cobra\n",
    "import matplotlib.pylab as plt\n",
    "import numpy as np\n",
    "import pandas as pd"
   ]
  },
  {
   "cell_type": "code",
   "execution_count": 2,
   "metadata": {
    "collapsed": true
   },
   "outputs": [],
   "source": [
    "mod1 = cobra.io.load_json_model('./cerevisiaeMod1.json')\n",
    "mod1a = cobra.io.load_json_model('./cerevisiaeMod1a.json')\n",
    "mod2 = cobra.io.load_json_model('./cerevisiaeMod2.json')\n",
    "mod3 = cobra.io.load_json_model('./cerevisiaeMod3.json')"
   ]
  },
  {
   "cell_type": "code",
   "execution_count": 63,
   "metadata": {
    "collapsed": true
   },
   "outputs": [],
   "source": [
    "def escherDF(model, lam, name):\n",
    "    \n",
    "    modelCopy = model.copy()\n",
    "    \n",
    "    biomass = modelCopy.reactions.BIOMASS_SC5_notrace.flux_expression\n",
    "    but = modelCopy.reactions.DM_but_c.flux_expression\n",
    "    \n",
    "    biomass_but = modelCopy.problem.Objective(biomass + lam*but, direction='max')\n",
    "    modelCopy.objective = biomass_but\n",
    "    \n",
    "    solution = modelCopy.optimize(objective_sense=None)\n",
    "    \n",
    "    df = pd.DataFrame.from_dict([solution.fluxes]).T\n",
    "    df.to_csv( name + '.csv')\n",
    "    \n",
    "    return(solution)"
   ]
  },
  {
   "cell_type": "markdown",
   "metadata": {},
   "source": [
    "Two different regimes for each model: \n",
    "\n",
    "- 100% butyrate production\n",
    "- 50% butyrate production\n",
    "\n",
    "For models 2 and 3 the 100% biomass production regime is studied because these produce butyrate when biomass is optimized. \n",
    "\n",
    "<img src=\"./plots/lambdaBioBut.png\">"
   ]
  },
  {
   "cell_type": "code",
   "execution_count": 5,
   "metadata": {
    "collapsed": true
   },
   "outputs": [],
   "source": [
    "def solPath(lams, model, biomass, but):\n",
    "    \n",
    "    modelCopy = model.copy()\n",
    "    \n",
    "    nlams = len(lams)\n",
    "\n",
    "    buts = np.repeat(0.0, nlams)\n",
    "    biomasses = np.repeat(0.0, nlams)\n",
    "\n",
    "\n",
    "    for i, lam in enumerate(lams):\n",
    "\n",
    "        biomass_but = modelCopy.problem.Objective(biomass + lam*but, direction='max')\n",
    "\n",
    "        modelCopy.objective = biomass_but\n",
    "\n",
    "        solution = modelCopy.optimize(objective_sense=None)\n",
    "\n",
    "        buts[i] = solution.fluxes.DM_but_c\n",
    "\n",
    "        biomasses[i] = solution.fluxes.BIOMASS_SC5_notrace  \n",
    "        \n",
    "    return({'buts' : buts, 'biomasses' : biomasses})\n",
    "    "
   ]
  },
  {
   "cell_type": "code",
   "execution_count": 6,
   "metadata": {
    "collapsed": true
   },
   "outputs": [],
   "source": [
    "lams = np.arange(0, 0.07, 0.001)"
   ]
  },
  {
   "cell_type": "code",
   "execution_count": 7,
   "metadata": {
    "collapsed": true
   },
   "outputs": [],
   "source": [
    "biomass = mod1.reactions.BIOMASS_SC5_notrace.flux_expression\n",
    "but = mod1.reactions.DM_but_c.flux_expression\n",
    "pathMod1= solPath(lams, mod1, biomass, but)"
   ]
  },
  {
   "cell_type": "code",
   "execution_count": 8,
   "metadata": {
    "collapsed": true
   },
   "outputs": [],
   "source": [
    "biomass = mod1a.reactions.BIOMASS_SC5_notrace.flux_expression\n",
    "but = mod1a.reactions.DM_but_c.flux_expression\n",
    "pathMod1a= solPath(lams, mod1a, biomass, but)"
   ]
  },
  {
   "cell_type": "code",
   "execution_count": 9,
   "metadata": {
    "collapsed": true
   },
   "outputs": [],
   "source": [
    "biomass = mod2.reactions.BIOMASS_SC5_notrace.flux_expression\n",
    "but = mod2.reactions.DM_but_c.flux_expression\n",
    "pathMod2= solPath(lams, mod2, biomass, but)"
   ]
  },
  {
   "cell_type": "code",
   "execution_count": 10,
   "metadata": {
    "collapsed": true
   },
   "outputs": [],
   "source": [
    "biomass = mod3.reactions.BIOMASS_SC5_notrace.flux_expression\n",
    "but = mod3.reactions.DM_but_c.flux_expression\n",
    "pathMod3= solPath(lams, mod3, biomass, but)"
   ]
  },
  {
   "cell_type": "code",
   "execution_count": 37,
   "metadata": {},
   "outputs": [
    {
     "data": {
      "text/plain": [
       "array([0.   , 0.001, 0.002, 0.003, 0.004, 0.005, 0.006, 0.007, 0.008,\n",
       "       0.009, 0.01 , 0.011, 0.012, 0.013, 0.014, 0.015, 0.016, 0.017,\n",
       "       0.018, 0.019, 0.02 , 0.021, 0.022, 0.023, 0.024, 0.025, 0.026,\n",
       "       0.027, 0.028, 0.029, 0.03 , 0.031, 0.032, 0.033, 0.034, 0.035,\n",
       "       0.036, 0.037, 0.038, 0.039, 0.04 , 0.041, 0.042, 0.043, 0.044,\n",
       "       0.045, 0.046, 0.047, 0.048, 0.049, 0.05 , 0.051, 0.052, 0.053,\n",
       "       0.054, 0.055, 0.056, 0.057, 0.058, 0.059, 0.06 , 0.061, 0.062,\n",
       "       0.063, 0.064, 0.065, 0.066, 0.067, 0.068, 0.069])"
      ]
     },
     "execution_count": 37,
     "metadata": {},
     "output_type": "execute_result"
    }
   ],
   "source": [
    "lams"
   ]
  },
  {
   "cell_type": "code",
   "execution_count": 32,
   "metadata": {},
   "outputs": [],
   "source": [
    "def lamPercentage(path, p):\n",
    "    \n",
    "    index = np.argmin(np.abs(path['buts'] - max(path['buts'])*p))\n",
    "    \n",
    "    return(lams[index])\n"
   ]
  },
  {
   "cell_type": "code",
   "execution_count": 64,
   "metadata": {},
   "outputs": [],
   "source": [
    "l50Mod1 = lamPercentage(pathMod1, 0.5)\n",
    "l100Mod1 = lamPercentage(pathMod1, 1)\n",
    "\n",
    "soll50Mod1 = escherDF(mod1, l50Mod1, 'mod1_b50')\n",
    "soll100Mod1 = escherDF(mod1, l100Mod1, 'mod1_b100')"
   ]
  },
  {
   "cell_type": "code",
   "execution_count": 65,
   "metadata": {},
   "outputs": [],
   "source": [
    "l50Mod1a = lamPercentage(pathMod1a, 0.5)\n",
    "l100Mod1a = lamPercentage(pathMod1a, 1)\n",
    "\n",
    "soll50Mod1a = escherDF(mod1a, l50Mod1a, 'mod1a_b50')\n",
    "soll100Mod1a = escherDF(mod1a, l100Mod1a, 'mod1a_b100')"
   ]
  },
  {
   "cell_type": "code",
   "execution_count": 66,
   "metadata": {
    "collapsed": true
   },
   "outputs": [],
   "source": [
    "l50Mod2 = lamPercentage(pathMod2, 0.5)\n",
    "l100Mod2 = lamPercentage(pathMod2, 1)\n",
    "\n",
    "solBioMod2 = escherDF(mod2, 0, 'mod2_biomass')\n",
    "soll50Mod2 = escherDF(mod2, l50Mod2, 'mod2_b50')\n",
    "soll100Mod2 = escherDF(mod2, l100Mod2, 'mod2_b100')"
   ]
  },
  {
   "cell_type": "code",
   "execution_count": 67,
   "metadata": {},
   "outputs": [],
   "source": [
    "l50Mod3 = lamPercentage(pathMod3, 0.5)\n",
    "l100Mod3 = lamPercentage(pathMod3, 1)\n",
    "\n",
    "solBioMod3 = escherDF(mod3, 0, 'mod3_biomass')\n",
    "soll50Mod3 = escherDF(mod3, l50Mod2, 'mod3_b50')\n",
    "soll100Mod3 = escherDF(mod3, l100Mod2, 'mod3_b100')"
   ]
  },
  {
   "cell_type": "markdown",
   "metadata": {},
   "source": [
    "## Flux differences"
   ]
  },
  {
   "cell_type": "code",
   "execution_count": 102,
   "metadata": {},
   "outputs": [],
   "source": [
    "dfMod2 = pd.DataFrame.from_dict([solBioMod2.fluxes, soll50Mod2.fluxes, soll100Mod2.fluxes]).T\n",
    "dfMod2.columns = [\"biomass\", \"but50\", \"but100\"]\n",
    "\n",
    "dfMod2['absDiff_bio_but50'] = np.abs(dfMod2['biomass'] - dfMod2['but50'])"
   ]
  },
  {
   "cell_type": "code",
   "execution_count": 114,
   "metadata": {},
   "outputs": [
    {
     "data": {
      "image/png": "[encoded data removed]",
      "text/plain": [
       "<Figure size 432x288 with 1 Axes>"
      ]
     },
     "metadata": {
      "needs_background": "light"
     },
     "output_type": "display_data"
    }
   ],
   "source": [
    "bins = np.linspace(-20, 20, 100)\n",
    "plt.hist(solBioMod3.fluxes, bins, alpha=0.5, label='biomass')\n",
    "plt.hist(soll50Mod3.fluxes, bins, alpha=0.5, label='50% but. prod.')\n",
    "plt.hist(soll50Mod3.fluxes, bins, alpha=0.5, label='100% but. prod.')\n",
    "plt.legend(loc='upper right')\n",
    "plt.show()"
   ]
  }
 ],
 "metadata": {
  "kernelspec": {
   "display_name": "Python 3",
   "language": "python",
   "name": "python3"
  },
  "language_info": {
   "codemirror_mode": {
    "name": "ipython",
    "version": 3
   },
   "file_extension": ".py",
   "mimetype": "text/x-python",
   "name": "python",
   "nbconvert_exporter": "python",
   "pygments_lexer": "ipython3",
   "version": "3.6.2"
  }
 },
 "nbformat": 4,
 "nbformat_minor": 2
}
