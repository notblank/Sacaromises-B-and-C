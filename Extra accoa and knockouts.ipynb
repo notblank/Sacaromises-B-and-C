{
 "cells": [
  {
   "cell_type": "code",
   "execution_count": 70,
   "metadata": {
    "collapsed": true
   },
   "outputs": [],
   "source": [
    "import cobra\n",
    "import matplotlib.pylab as plt\n",
    "import numpy as np"
   ]
  },
  {
   "cell_type": "code",
   "execution_count": 71,
   "metadata": {
    "collapsed": true
   },
   "outputs": [],
   "source": [
    "mod1 = cobra.io.load_json_model('./cerevisiaeMod1.json')\n",
    "mod1a = cobra.io.load_json_model('./cerevisiaeMod1a.json')\n",
    "mod2 = cobra.io.load_json_model('./cerevisiaeMod2.json')\n",
    "mod3 = cobra.io.load_json_model('./cerevisiaeMod3.json')"
   ]
  },
  {
   "cell_type": "code",
   "execution_count": 72,
   "metadata": {
    "collapsed": true
   },
   "outputs": [],
   "source": [
    "mod1accoa = cobra.io.load_json_model('./cerevisiaeMod1accoa.json')\n",
    "mod1aAccoa = cobra.io.load_json_model('./cerevisiaeMod1aAccoa.json')\n",
    "mod2accoa = cobra.io.load_json_model('./cerevisiaeMod2accoa.json')\n",
    "mod3accoa = cobra.io.load_json_model('./cerevisiaeMod3accoa.json')"
   ]
  },
  {
   "cell_type": "code",
   "execution_count": 73,
   "metadata": {},
   "outputs": [
    {
     "name": "stdout",
     "output_type": "stream",
     "text": [
      "mod1: 1583 mod1a: 1583 mod2: 1583 mod3: 1584\n"
     ]
    }
   ],
   "source": [
    "print('mod1:', len(mod1.reactions), 'mod1a:', len(mod1a.reactions), \n",
    "      'mod2:', len(mod2.reactions), 'mod3:', len(mod3.reactions))"
   ]
  },
  {
   "cell_type": "code",
   "execution_count": 74,
   "metadata": {},
   "outputs": [
    {
     "name": "stdout",
     "output_type": "stream",
     "text": [
      "mod1 +: 1585 mod1a +: 1585 mod2 +: 1585 mod3 +: 1586\n"
     ]
    }
   ],
   "source": [
    "print('mod1 +:', len(mod1accoa.reactions), 'mod1a +:', len(mod1aAccoa.reactions), \n",
    "      'mod2 +:', len(mod2accoa.reactions), 'mod3 +:', len(mod3accoa.reactions))"
   ]
  },
  {
   "cell_type": "markdown",
   "metadata": {
    "collapsed": true
   },
   "source": [
    "## New reactions:\n",
    "\n",
    "The objective is to analize the effect of adding the following two reactions: \n",
    "\n",
    "\n",
    "- ME2: $ atp_c + cit_c + coa_c → accoa_c + adp_c + oaa_c + pi_c $\n",
    "- ACITL: $ mal_{L_c} + nadp_c \\leftrightarrow co2_c + nadph_c + pyr_c$\n",
    "\n",
    "for\n",
    "\n",
    "$$\n",
    "\\begin{equation*}\n",
    "\\begin{aligned}\n",
    "& \\underset{f}{\\text{maximize}}\n",
    "& &  f_{biomass} +  \\lambda \\ f_{but} \\\\\n",
    "& \\text{subject to}\n",
    "& & Sf = 0 \\\\\n",
    "&&& l_i \\leq f_i \\leq u_i, \\; i = 1, \\ldots, m.\n",
    "\\end{aligned}\n",
    "\\end{equation*}\n",
    "$$"
   ]
  },
  {
   "cell_type": "code",
   "execution_count": 77,
   "metadata": {
    "collapsed": true
   },
   "outputs": [],
   "source": [
    "def solPath(lams, model, biomass, but):\n",
    "    \n",
    "    modelCopy = model.copy()\n",
    "    \n",
    "    nlams = len(lams)\n",
    "\n",
    "    buts = np.repeat(0.0, nlams)\n",
    "    biomasses = np.repeat(0.0, nlams)\n",
    "\n",
    "\n",
    "    for i, lam in enumerate(lams):\n",
    "\n",
    "        biomass_but = modelCopy.problem.Objective(biomass + lam*but, direction='max')\n",
    "\n",
    "        modelCopy.objective = biomass_but\n",
    "\n",
    "        solution = modelCopy.optimize(objective_sense=None)\n",
    "\n",
    "        buts[i] = solution.fluxes.DM_but_c\n",
    "\n",
    "        biomasses[i] = solution.fluxes.BIOMASS_SC5_notrace  \n",
    "        \n",
    "    return({'buts' : buts, 'biomasses' : biomasses})\n",
    "    "
   ]
  },
  {
   "cell_type": "code",
   "execution_count": 76,
   "metadata": {
    "collapsed": true
   },
   "outputs": [],
   "source": [
    "lams = np.arange(0, 0.07, 0.001)"
   ]
  },
  {
   "cell_type": "code",
   "execution_count": 78,
   "metadata": {
    "collapsed": true
   },
   "outputs": [],
   "source": [
    "biomass = mod1.reactions.BIOMASS_SC5_notrace.flux_expression\n",
    "but = mod1.reactions.DM_but_c.flux_expression\n",
    "pathMod1= solPath(lams, mod1, biomass, but)"
   ]
  },
  {
   "cell_type": "code",
   "execution_count": 79,
   "metadata": {
    "collapsed": true
   },
   "outputs": [],
   "source": [
    "biomass = mod1accoa.reactions.BIOMASS_SC5_notrace.flux_expression\n",
    "but = mod1accoa.reactions.DM_but_c.flux_expression\n",
    "pathMod1Plus= solPath(lams, mod1accoa, biomass, but)"
   ]
  },
  {
   "cell_type": "code",
   "execution_count": 80,
   "metadata": {
    "collapsed": true
   },
   "outputs": [],
   "source": [
    "biomass = mod1a.reactions.BIOMASS_SC5_notrace.flux_expression\n",
    "but = mod1a.reactions.DM_but_c.flux_expression\n",
    "pathMod1a= solPath(lams, mod1a, biomass, but)"
   ]
  },
  {
   "cell_type": "code",
   "execution_count": 81,
   "metadata": {
    "collapsed": true
   },
   "outputs": [],
   "source": [
    "biomass = mod1aAccoa.reactions.BIOMASS_SC5_notrace.flux_expression\n",
    "but = mod1aAccoa.reactions.DM_but_c.flux_expression\n",
    "pathMod1aPlus= solPath(lams, mod1aAccoa, biomass, but)"
   ]
  },
  {
   "cell_type": "code",
   "execution_count": 243,
   "metadata": {
    "collapsed": true
   },
   "outputs": [],
   "source": [
    "biomass = mod2.reactions.BIOMASS_SC5_notrace.flux_expression\n",
    "but = mod2.reactions.DM_but_c.flux_expression\n",
    "pathMod2= solPath(lams, mod2, biomass, but)"
   ]
  },
  {
   "cell_type": "code",
   "execution_count": 83,
   "metadata": {
    "collapsed": true
   },
   "outputs": [],
   "source": [
    "biomass = mod2accoa.reactions.BIOMASS_SC5_notrace.flux_expression\n",
    "but = mod2accoa.reactions.DM_but_c.flux_expression\n",
    "pathMod2Plus= solPath(lams, mod2accoa, biomass, but)"
   ]
  },
  {
   "cell_type": "code",
   "execution_count": 84,
   "metadata": {
    "collapsed": true
   },
   "outputs": [],
   "source": [
    "biomass = mod3.reactions.BIOMASS_SC5_notrace.flux_expression\n",
    "but = mod3.reactions.DM_but_c.flux_expression\n",
    "pathMod3= solPath(lams, mod3, biomass, but)"
   ]
  },
  {
   "cell_type": "code",
   "execution_count": 96,
   "metadata": {
    "collapsed": true
   },
   "outputs": [],
   "source": [
    "biomass = mod3accoa.reactions.BIOMASS_SC5_notrace.flux_expression\n",
    "but = mod3accoa.reactions.DM_but_c.flux_expression\n",
    "pathMod3Plus= solPath(lams, mod3accoa, biomass, but)"
   ]
  },
  {
   "cell_type": "markdown",
   "metadata": {},
   "source": [
    "### Some plots\n",
    "\n",
    "Slight improvement in biomass and butyrate production. "
   ]
  },
  {
   "cell_type": "code",
   "execution_count": 104,
   "metadata": {},
   "outputs": [
    {
     "data": {
      "image/png": "[encoded data removed]",
      "text/plain": [
       "<matplotlib.figure.Figure at 0x5881efd7f0>"
      ]
     },
     "metadata": {},
     "output_type": "display_data"
    }
   ],
   "source": [
    "plt.plot(pathMod1['buts'], pathMod1['biomasses'], label = 'mod 1')\n",
    "plt.plot(pathMod1Plus['buts'], pathMod1Plus['biomasses'], label = 'mod 1 Plus')\n",
    "plt.legend()\n",
    "plt.ylabel('biomass')\n",
    "plt.xlabel('butyrate')\n",
    "plt.show()"
   ]
  },
  {
   "cell_type": "code",
   "execution_count": 103,
   "metadata": {},
   "outputs": [
    {
     "data": {
      "image/png": "[encoded data removed]",
      "text/plain": [
       "<matplotlib.figure.Figure at 0x58fec60828>"
      ]
     },
     "metadata": {},
     "output_type": "display_data"
    }
   ],
   "source": [
    "plt.plot(pathMod1a['buts'], pathMod1a['biomasses'], label = 'mod 1a')\n",
    "plt.plot(pathMod1aPlus['buts'], pathMod1aPlus['biomasses'], label = 'mod 1a Plus')\n",
    "plt.legend()\n",
    "plt.ylabel('biomass')\n",
    "plt.xlabel('butyrate')\n",
    "plt.show()"
   ]
  },
  {
   "cell_type": "code",
   "execution_count": 102,
   "metadata": {},
   "outputs": [
    {
     "data": {
      "image/png": "[encoded data removed]",
      "text/plain": [
       "<matplotlib.figure.Figure at 0x5881efd908>"
      ]
     },
     "metadata": {},
     "output_type": "display_data"
    }
   ],
   "source": [
    "plt.plot(pathMod2['buts'], pathMod2['biomasses'], label = 'mod 2')\n",
    "plt.plot(pathMod2Plus['buts'], pathMod2Plus['biomasses'], label = 'mod 2 Plus')\n",
    "plt.legend()\n",
    "plt.xlabel('butyrate')\n",
    "plt.ylabel('biomass')\n",
    "plt.show()"
   ]
  },
  {
   "cell_type": "code",
   "execution_count": 101,
   "metadata": {},
   "outputs": [
    {
     "data": {
      "image/png": "[encoded data removed]",
      "text/plain": [
       "<matplotlib.figure.Figure at 0x58fdb69f28>"
      ]
     },
     "metadata": {},
     "output_type": "display_data"
    }
   ],
   "source": [
    "plt.plot(pathMod3['buts'], pathMod3['biomasses'], label = 'mod 3')\n",
    "plt.plot(pathMod3Plus['buts'], pathMod3Plus['biomasses'], label = 'mod 3 Plus')\n",
    "plt.legend()\n",
    "plt.xlabel('butyrate')\n",
    "plt.ylabel('biomass')\n",
    "plt.show()"
   ]
  },
  {
   "cell_type": "code",
   "execution_count": 100,
   "metadata": {},
   "outputs": [
    {
     "data": {
      "image/png": "[encoded data removed]",
      "text/plain": [
       "<matplotlib.figure.Figure at 0x58fc23bb70>"
      ]
     },
     "metadata": {},
     "output_type": "display_data"
    }
   ],
   "source": [
    "a = 0.8\n",
    "plt.plot(pathMod2['buts'], pathMod2['biomasses'], label = 'mod 2', alpha = a)\n",
    "plt.plot(pathMod2Plus['buts'], pathMod2Plus['biomasses'], label = 'mod 2 Plus', alpha = a)\n",
    "plt.plot(pathMod3['buts'], pathMod3['biomasses'], label = 'mod 3', alpha = a)\n",
    "plt.plot(pathMod3Plus['buts'], pathMod3Plus['biomasses'], label = 'mod 3 Plus', alpha = a)\n",
    "plt.legend()\n",
    "plt.xlabel('butyrate')\n",
    "plt.ylabel('biomass')\n",
    "plt.show()"
   ]
  },
  {
   "cell_type": "markdown",
   "metadata": {
    "collapsed": true
   },
   "source": [
    "### Overexpressing ACITL reaction"
   ]
  },
  {
   "cell_type": "code",
   "execution_count": 106,
   "metadata": {
    "collapsed": true
   },
   "outputs": [],
   "source": [
    "lam = 0.03\n",
    "biomass = mod1accoa.reactions.BIOMASS_SC5_notrace.flux_expression\n",
    "but = mod1accoa.reactions.DM_but_c.flux_expression\n",
    "\n",
    "biomass_but = mod2accoa.problem.Objective(biomass + lam*but, direction='max')\n",
    "mod2accoa.objective = biomass_but"
   ]
  },
  {
   "cell_type": "code",
   "execution_count": 107,
   "metadata": {},
   "outputs": [
    {
     "name": "stdout",
     "output_type": "stream",
     "text": [
      "IN FLUXES          OUT FLUXES     OBJECTIVES\n",
      "-----------------  -------------  ----------------------\n",
      "glc__D_e  10       h_e     19.5   BIOMASS_SC5_...  0.247\n",
      "o2_e       2       h2o_e   13.6   DM_but_c         0.157\n",
      "nh4_e      1.38    succ_e   6.49\n",
      "pi_e       0.0488  but_c    5.25\n",
      "so4_e      0.0191  co2_e    4.18\n"
     ]
    }
   ],
   "source": [
    "mod2accoa.reactions.ACITL.lower_bound = 0\n",
    "sol2aacoa = mod2accoa.optimize()\n",
    "mod2accoa.summary()"
   ]
  },
  {
   "cell_type": "code",
   "execution_count": 117,
   "metadata": {},
   "outputs": [
    {
     "name": "stdout",
     "output_type": "stream",
     "text": [
      "IN FLUXES          OUT FLUXES     OBJECTIVES\n",
      "-----------------  -------------  ----------------------\n",
      "glc__D_e  10       h_e     19.8   BIOMASS_SC5_...  0.219\n",
      "o2_e       2       h2o_e   13.4   DM_but_c         0.16\n",
      "nh4_e      1.23    succ_e   6.66\n",
      "pi_e       0.0434  but_c    5.33\n",
      "so4_e      0.017   co2_e    4.16\n"
     ]
    }
   ],
   "source": [
    "mod2accoaCopy = mod2accoa.copy()\n",
    "mod2accoaCopy.reactions.ACITL.lower_bound = 2\n",
    "sol2aacoa = mod2accoaCopy.optimize()\n",
    "mod2accoaCopy.summary()"
   ]
  },
  {
   "cell_type": "markdown",
   "metadata": {
    "collapsed": true
   },
   "source": [
    "# Knockouts\n",
    "\n",
    "| Id      |Gene\t    |formula  | Reaction |\n",
    "|:-------:|:-------:|:--------:|:--------:|\n",
    "|YOR375C  |GDH1\t|glu__L_c + h2o_c + nadp_c <=> akg_c + h_c + nadph_c + nh4_c\t|GLUDy\n",
    "|YNL117W  |MLS1\t|accoa_c + glx_c + h2o_c <=> coa_c + h_c + mal__L_c\t            |MALS\n",
    "|YNL037C  |IDH1\t|icit_m + nad_m <=> akg_m + co2_m + nadh_m\t                    |ICDHxm\n",
    "|YOR136W  |IDH2\t|icit_m + nad_m <=> akg_m + co2_m + nadh_m\t                    |ICDHxm\n",
    "\n",
    "\n",
    "Remark: MLS1 is associated with reactions: {MALSp, MALS}"
   ]
  },
  {
   "cell_type": "code",
   "execution_count": 195,
   "metadata": {
    "scrolled": true
   },
   "outputs": [
    {
     "name": "stdout",
     "output_type": "stream",
     "text": [
      "Genes\n",
      "-----\n",
      " id   gene \n",
      "Q0045 COX1 is associated with reactions: {CYOOm}\n",
      "Q0080 ATP8 is associated with reactions: {ATPS3m}\n",
      "Q0085 ATP6 is associated with reactions: {ATPS3m}\n",
      "Q0105 COB is associated with reactions: {CYOR_u6m}\n",
      "Q0130 OLI1 is associated with reactions: {ATPS3m}\n",
      "Q0250 COX2 is associated with reactions: {CYOOm}\n",
      "Q0275 COX3 is associated with reactions: {CYOOm}\n",
      "Ter Ter is associated with reactions: {ACOAD1b}\n",
      "UNKNOWN  is associated with reactions: {AGAT_SC, CITtam}\n",
      "YAL012W CYS3 is associated with reactions: {CYSTGL}\n",
      "YAL022C FUN26 is associated with reactions: {ADNt2, CYTDt2, URIt2}\n",
      "YAL023C PMT2 is associated with reactions: {DOLPMMer}\n",
      "YAL038W CDC19 is associated with reactions: {PYK}\n",
      "YAL044C GCV3 is associated with reactions: {GLYCLm, GCCcm, GCC2am, GCC2bim, GCC2cm_copy1, GCCam, THFATm, GCCbim}\n",
      "YAL054C ACS1 is associated with reactions: {ACSm, ACSp}\n",
      "YAL060W BDH1 is associated with reactions: {BTDD_RR}\n",
      "YAL062W GDH3 is associated with reactions: {GLUDy}\n",
      "YAR015W ADE1 is associated with reactions: {PRASCSi}\n",
      "YAR035W YAT1 is associated with reactions: {CSNATr}\n",
      "YAR071W PHO11 is associated with reactions: {ACP1e}\n",
      "YAR073W  is associated with reactions: {IMPD}\n",
      "YAR075W  is associated with reactions: {IMPD}\n",
      "YBL011W SCT1 is associated with reactions: {GAT2_SC, GAT1_SC}\n",
      "YBL013W FMT1 is associated with reactions: {FMETTRSm}\n",
      "YBL015W ACH1 is associated with reactions: {ACOAHim}\n",
      "YBL030C PET9 is associated with reactions: {ATPtm_H}\n",
      "YBL033C RIB1 is associated with reactions: {GTPCII}\n",
      "YBL039C URA7 is associated with reactions: {CTPS1, CTPS2}\n",
      "YBL042C FUI1 is associated with reactions: {URIt2}\n",
      "YBL045C COR1 is associated with reactions: {CYOR_u6m}\n",
      "YBL064C PRX1 is associated with reactions: {THIORDXm}\n",
      "YBL068W PRS4 is associated with reactions: {PRPPS}\n",
      "YBL076C ILS1 is associated with reactions: {ILETRS}\n",
      "YBL098W BNA4 is associated with reactions: {KYN3OX}\n",
      "YBL099W ATP1 is associated with reactions: {ATPS3m}\n",
      "YBR001C NTH2 is associated with reactions: {TREH}\n",
      "YBR003W COQ1 is associated with reactions: {PPTTm}\n",
      "YBR006W UGA2 is associated with reactions: {SSALy}\n",
      "YBR011C IPP1 is associated with reactions: {PPA}\n",
      "YBR018C GAL7 is associated with reactions: {UGLT, GALT}\n",
      "YBR019C GAL10 is associated with reactions: {UDPG4E}\n",
      "YBR020W GAL1 is associated with reactions: {GALKr}\n",
      "YBR021W FUR4 is associated with reactions: {URAt2}\n",
      "YBR023C CHS3 is associated with reactions: {CHTNS}\n",
      "YBR026C ETR1 is associated with reactions: {FAS160ACPm, FAS141ACPm, MCOATAm, FAS80ACPm_L, FAS120ACPm, FAS161ACPm, FAS181ACPm, FAS182ACPm, FAS140ACPm, ACOATAm, FAS180ACPm, FAS100ACPm}\n",
      "YBR029C CDS1 is associated with reactions: {DASYN_SC, DASYNm_SC}\n",
      "YBR034C HMT1 is associated with reactions: {ARMT}\n",
      "YBR035C PDX3 is associated with reactions: {PYAM5PO, PDX5POi, PYDXO, PYDXNO}\n",
      "YBR036C CSG2 is associated with reactions: {MIPCS126_SC, MIPCS224_SC, MIPCS226_SC, ALCD24yi, ALCD22yi, MIPCS324_SC, MIPCS326_SC, MIPCS124_SC, ALCD25yi, ALCD23yi}\n",
      "YBR038W CHS2 is associated with reactions: {CHTNS}\n",
      "YBR039W ATP3 is associated with reactions: {ATPS3m}\n",
      "YBR041W FAT1 is associated with reactions: {FA260tp, FA240tp, FACOAL260p, FACOAL240p}\n",
      "YBR058C_A TSC3 is associated with reactions: {SERPT}\n",
      "YBR068C BAP2 is associated with reactions: {VALt2r, TRPt2r, LEUt2r, METt2r, CYSt2r, TYRt2r, PHEt2r, ILEt2r}\n",
      "YBR069C TAT1 is associated with reactions: {VALt2r, TRPt2r, THRt2r, LEUt2r, CYSt2r, TYRt2r, HISt2r, ILEt2r}\n",
      "YBR084W MIS1 is associated with reactions: {FTHFLmi, MTHFDm, MTHFCm}\n",
      "YBR085W AAC3 is associated with reactions: {ATPtm_H}\n",
      "YBR092C PHO3 is associated with reactions: {THMPe, THMDPe}\n",
      "YBR093C PHO5 is associated with reactions: {ACP1e}\n",
      "YBR115C LYS2 is associated with reactions: {AASAD1, AASAD2}\n",
      "YBR117C TKL2 is associated with reactions: {TKT1, TKT2}\n",
      "YBR121C GRS1 is associated with reactions: {GLYTRS}\n",
      "YBR126C TPS1 is associated with reactions: {TRE6PS, TRE6PP}\n",
      "YBR127C VMA2 is associated with reactions: {ATPS3v, ATPS3g}\n",
      "YBR132C AGP2 is associated with reactions: {CRNt}\n",
      "YBR145W ADH5 is associated with reactions: {ALCD22xi, ALCD23xi, ALCD2ir, ALCD25xi, ALCD26xi, ALCD24xi}\n",
      "YBR149W ARA1 is associated with reactions: {ARAB1D2}\n",
      "YBR153W RIB7 is associated with reactions: {DROPPRy}\n",
      "YBR161W CSH1 is associated with reactions: {MIPCS226_SC, MIPCS324_SC, MIPCS326_SC, MIPCS124_SC, MIPCS126_SC, MIPCS224_SC}\n",
      "YBR166C TYR1 is associated with reactions: {PPND2}\n",
      "YBR176W ECM31 is associated with reactions: {MOHMT}\n",
      "YBR180W DTR1 is associated with reactions: {NFORTYRt}\n",
      "YBR183W YPC1 is associated with reactions: {CERASE224er, CERS226er, CERS224er, CERASE226er}\n",
      "YBR184W  is associated with reactions: {GALIGH, GALS3, EPMGH, RAFGH, GGLGH, MELTGH}\n",
      "YBR192W RIM2 is associated with reactions: {CTPtm, UTPtm}\n",
      "YBR196C PGI1 is associated with reactions: {G6PI, PGI, G6PI3}\n",
      "YBR199W KTR4 is associated with reactions: {G12MT2g, G12MT1g}\n",
      "YBR205W KTR3 is associated with reactions: {G12MT2g, G12MT1g}\n",
      "YBR208C DUR1,2 is associated with reactions: {UREASE, ALPHNH}\n",
      "YBR213W MET8 is associated with reactions: {SHCHD, SHCHF}\n",
      "YBR218C PYC2 is associated with reactions: {PC}\n",
      "YBR221C PDB1 is associated with reactions: {PDHm, THFATm}\n",
      "YBR244W GPX2 is associated with reactions: {GTHPi}\n",
      "YBR248C HIS7 is associated with reactions: {IG3PS}\n",
      "YBR249C ARO4 is associated with reactions: {DDPA}\n",
      "YBR252W DUT1 is associated with reactions: {DUTPDP}\n",
      "YBR256C RIB5 is associated with reactions: {RBFSb}\n",
      "YBR263W SHM1 is associated with reactions: {GHMT2rm}\n",
      "YBR265W TSC10 is associated with reactions: {3DSPHR}\n",
      "YBR284W  is associated with reactions: {AMPN}\n",
      "YBR291C CTP1 is associated with reactions: {CITtbm, CITtcm, CITtam}\n",
      "YBR293W VBA2 is associated with reactions: {HISt6, TYRt6, ARGt6, LYSt6}\n",
      "YBR294W SUL1 is associated with reactions: {SO4ti}\n",
      "YBR296C PHO89 is associated with reactions: {PIt2r}\n",
      "YBR298C MAL31 is associated with reactions: {MALTt2}\n",
      "YBR299W MAL32 is associated with reactions: {MALT}\n",
      "YCL004W PGS1 is associated with reactions: {CDPDGPm_SC}\n",
      "YCL009C ILV6 is associated with reactions: {ACLSm, ACHBSm}\n",
      "YCL018W LEU2 is associated with reactions: {IPMD}\n",
      "YCL025C AGP1 is associated with reactions: {SERt2r, HISt2r, VALt2r, THRt2r, LEUt2r, METt2r, GLUt2r, PHEt2r, TYRt2r, GLNt2r, ILEt2r, ALAt2r, ASNt2r}\n",
      "YCL030C HIS4 is associated with reactions: {PRATPP, PRAMPC, HISTD}\n",
      "YCL035C GRX1 is associated with reactions: {GTHOr, GTHPi}\n",
      "YCL040W GLK1 is associated with reactions: {GLUK, HEX1}\n",
      "YCL050C APA1 is associated with reactions: {SLFAT, ATPATF2, ATPATF3}\n",
      "YCL064C CHA1 is associated with reactions: {SERD_L, THRD_L}\n",
      "YCL069W VBA3 is associated with reactions: {HISt6, LYSt6}\n",
      "YCR005C CIT2 is associated with reactions: {CSp}\n",
      "YCR010C ADY2 is associated with reactions: {ACtr}\n",
      "YCR012W PGK1 is associated with reactions: {PGK}\n",
      "YCR024C SLM5 is associated with reactions: {ASNTRSm}\n",
      "YCR024C_A PMP1 is associated with reactions: {ATPS}\n",
      "YCR028C FEN2 is associated with reactions: {PNTOt2}\n",
      "YCR032W BPH1 is associated with reactions: {ACt2r}\n",
      "YCR034W ELO2 is associated with reactions: {FAS240_L, FAS260, 13GS}\n",
      "YCR036W RBK1 is associated with reactions: {RBK, DRBK}\n",
      "YCR037C PHO87 is associated with reactions: {PIt2r}\n",
      "YCR048W ARE1 is associated with reactions: {ERGSTAT_SC, TRIGS_SC, LANOSTAT_SC, ZYMSTAT_SC, EPISTAT_SC, FECOSTAT_SC}\n",
      "YCR053W THR4 is associated with reactions: {THRS, 4HTHRS}\n",
      "YCR073W_A SOL2 is associated with reactions: {PGL}\n",
      "YCR075C ERS1 is associated with reactions: {LCYSTintv}\n",
      "YCR083W TRX3 is associated with reactions: {THIORDXm, TRDRm}\n",
      "YCR098C GIT1 is associated with reactions: {G3PIt, G3PCt}\n",
      "YDL004W ATP16 is associated with reactions: {ATPS3m}\n",
      "YDL015C TSC13 is associated with reactions: {FAS240_L, FAS260}\n",
      "YDL021W GPM2 is associated with reactions: {PGM}\n",
      "YDL022W GPD1 is associated with reactions: {G3PD1ir}\n",
      "YDL040C NAT1 is associated with reactions: {PEPAT}\n",
      "YDL045C FAD1 is associated with reactions: {FMNAT}\n",
      "YDL052C SLC1 is associated with reactions: {AGAT_SC}\n",
      "YDL055C PSA1 is associated with reactions: {MAN1PT}\n",
      "YDL066W IDP1 is associated with reactions: {ICDHym}\n",
      "YDL067C COX9 is associated with reactions: {CYOOm}\n",
      "YDL078C MDH3 is associated with reactions: {MDHp}\n",
      "YDL080C THI3 is associated with reactions: {4MOPDC, 3MOPDC}\n",
      "YDL085W NDE2 is associated with reactions: {NADH2_u6cm}\n",
      "YDL093W PMT5 is associated with reactions: {DOLPMMer}\n",
      "YDL095W PMT1 is associated with reactions: {DOLPMMer}\n",
      "YDL100C GET3 is associated with reactions: {DNMPPA}\n",
      "YDL103C QRI1 is associated with reactions: {UDPACGLP}\n",
      "YDL131W LYS21 is associated with reactions: {HCITSn}\n",
      "YDL141W BPL1 is associated with reactions: {BACCL}\n",
      "YDL142C CRD1 is associated with reactions: {CLPNSm_SC}\n",
      "YDL168W SFA1 is associated with reactions: {ALCD22xi, ALCD23xi, FALDH, ALCD25xi, ALCD2x_copy2, ALCD26xi, ALCD24xi}\n",
      "YDL171C GLT1 is associated with reactions: {GLUSx}\n",
      "YDL174C DLD1 is associated with reactions: {D_LACDcm}\n",
      "YDL178W DLD2 is associated with reactions: {D_LACDm}\n",
      "YDL181W INH1 is associated with reactions: {ATPS3m}\n",
      "YDL182W LYS20 is associated with reactions: {HCITSn}\n",
      "YDL185W VMA1 is associated with reactions: {ATPS3v, ATPS3g}\n",
      "YDL198C GGC1 is associated with reactions: {GTPt2m}\n",
      "YDL205C HEM3 is associated with reactions: {HMBS}\n",
      "YDL210W UGA4 is associated with reactions: {5AOPt2, ABUTt2r}\n",
      "YDL215C GDH2 is associated with reactions: {GLUDxi}\n",
      "YDL238C GUD1 is associated with reactions: {GUAD}\n",
      "YDL245C HXT15 is associated with reactions: {GLCt1, FRUt2, MANt2}\n",
      "YDL247W MPH2 is associated with reactions: {MALTt2}\n",
      "YDR001C NTH1 is associated with reactions: {TREH}\n",
      "YDR007W TRP1 is associated with reactions: {PRAIi}\n",
      "YDR017C KCS1 is associated with reactions: {PMI1346PS, PMI12346PS}\n",
      "YDR019C GCV1 is associated with reactions: {GLYCLm, GCCcm, GCC2am, GCC2bim, GCC2cm_copy1, GCCam, THFATm, GCCbim}\n",
      "YDR023W SES1 is associated with reactions: {SERTRS}\n",
      "YDR035W ARO3 is associated with reactions: {DDPAm, DDPA}\n",
      "YDR037W KRS1 is associated with reactions: {LYSTRS}\n",
      "YDR044W HEM13 is associated with reactions: {CPPPGO}\n",
      "YDR046C BAP3 is associated with reactions: {VALt2r, TRPt2r, LEUt2r, METt2r, CYSt2r, TYRt2r, PHEt2r, ILEt2r}\n",
      "YDR047W HEM12 is associated with reactions: {UPPDC1}\n",
      "YDR050C TPI1 is associated with reactions: {TPI}\n",
      "YDR058C TGL2 is associated with reactions: {TAGL_SC}\n",
      "YDR062W LCB2 is associated with reactions: {SERPT}\n",
      "YDR072C IPT1 is associated with reactions: {MIP2CS124_SC, MIP2CS226_SC, MIP2CS324_SC, MIP2CS224_SC, MIP2CS126_SC, MIP2CS326_SC}\n",
      "YDR074W TPS2 is associated with reactions: {TRE6PS, TRE6PP}\n",
      "YDR098C GRX3 is associated with reactions: {GTHOr}\n",
      "YDR111C ALT2 is associated with reactions: {ALATA_L}\n",
      "YDR127W ARO1 is associated with reactions: {DHQS, SHKK, PSCVT, DHQTi, SHK3Dr}\n",
      "YDR135C YCF1 is associated with reactions: {GTHRDabcv}\n",
      "YDR147W EKI1 is associated with reactions: {ETHAK}\n",
      "YDR148C KGD2 is associated with reactions: {GCC2cm_copy2, AKGDbm, AKGDam}\n",
      "YDR158W HOM2 is associated with reactions: {ASAD}\n",
      "YDR173C ARG82 is associated with reactions: {MI145P6Kn, MI1345PKn, MI1456PKn, MI145PKn}\n",
      "YDR178W SDH4 is associated with reactions: {SUCD1m, SUCD3_u6m, SUCD2_u6m}\n",
      "YDR204W COQ4 is associated with reactions: {3DH5HPBMTm, 2HP6MPMOm, 2HMHMBQMTm, 2HPMMBQMOm, 2HPMBQMTm}\n",
      "YDR208W MSS4 is associated with reactions: {PI4P5K_SC}\n",
      "YDR226W ADK1 is associated with reactions: {ADK1, ADK3, ADK4}\n",
      "YDR232W HEM1 is associated with reactions: {ALASm}\n",
      "YDR234W LYS4 is associated with reactions: {HACNHm}\n",
      "YDR236C FMN1 is associated with reactions: {RBFKm, RBFK}\n",
      "YDR242W AMD2 is associated with reactions: {AMID2, AMID3, AMID}\n",
      "YDR256C CTA1 is associated with reactions: {CATp}\n",
      "YDR261C EXG2 is associated with reactions: {13BGHe}\n",
      "YDR268W MSW1 is associated with reactions: {TRPTRSm}\n",
      "YDR272W GLO2 is associated with reactions: {GLYOX}\n",
      "YDR284C DPP1 is associated with reactions: {DAGPYP_SC, LPP_SC}\n",
      "YDR294C DPL1 is associated with reactions: {SPHPL, PSPHPL}\n",
      "YDR297W SUR2 is associated with reactions: {CERH124_copy1, PSPHS, CERH126_copy1}\n",
      "YDR298C ATP5 is associated with reactions: {ATPS3m}\n",
      "YDR300C PRO1 is associated with reactions: {GLU5K}\n",
      "YDR305C HNT2 is associated with reactions: {AP4AH}\n",
      "YDR315C IPK1 is associated with reactions: {MI13456PKn}\n",
      "YDR321W ASP1 is associated with reactions: {ASNN}\n",
      "YDR322C_A TIM11 is associated with reactions: {ATPS3m}\n",
      "YDR341C  is associated with reactions: {ARGTRS}\n",
      "YDR342C HXT7 is associated with reactions: {GLCt1, FRUt2, MANt2}\n",
      "YDR343C HXT6 is associated with reactions: {GLCt1, FRUt2, MANt2}\n",
      "YDR345C HXT3 is associated with reactions: {GLCt1, FRUt2, MANt2}\n",
      "YDR353W TRR1 is associated with reactions: {TRDR}\n",
      "YDR354W TRP4 is associated with reactions: {ANPRT}\n",
      "YDR368W YPR1 is associated with reactions: {ALCD22yi, ALCD19y}\n",
      "YDR376W ARH1 is associated with reactions: {HEMEOMOm}\n",
      "YDR377W ATP17 is associated with reactions: {ATPS3m}\n",
      "YDR380W ARO10 is associated with reactions: {INDPYRD, PPYRDC, 4MOPDC, 3MOPDC}\n",
      "YDR384C ATO3 is associated with reactions: {NH4ti}\n",
      "YDR399W HPT1 is associated with reactions: {HXPRT, GUAPRT}\n",
      "YDR400W URH1 is associated with reactions: {GNNUC, ADNUC}\n",
      "YDR402C DIT2 is associated with reactions: {NFTYROX}\n",
      "YDR403W DIT1 is associated with reactions: {TYRNFT}\n",
      "YDR408C ADE8 is associated with reactions: {GARFT}\n",
      "YDR441C APT2 is associated with reactions: {ADPT}\n",
      "YDR453C TSA2 is associated with reactions: {THIORDXi}\n",
      "YDR454C GUK1 is associated with reactions: {GK2, GK1, DGK1}\n",
      "YDR481C PHO8 is associated with reactions: {AKP1}\n",
      "YDR483W KRE2 is associated with reactions: {G12MT2g, G12MT1g}\n",
      "YDR487C RIB3 is associated with reactions: {DB4PS}\n",
      "YDR497C ITR1 is associated with reactions: {INSTt2}\n",
      "YDR502C SAM2 is associated with reactions: {METAT}\n",
      "YDR503C LPP1 is associated with reactions: {DAGPYP_SC, LPP_SC}\n",
      "YDR508C GNP1 is associated with reactions: {SERt2r, THRt2r, LEUt2r, METt2r, GLNt2r, CYSt2r, ASNt2r}\n",
      "YDR513W GRX2 is associated with reactions: {GTHOr, GTHPi}\n",
      "YDR529C QCR7 is associated with reactions: {CYOR_u6m}\n",
      "YDR530C APA2 is associated with reactions: {ATPATF1}\n",
      "YDR531W CAB1 is associated with reactions: {PNTK}\n",
      "YDR536W STL1 is associated with reactions: {GALt2, GLUt2r, GLCt1}\n",
      "YEL011W GLC3 is associated with reactions: {GBEZ}\n",
      "YEL017C_A PMP2 is associated with reactions: {ATPS}\n",
      "YEL021W URA3 is associated with reactions: {OMPDC}\n",
      "YEL024W RIP1 is associated with reactions: {CYOR_u6m}\n",
      "YEL027W VMA3 is associated with reactions: {ATPS3v, ATPS3g}\n",
      "YEL038W UTR4 is associated with reactions: {DKMPPD2}\n",
      "YEL039C CYC7 is associated with reactions: {D_LACDcm, CCP2m, L_LACD2cm, CYOR_u6m, CYOOm, D_LACDm}\n",
      "YEL041W YEF1 is associated with reactions: {NADK, NADKm}\n",
      "YEL042W GDA1 is associated with reactions: {NDP3g}\n",
      "YEL046C GLY1 is associated with reactions: {THRA2, THRA}\n",
      "YEL047C FRD1 is associated with reactions: {FRDcm}\n",
      "YEL051W VMA8 is associated with reactions: {ATPS3v, ATPS3g}\n",
      "YEL058W PCM1 is associated with reactions: {ACGAMPM, PGAMT}\n",
      "YEL063C CAN1 is associated with reactions: {ORNt2r, ARGt2r}\n",
      "YEL069C HXT13 is associated with reactions: {GLCt1, FRUt2, MANt2}\n",
      "YEL071W DLD3 is associated with reactions: {D_LACDcm}\n",
      "YER003C PMI40 is associated with reactions: {MAN6PI}\n",
      "YER005W YND1 is associated with reactions: {NDP3, NDP7, ATPH1, UTPH1, GTPH1, NDP1}\n",
      "YER014W HEM14 is associated with reactions: {PPPGOm}\n",
      "YER015W FAA2 is associated with reactions: {FACOAL160p, FACOAL100p, FACOAL140p, FACOAL161p, FACOAL80p, FACOAL141p, FACOAL120p}\n",
      "YER019W ISC1 is associated with reactions: {MIP2C224PLC_SC, IPC124PLC_SC, MIP2C226PLC_SC, IPC126PLC_SC, MIP2C324PLC_SC, MIPC124PLC_SC, IPC224PLC_SC, MIP2C326PLC_SC, MIPC224PLC_SC, IPC226PLC_SC, MIPC226PLC_SC, IPC324PLC_SC, MIPC324PLC_SC, IPC326PLC_SC, MIPC326PLC_SC, MIPC126PLC_SC, MIP2C124PLC_SC, MIP2C126PLC_SC}\n",
      "YER023W PRO3 is associated with reactions: {HPROb, P5CR, HPROa}\n",
      "YER024W YAT2 is associated with reactions: {CSNATr}\n",
      "YER026C CHO1 is associated with reactions: {PSERS_SC, PSERSm_SC}\n",
      "YER043C SAH1 is associated with reactions: {AHCi}\n",
      "YER052C HOM3 is associated with reactions: {ASPK}\n",
      "YER053C PIC2 is associated with reactions: {PIt5m}\n",
      "YER055C HIS1 is associated with reactions: {ATPPRT}\n",
      "YER056C FCY2 is associated with reactions: {CSNt2, ADEt2, GUAt2r}\n",
      "YER060W FCY21 is associated with reactions: {CSNt2, ADEt2, GUAt2r}\n",
      "YER060W_A FCY22 is associated with reactions: {CSNt2, ADEt2, GUAt2r}\n",
      "YER061C CEM1 is associated with reactions: {FAS160ACPm, FAS141ACPm, MCOATAm, FAS80ACPm_L, FAS120ACPm, FAS161ACPm, FAS181ACPm, FAS182ACPm, FAS140ACPm, ACOATAm, FAS180ACPm, FAS100ACPm}\n",
      "YER062C GPP2 is associated with reactions: {G3PT}\n",
      "YER065C ICL1 is associated with reactions: {ICL}\n",
      "YER069W ARG5,6 is associated with reactions: {AGPRim, ACGKm}\n",
      "YER070W RNR1 is associated with reactions: {RNDR4, RNDR1n, RNDR2, RNDR2n, RNDR3, RNDR3n, RNDR1, RNDR4n}\n",
      "YER073W ALD5 is associated with reactions: {ALDD20ym, ALDD2ym, ABUTDm}\n",
      "YER081W SER3 is associated with reactions: {PGCD}\n",
      "YER086W ILV1 is associated with reactions: {THRD_Lm}\n",
      "YER087W AIM10 is associated with reactions: {PROTRS}\n",
      "YER090W TRP2 is associated with reactions: {ANS}\n",
      "YER091C MET6 is associated with reactions: {MHPGLUT, METS}\n",
      "YER099C PRS2 is associated with reactions: {PRPPS}\n",
      "YER119C AVT6 is associated with reactions: {GLUt7, ASPt7}\n",
      "YER141W COX15 is associated with reactions: {HEMEOMOm}\n",
      "YER170W ADK2 is associated with reactions: {ADK1m, ADK4m, ADK3m}\n",
      "YER174C GRX4 is associated with reactions: {GTHOr}\n",
      "YER175C TMT1 is associated with reactions: {3IPM3MT, ACON3MT}\n",
      "YER178W PDA1 is associated with reactions: {PDHm, THFATm}\n",
      "YER183C FAU1 is associated with reactions: {FTHFCL}\n",
      "YFL001W DEG1 is associated with reactions: {YUMPS}\n",
      "YFL011W HXT10 is associated with reactions: {GALt2, GLCt1, FRUt2, MANt2}\n",
      "YFL017C GNA1 is associated with reactions: {ACGAM6PS}\n",
      "YFL018C LPD1 is associated with reactions: {AKGDbm, GCCcm, GCC2am, GLYCLm, AKGDam, GCC2bim, GCC2cm_copy1, GCC2cm_copy2, PDHm, GCCam, GCCbim}\n",
      "YFL022C FRS2 is associated with reactions: {PHETRS}\n",
      "YFL030W AGX1 is associated with reactions: {AGTi}\n",
      "YFL045C SEC53 is associated with reactions: {PMANM}\n",
      "YFL053W DAK2 is associated with reactions: {DHAK}\n",
      "YFL055W AGP3 is associated with reactions: {SERt2r, GLUt2r, ASPt2r}\n",
      "YFR015C GSY1 is associated with reactions: {GLYGS, GLCS2}\n",
      "YFR019W FAB1 is associated with reactions: {PI3P5K_SC}\n",
      "YFR025C HIS2 is associated with reactions: {HISTP}\n",
      "YFR030W MET10 is associated with reactions: {SULR}\n",
      "YFR033C QCR6 is associated with reactions: {CYOR_u6m}\n",
      "YFR047C BNA6 is associated with reactions: {NNDPR, NNDPRm}\n",
      "YFR053C HXK1 is associated with reactions: {HEX7, HEX4, HEX1}\n",
      "YFR055W IRC7 is associated with reactions: {CYSTL}\n",
      "YGL001C ERG26 is associated with reactions: {C3STDH1, C3STDH2}\n",
      "YGL008C PMA1 is associated with reactions: {ATPS}\n",
      "YGL009C LEU1 is associated with reactions: {IPPMIa, IPPMIb}\n",
      "YGL012W ERG4 is associated with reactions: {C24STRer}\n",
      "YGL026C TRP5 is associated with reactions: {TRPS1}\n",
      "YGL037C PNC1 is associated with reactions: {NNAM, NNAMrm}\n",
      "YGL040C HEM2 is associated with reactions: {PPBNGS}\n",
      "YGL055W OLE1 is associated with reactions: {DESAT16, DESAT18}\n",
      "YGL062W PYC1 is associated with reactions: {PC}\n",
      "YGL063W PUS2 is associated with reactions: {YUMPS}\n",
      "YGL067W NPY1 is associated with reactions: {NADDPp}\n",
      "YGL077C HNM1 is associated with reactions: {CHLt2}\n",
      "YGL084C GUP1 is associated with reactions: {GLYCt2}\n",
      "YGL119W COQ8 is associated with reactions: {3DH5HPBMTm, 2HP6MPMOm, 2HMHMBQMTm, 2HPMMBQMOm, 2HPMBQMTm}\n",
      "YGL125W MET13 is associated with reactions: {MTHFR3}\n",
      "YGL148W ARO2 is associated with reactions: {CHORS}\n",
      "YGL154C LYS5 is associated with reactions: {AASAD1, AASAD2}\n",
      "YGL184C STR3 is associated with reactions: {CYSTLp}\n",
      "YGL186C TPN1 is associated with reactions: {CSNt2, ADEt2, GUAt2r}\n",
      "YGL187C COX4 is associated with reactions: {CYOOm}\n",
      "YGL191W COX13 is associated with reactions: {CYOOm}\n",
      "YGL202W ARO8 is associated with reactions: {TRPTA, PHETA1, TYRTAi}\n",
      "YGL205W POX1 is associated with reactions: {ACOAO9p, FAO181p_odd, FAO182p_eveneven, ACOAO5p, ACOAO6p, FAO182p_evenodd, FAO182p_oddodd, ACOAO4p, FAO240p, FAO80p, FAO141p_even, ACOAO8p, ACOAO7p, FAO141p_odd, FAO161p_even, FAO161p_odd, FAO181p_even}\n",
      "YGL224C SDT1 is associated with reactions: {NTD4, NTD2}\n",
      "YGL225W VRG4 is associated with reactions: {GDPMANNtg}\n",
      "YGL234W ADE5,7 is associated with reactions: {PRAGSr, PRAIS}\n",
      "YGL245W GUS1 is associated with reactions: {GLUTRS}\n",
      "YGL248W PDE1 is associated with reactions: {PDE1}\n",
      "YGL253W HXK2 is associated with reactions: {HEX7, HEX4, HEX1}\n",
      "YGL256W ADH4 is associated with reactions: {ALCD22xi, ALCD23xi, ALCD2ir, ALCD25xi, ALCD26xi, ALCD24xi}\n",
      "YGR007W ECT1 is associated with reactions: {PETHCT}\n",
      "YGR010W NMA2 is associated with reactions: {NMNAT}\n",
      "YGR012W MCY1 is associated with reactions: {CYSS}\n",
      "YGR019W UGA1 is associated with reactions: {ABTA}\n",
      "YGR020C VMA7 is associated with reactions: {ATPS3v, ATPS3g}\n",
      "YGR032W GSC2 is associated with reactions: {13GS}\n",
      "YGR037C ACB1 is associated with reactions: {FAS180COA, FAS160COA, FAS160, FAS140COA, FAS120, FAS80COA_L, FAS100COA, FAS120COA, FAS180, FAS80_L, FAS140, FAS100}\n",
      "YGR043C NQM1 is associated with reactions: {TALA}\n",
      "YGR055W MUP1 is associated with reactions: {METt2r}\n",
      "YGR060W ERG25 is associated with reactions: {C4STMO2, C4STMO1}\n",
      "YGR061C ADE6 is associated with reactions: {PRFGS}\n",
      "YGR065C VHT1 is associated with reactions: {BTNt2i}\n",
      "YGR087C PDC6 is associated with reactions: {PPYRDC, INDPYRD, PYRDC, ACALDCD, PYRDC2, 3MOBDC, 3MOPDC}\n",
      "YGR088W CTT1 is associated with reactions: {CAT}\n",
      "YGR094W VAS1 is associated with reactions: {VALTRS, VALTRSm}\n",
      "YGR096W TPC1 is associated with reactions: {THMPPt2m}\n",
      "YGR121C MEP1 is associated with reactions: {NH4t}\n",
      "YGR124W ASN2 is associated with reactions: {ASNS1}\n",
      "YGR125W  is associated with reactions: {SO4ti}\n",
      "YGR138C TPO2 is associated with reactions: {SPRMt2i}\n",
      "YGR143W SKN1 is associated with reactions: {16GS}\n",
      "YGR147C NAT2 is associated with reactions: {PEPAT}\n",
      "YGR155W CYS4 is associated with reactions: {CYSTS}\n",
      "YGR157W CHO2 is associated with reactions: {PETOHM_SC}\n",
      "YGR170W PSD2 is associated with reactions: {PSERDv_SC, PSERDg_SC}\n",
      "YGR171C MSM1 is associated with reactions: {METTRSm}\n",
      "YGR175C ERG1 is associated with reactions: {SQLErx, SQLEr}\n",
      "YGR177C ATF2 is associated with reactions: {OHACT4, OHACT2, OHACT5, OHACT1, OHACT3}\n",
      "YGR180C RNR4 is associated with reactions: {RNDR4n, RNDR1n, RNDR3n, RNDR2n}\n",
      "YGR183C QCR9 is associated with reactions: {CYOR_u6m}\n",
      "YGR185C TYS1 is associated with reactions: {TYRTRS}\n",
      "YGR191W HIP1 is associated with reactions: {HISt2r}\n",
      "YGR192C TDH3 is associated with reactions: {GAPD}\n",
      "YGR193C PDX1 is associated with reactions: {PDHm}\n",
      "YGR194C XKS1 is associated with reactions: {XYLK}\n",
      "YGR199W PMT6 is associated with reactions: {DOLPMMer}\n",
      "YGR202C PCT1 is associated with reactions: {CHLPCTD}\n",
      "YGR204W ADE3 is associated with reactions: {MTHFC, FTHFLi, MTHFD}\n",
      "YGR208W SER2 is associated with reactions: {PSP_L}\n",
      "YGR209C TRX2 is associated with reactions: {RNDR1n, RNDR2, RNDR2n, RNDR3, RNDR3n, TRDR, RNDR4, RNDR4n, THIORDXni, THIORDXp, RNTR1, PAPSR, RNTR2, RNTR3, THIORDXi, RNTR4, RNDR1}\n",
      "YGR240C PFK1 is associated with reactions: {PFK, PFK_3, PFK_2}\n",
      "YGR244C LSC2 is associated with reactions: {ITCOALm, SUCOASm}\n",
      "YGR247W CPD1 is associated with reactions: {23CAPPD}\n",
      "YGR248W SOL4 is associated with reactions: {PGL}\n",
      "YGR254W ENO1 is associated with reactions: {ENO}\n",
      "YGR255C COQ6 is associated with reactions: {3DH5HPBMTm, 2HP6MPMOm, 2HMHMBQMTm, 2HPMMBQMOm, 2HPMBQMTm}\n",
      "YGR256W GND2 is associated with reactions: {GND}\n",
      "YGR260W TNA1 is associated with reactions: {NACt}\n",
      "YGR264C MES1 is associated with reactions: {METTRS}\n",
      "YGR267C FOL2 is associated with reactions: {GTPCI}\n",
      "YGR282C BGL2 is associated with reactions: {13BGH}\n",
      "YGR286C BIO2 is associated with reactions: {BTSr}\n",
      "YGR287C IMA1 is associated with reactions: {MALT}\n",
      "YGR289C MAL11 is associated with reactions: {MALTt2}\n",
      "YGR292W MAL12 is associated with reactions: {MALT}\n",
      "YHL003C LAG1 is associated with reactions: {CERS124, CERS224er, CERS226, CERS124er, CERS126, CERS126er, CERS224, CERS226er}\n",
      "YHL011C PRS3 is associated with reactions: {PRPPS}\n",
      "YHL012W  is associated with reactions: {GALUi}\n",
      "YHL016C DUR3 is associated with reactions: {UREA2t2}\n",
      "YHL032C GUT1 is associated with reactions: {GLYK}\n",
      "YHL036W MUP3 is associated with reactions: {METt2r}\n",
      "YHR001W_A QCR10 is associated with reactions: {CYOR_u6m}\n",
      "YHR002W LEU5 is associated with reactions: {COAtim}\n",
      "YHR007C ERG11 is associated with reactions: {LNS14DMx, LNS14DM}\n",
      "YHR011W DIA4 is associated with reactions: {SERTRS}\n",
      "YHR018C ARG4 is associated with reactions: {ARGSL}\n",
      "YHR019C DED81 is associated with reactions: {ASNTRS}\n",
      "YHR020W  is associated with reactions: {PROTRS}\n",
      "YHR025W THR1 is associated with reactions: {HSK}\n",
      "YHR026W VMA16 is associated with reactions: {ATPS3v, ATPS3g}\n",
      "YHR037W PUT2 is associated with reactions: {4HGLSDm, PYR5CDm, HPROxm, HPROym, PHCDm}\n",
      "YHR039C_A VMA10 is associated with reactions: {ATPS3v, ATPS3g}\n",
      "YHR042W NCP1 is associated with reactions: {C22STDS, NFTYROX, LNS14DM, SQLEr}\n",
      "YHR043C DOG2 is associated with reactions: {2DOXG6PP}\n",
      "YHR044C DOG1 is associated with reactions: {2DOXG6PP}\n",
      "YHR046C INM1 is associated with reactions: {MI1PP}\n",
      "YHR051W COX6 is associated with reactions: {CYOOm}\n",
      "YHR063C PAN5 is associated with reactions: {DPR}\n",
      "YHR067W HTD2 is associated with reactions: {FAS160ACPm, FAS141ACPm, MCOATAm, FAS80ACPm_L, FAS120ACPm, FAS161ACPm, FAS181ACPm, FAS182ACPm, FAS140ACPm, ACOATAm, FAS180ACPm, FAS100ACPm}\n",
      "YHR068W DYS1 is associated with reactions: {DXHPScm}\n",
      "YHR072W ERG7 is associated with reactions: {LNSTLS}\n",
      "YHR074W QNS1 is associated with reactions: {NADS1n, NADS1}\n",
      "YHR091C MSR1 is associated with reactions: {ARGTRSm}\n",
      "YHR092C HXT4 is associated with reactions: {GLCt1, FRUt2, MANt2}\n",
      "YHR094C HXT1 is associated with reactions: {GLCt1, FRUt2, MANt2}\n",
      "YHR096C HXT5 is associated with reactions: {GLCt1, FRUt2, MANt2}\n",
      "YHR104W GRE3 is associated with reactions: {ARABR, LALDO3, ALCD19y, XYLR, SBTR}\n",
      "YHR106W TRR2 is associated with reactions: {TRDRm}\n",
      "YHR123W EPT1 is associated with reactions: {ETHAPT_SC, DAGCPT_SC}\n",
      "YHR128W FUR1 is associated with reactions: {UPPRT}\n",
      "YHR137W ARO9 is associated with reactions: {TRPTA, PHETA1, TYRTAi}\n",
      "YHR144C DCD1 is associated with reactions: {DCMPDA, DCTPD}\n",
      "YHR163W SOL3 is associated with reactions: {PGL}\n",
      "YHR174W ENO2 is associated with reactions: {ENO}\n",
      "YHR183W GND1 is associated with reactions: {GND}\n",
      "YHR190W ERG9 is associated with reactions: {SQLS}\n",
      "YHR208W BAT1 is associated with reactions: {LEUTAm, OMCDCm, ILETAm, VALTAim}\n",
      "YHR216W IMD2 is associated with reactions: {IMPD}\n",
      "YIL002C INP51 is associated with reactions: {PI45BP5P_SC}\n",
      "YIL009W FAA3 is associated with reactions: {FACOAL182, FACOAL160, FACOAL161, FACOAL141, FACOAL181, FACOAL180, FACOAL140}\n",
      "YIL010W DOT5 is associated with reactions: {THIORDXni}\n",
      "YIL013C PDR11 is associated with reactions: {FECOSTt, ZYMSTt, ERGSTt, LANOSTt, EPISTt}\n",
      "YIL020C HIS6 is associated with reactions: {PRMICI}\n",
      "YIL043C CBR1 is associated with reactions: {SQLErx, LNS14DMx, C22STDSx}\n",
      "YIL053W GPP1 is associated with reactions: {G3PT}\n",
      "YIL066C RNR3 is associated with reactions: {RNDR1, RNDR1n}\n",
      "YIL074C SER33 is associated with reactions: {PGCD}\n",
      "YIL078W THS1 is associated with reactions: {THRTRS}\n",
      "YIL094C LYS12 is associated with reactions: {HICITDm}\n",
      "YIL099W SGA1 is associated with reactions: {GLCGSDv}\n",
      "YIL107C PFK26 is associated with reactions: {PFK26}\n",
      "YIL111W COX5B is associated with reactions: {CYOOm}\n",
      "YIL116W HIS5 is associated with reactions: {HSTPT}\n",
      "YIL124W AYR1 is associated with reactions: {ADHAPR_SC}\n",
      "YIL125W KGD1 is associated with reactions: {GCC2cm_copy2, AKGDbm, AKGDam}\n",
      "YIL134W FLX1 is associated with reactions: {FADFMNtm}\n",
      "YIL145C PAN6 is associated with reactions: {PANTS}\n",
      "YIL155C GUT2 is associated with reactions: {G3PDm}\n",
      "YIL160C POT1 is associated with reactions: {FAO181p_odd, FAO182p_eveneven, ACACT5p, FAO182p_evenodd, FAO182p_oddodd, FAO240p, FAO80p, ACACT6p, FAO141p_even, ACACT7p, ACACT8p, ACACT9p, FAO141p_odd, FAO161p_even, FAO161p_odd, FAO181p_even, ACACT4p}\n",
      "YIL162W SUC2 is associated with reactions: {SUCRe}\n",
      "YIL164C NIT1 is associated with reactions: {NTRLASE3, NTRLASE2, NTRLASE}\n",
      "YIL167W SDL1 is associated with reactions: {SERD_L}\n",
      "YIL172C IMA3 is associated with reactions: {MALT}\n",
      "YIR027C DAL1 is associated with reactions: {ALLTN}\n",
      "YIR028W DAL4 is associated with reactions: {ALLTNti}\n",
      "YIR029W DAL2 is associated with reactions: {ALLTAHr}\n",
      "YIR031C DAL7 is associated with reactions: {MALS, MALSp}\n",
      "YIR032C DAL3 is associated with reactions: {UGLYCH}\n",
      "YIR034C LYS1 is associated with reactions: {SACCD2}\n",
      "YIR037W HYR1 is associated with reactions: {GTHPi}\n",
      "YJL005W CYR1 is associated with reactions: {ADNCYC}\n",
      "YJL026W RNR2 is associated with reactions: {RNDR4, RNDR1, RNDR3, RNDR2}\n",
      "YJL045W  is associated with reactions: {SUCD1m, SUCD3_u6m, SUCD2_u6m}\n",
      "YJL052W TDH1 is associated with reactions: {GAPD}\n",
      "YJL060W BNA3 is associated with reactions: {FKYNH}\n",
      "YJL068C  is associated with reactions: {SFGTHi}\n",
      "YJL070C  is associated with reactions: {AMPN}\n",
      "YJL071W ARG2 is associated with reactions: {ACGSm}\n",
      "YJL088W ARG3 is associated with reactions: {OCBT}\n",
      "YJL101C GSH1 is associated with reactions: {GLUCYS}\n",
      "YJL121C RPE1 is associated with reactions: {RPE}\n",
      "YJL126W NIT2 is associated with reactions: {NTRLASE3, NTRLASE2, NTRLASE}\n",
      "YJL130C URA2 is associated with reactions: {CBPS, DHORTS, ASPCT}\n",
      "YJL134W LCB3 is associated with reactions: {SBPP2er, SBPP1er}\n",
      "YJL137C GLG2 is associated with reactions: {GLYGS, GLCS2}\n",
      "YJL139C YUR1 is associated with reactions: {G12MT2g, G12MT1g}\n",
      "YJL153C INO1 is associated with reactions: {MI1PS}\n",
      "YJL155C FBP26 is associated with reactions: {FBP26}\n",
      "YJL166W QCR8 is associated with reactions: {CYOR_u6m}\n",
      "YJL167W ERG20 is associated with reactions: {GRTT, DMATT}\n",
      "YJL196C ELO1 is associated with reactions: {FAS161, FAS141, FAS181}\n",
      "YJL198W PHO90 is associated with reactions: {PIt2r}\n",
      "YJL200C ACO2 is associated with reactions: {ACONTm}\n",
      "YJL212C OPT1 is associated with reactions: {GTHRDt2}\n",
      "YJL214W HXT8 is associated with reactions: {GLCt1, FRUt2, MANt2}\n",
      "YJL216C IMA5 is associated with reactions: {MALT}\n",
      "YJL219W HXT9 is associated with reactions: {GALt2, GLCt1, FRUt2, MANt2}\n",
      "YJL221C IMA4 is associated with reactions: {MALT, DGGH}\n",
      "YJR001W AVT1 is associated with reactions: {ILEt6, TYRt6, ASNt6, GLNt6, LEUt6}\n",
      "YJR009C TDH2 is associated with reactions: {GAPD}\n",
      "YJR010W MET3 is associated with reactions: {SADT}\n",
      "YJR016C ILV3 is associated with reactions: {DHAD2m, DHAD1m}\n",
      "YJR019C TES1 is associated with reactions: {PTE9x, PTE11x, PTE7x, PTE12x, PTE8x, PTE10x, PTE2x}\n",
      "YJR025C BNA1 is associated with reactions: {3HAO}\n",
      "YJR048W CYC1 is associated with reactions: {D_LACDcm, CCP2m, L_LACD2cm, CYOR_u6m, CYOOm, D_LACDm}\n",
      "YJR049C UTR1 is associated with reactions: {NADK, NADKm}\n",
      "YJR051W OSM1 is associated with reactions: {FRDm}\n",
      "YJR057W CDC8 is associated with reactions: {DTMPK}\n",
      "YJR066W TOR1 is associated with reactions: {PIN3K_SC}\n",
      "YJR073C OPI3 is associated with reactions: {PMETM_SC, MFAPS_SC}\n",
      "YJR077C MIR1 is associated with reactions: {PIt2m}\n",
      "YJR078W BNA2 is associated with reactions: {TRPO2}\n",
      "YJR095W SFC1 is associated with reactions: {SUCFUMtm}\n",
      "YJR103W URA8 is associated with reactions: {CTPS1, CTPS2}\n",
      "YJR105W ADO1 is associated with reactions: {ADNK1}\n",
      "YJR109C CPA2 is associated with reactions: {CBPS}\n",
      "YJR121W ATP2 is associated with reactions: {ATPS3m}\n",
      "YJR130C STR2 is associated with reactions: {METB1}\n",
      "YJR133W XPT1 is associated with reactions: {XPPT}\n",
      "YJR137C MET5 is associated with reactions: {SULR}\n",
      "YJR139C HOM6 is associated with reactions: {HSDy, HSDxi}\n",
      "YJR143C PMT4 is associated with reactions: {DOLPMMer}\n",
      "YJR148W BAT2 is associated with reactions: {VALTA, ILETA, OMCDC, LEUTA}\n",
      "YJR152W DAL5 is associated with reactions: {ALLTTti}\n",
      "YJR153W PGU1 is associated with reactions: {EPGALURSe}\n",
      "YJR158W HXT16 is associated with reactions: {GLCt1, FRUt2, MANt2}\n",
      "YJR159W SOR1 is associated with reactions: {SBTD_D2, SBTD_L}\n",
      "YJR160C MPH3 is associated with reactions: {MALTt2}\n",
      "YKL001C MET14 is associated with reactions: {ADSK}\n",
      "YKL004W AUR1 is associated with reactions: {IPCS124_SC, IPCS126_SC, IPCS326_SC, IPCS226_SC, IPCS324_SC, IPCS224_SC}\n",
      "YKL008C LAC1 is associated with reactions: {CERS124, CERS224er, CERS226, CERS124er, CERS126, CERS126er, CERS224, CERS226er}\n",
      "YKL016C ATP7 is associated with reactions: {ATPS3m}\n",
      "YKL024C URA6 is associated with reactions: {URIDK2r, UMPK, URIDK2rn, UMPKn}\n",
      "YKL026C GPX1 is associated with reactions: {GTHPi}\n",
      "YKL029C MAE1 is associated with reactions: {ME2m, ME1m}\n",
      "YKL035W UGP1 is associated with reactions: {GALUi}\n",
      "YKL055C OAR1 is associated with reactions: {FAS160ACPm, FAS141ACPm, MCOATAm, FAS80ACPm_L, FAS120ACPm, FAS161ACPm, FAS181ACPm, FAS182ACPm, FAS140ACPm, ACOATAm, FAS180ACPm, FAS100ACPm}\n",
      "YKL060C FBA1 is associated with reactions: {FBA3, FBA, FBA2}\n",
      "YKL067W YNK1 is associated with reactions: {NDPK5, NDPK6, NDPK2, NDPK7, NDPK3, NDPK8, NDPK4, NDPK1, NDPK9}\n",
      "YKL080W VMA5 is associated with reactions: {ATPS3v, ATPS3g}\n",
      "YKL085W MDH1 is associated with reactions: {MDHm}\n",
      "YKL104C GFA1 is associated with reactions: {GF6PTA}\n",
      "YKL106W AAT1 is associated with reactions: {EHGLATm, TYRTAim, ASPTAm}\n",
      "YKL120W OAC1 is associated with reactions: {OAAt2m}\n",
      "YKL127W PGM1 is associated with reactions: {PPM, PGMT}\n",
      "YKL132C RMA1 is associated with reactions: {THFGLUS}\n",
      "YKL140W TGL1 is associated with reactions: {FECOSTESTH_SC, EPISTESTH_SC, ERGSTESTH_SC, LANOSTESTH_SC, ZYMSTESTH_SC}\n",
      "YKL141W SDH3 is associated with reactions: {SUCD1m, SUCD3_u6m, SUCD2_u6m}\n",
      "YKL146W AVT3 is associated with reactions: {LEUt7, ASNt7, ILEt7, TYRt7, GLNt7}\n",
      "YKL148C SDH1 is associated with reactions: {SUCD1m, SUCD3_u6m, SUCD2_u6m}\n",
      "YKL150W MCR1 is associated with reactions: {SQLErx, LNS14DMx, C22STDSx}\n",
      "YKL152C GPM1 is associated with reactions: {PGM, DPGM}\n",
      "YKL174C TPO5 is associated with reactions: {PTRCtex2, SPMDtex2}\n",
      "YKL181W PRS1 is associated with reactions: {PRPPS}\n",
      "YKL182W FAS1 is associated with reactions: {FA160ACPHi, FAS160COA, FAS160, FAS140COA, FAS120, ACOATA, FA182ACPH, FAS100, FA180ACPH, FA120ACPHi, FAS180COA, FA141ACPHi, FA161ACPHi, FAS80COA_L, FAS100COA, FA140ACPHi, FAS120COA, FAS80_L, FAS140, FAS180, MCOATA, FA181ACPH}\n",
      "YKL184W SPE1 is associated with reactions: {ORNDC}\n",
      "YKL188C PXA2 is associated with reactions: {FA160COAabcp, FA161COAabcp, FA182COAabcp, FA140COAabcp, FA180COAabcp, FA141COAabcp, FA181COAabcp}\n",
      "YKL192C ACP1 is associated with reactions: {FAS160ACPm, FAS141ACPm, NADH2_u6m, MCOATAm, FAS80ACPm_L, FAS120ACPm, FAS161ACPm, FAS181ACPm, FAS182ACPm, FAS140ACPm, ACOATAm, FAS180ACPm, FAS100ACPm}\n",
      "YKL194C MST1 is associated with reactions: {THRTRSm}\n",
      "YKL203C TOR2 is associated with reactions: {PIN3K_SC}\n",
      "YKL211C TRP3 is associated with reactions: {ANS, IGPS}\n",
      "YKL212W SAC1 is associated with reactions: {PI35BP5P_SC}\n",
      "YKL216W URA1 is associated with reactions: {DHORDi, DHORDfum, DHORD4i}\n",
      "YKL217W JEN1 is associated with reactions: {PYRt2, D_LACt2, L_LACt2r}\n",
      "YKL218C SRY1 is associated with reactions: {THRD_L}\n",
      "YKR009C FOX2 is associated with reactions: {FAO181p_odd, FAO182p_eveneven, FAO182p_evenodd, FAO182p_oddodd, FAO240p, HACD10p, FAO80p, HACD4p, ECOAH4p, HACD5p, ECOAH5p, FAO141p_even, HACD6p, ECOAH6p, HACD7p, ECOAH7p, HACD8p, ECOAH8p, FAO141p_odd, FAO161p_even, FAO161p_odd, FAO181p_even, ECOAH11p}\n",
      "YKR031C SPO14 is associated with reactions: {PLD_SC}\n",
      "YKR039W GAP1 is associated with reactions: {SERt2r, LEUt2r, GLUt2r, ORNt2r, GLNt2r, ALAt2r, LYSt2r, METt2r, VALt2r, ASNt2r, TRPt2r, THRt2r, GLYt2r, CYSt2r, ASPt2r, ARGt2r, TYRt2r, HISt2r, PHEt2r, PROt2r, ILEt2r}\n",
      "YKR053C YSR3 is associated with reactions: {SBPP2er, SBPP1er}\n",
      "YKR058W GLG1 is associated with reactions: {GLYGS, GLCS2}\n",
      "YKR061W KTR2 is associated with reactions: {G12MT2g, G12MT1g}\n",
      "YKR066C CCP1 is associated with reactions: {CCP2m}\n",
      "YKR067W GPT2 is associated with reactions: {GAT2_SC, GAT1_SC}\n",
      "YKR069W MET1 is associated with reactions: {UPP3MT}\n",
      "YKR080W MTD1 is associated with reactions: {MTHFD2i}\n",
      "YKR093W PTR2 is associated with reactions: {PEPDt3}\n",
      "YKR097W PCK1 is associated with reactions: {PPCK}\n",
      "YLL012W YEH1 is associated with reactions: {FECOSTESTH_SC, EPISTESTH_SC, ERGSTESTH_SC, LANOSTESTH_SC, ZYMSTESTH_SC}\n",
      "YLL018C DPS1 is associated with reactions: {ASPTRS}\n",
      "YLL028W TPO1 is associated with reactions: {SPMDt3i, PTRCt3i, SPRMt2i}\n",
      "YLL041C SDH2 is associated with reactions: {SUCD1m, SUCD3_u6m, SUCD2_u6m}\n",
      "YLL043W FPS1 is associated with reactions: {GLYCt}\n",
      "YLL048C YBT1 is associated with reactions: {TCHOLAabcv}\n",
      "YLL052C AQY2 is associated with reactions: {H2Ot}\n",
      "YLL057C JLP1 is associated with reactions: {TAUDO}\n",
      "YLL061W MMP1 is associated with reactions: {MMETt2}\n",
      "YLL062C MHT1 is associated with reactions: {HCYSMT}\n",
      "YLR011W LOT6 is associated with reactions: {FMNRx, FMNRx2}\n",
      "YLR017W MEU1 is associated with reactions: {MTAP}\n",
      "YLR020C YEH2 is associated with reactions: {LANOSTESTH_SCe, ZYMSTESTH_SCe, FECOSTESTH_SCe, EPISTESTH_SCe, ERGSTESTH_SCe}\n",
      "YLR027C AAT2 is associated with reactions: {ASPTA, TYRTAi, EHGLAT, EHGLATp, ASPTAp, TYRTAip}\n",
      "YLR028C ADE16 is associated with reactions: {AICART, IMPC}\n",
      "YLR038C COX12 is associated with reactions: {CYOOm}\n",
      "YLR043C TRX1 is associated with reactions: {RNDR1n, RNDR2, RNDR2n, RNDR3, RNDR3n, TRDR, RNDR4, RNDR4n, THIORDXni, THIORDXp, RNTR1, PAPSR, RNTR2, RNTR3, THIORDXi, RNTR4, RNDR1}\n",
      "YLR044C PDC1 is associated with reactions: {PPYRDC, INDPYRD, PYRDC, ACALDCD, PYRDC2, 3MOBDC, 3MOPDC}\n",
      "YLR056W ERG3 is associated with reactions: {C5STDS}\n",
      "YLR058C SHM2 is associated with reactions: {GHMT2r}\n",
      "YLR060W FRS1 is associated with reactions: {PHETRS}\n",
      "YLR070C XYL2 is associated with reactions: {XYLTD_D}\n",
      "YLR081W GAL2 is associated with reactions: {GALt2, GLCt1}\n",
      "YLR089C ALT1 is associated with reactions: {ALATA_Lm}\n",
      "YLR092W SUL2 is associated with reactions: {SO4ti}\n",
      "YLR100W ERG27 is associated with reactions: {C3STKR1, C3STKR2}\n",
      "YLR109W AHP1 is associated with reactions: {THIORDXp}\n",
      "YLR133W CKI1 is associated with reactions: {CHOLK}\n",
      "YLR134W PDC5 is associated with reactions: {PPYRDC, INDPYRD, PYRDC, ACALDCD, PYRDC2, 3MOBDC, 3MOPDC}\n",
      "YLR138W NHA1 is associated with reactions: {NAt3_1}\n",
      "YLR142W PUT1 is associated with reactions: {PRO1xm}\n",
      "YLR146C SPE4 is associated with reactions: {SPRMS}\n",
      "YLR151C PCD1 is associated with reactions: {COAHLp}\n",
      "YLR153C ACS2 is associated with reactions: {ACS}\n",
      "YLR155C ASP3-1 is associated with reactions: {ASNNe}\n",
      "YLR157C ASP3-2 is associated with reactions: {ASNNe}\n",
      "YLR158C ASP3-3 is associated with reactions: {ASNNe}\n",
      "YLR160C ASP3-4 is associated with reactions: {ASNNe}\n",
      "YLR164W SHH4 is associated with reactions: {SUCD1m, SUCD3_u6m, SUCD2_u6m}\n",
      "YLR172C DPH5 is associated with reactions: {DIPS}\n",
      "YLR174W IDP2 is associated with reactions: {ICDHyr}\n",
      "YLR180W SAM1 is associated with reactions: {METAT}\n",
      "YLR189C ATG26 is associated with reactions: {ERGSTGLCT}\n",
      "YLR195C NMT1 is associated with reactions: {GLPT}\n",
      "YLR201C COQ9 is associated with reactions: {3DH5HPBMTm, 2HP6MPMOm, 2HMHMBQMTm, 2HPMMBQMOm, 2HPMBQMTm}\n",
      "YLR209C PNP1 is associated with reactions: {DURIPP, PUNP4, PUNP1m, PUNP5, PUNP2, PUNP6, PUNP3, PUNP1, PUNP7, TMDPP, PUNP3m}\n",
      "YLR231C BNA5 is associated with reactions: {HKYNH, KYN}\n",
      "YLR237W THI7 is associated with reactions: {THMt2}\n",
      "YLR240W VPS34 is associated with reactions: {PIN3K_SC}\n",
      "YLR245C CDD1 is associated with reactions: {DCYTD, CYTD}\n",
      "YLR258W GSY2 is associated with reactions: {GLYGS, GLCS2}\n",
      "YLR260W LCB5 is associated with reactions: {SLCBK2, SLCBK1}\n",
      "YLR284C ECI1 is associated with reactions: {FAO181p_odd, FAO182p_eveneven, FAO182p_evenodd, FAO182p_oddodd, FAO141p_odd, FAO161p_even, FAO161p_odd, FAO181p_even, FAO141p_even}\n",
      "YLR285W NNT1 is associated with reactions: {NNMT}\n",
      "YLR295C ATP14 is associated with reactions: {ATPS3m}\n",
      "YLR299W ECM38 is associated with reactions: {GTMLT}\n",
      "YLR300W EXG1 is associated with reactions: {13BGHe}\n",
      "YLR303W MET17 is associated with reactions: {AHSERL, AHSERL2}\n",
      "YLR304C ACO1 is associated with reactions: {ACONT, ACONTm}\n",
      "YLR305C STT4 is associated with reactions: {PIN4K_SC}\n",
      "YLR307W CDA1 is associated with reactions: {CHTNDA}\n",
      "YLR308W CDA2 is associated with reactions: {CHTNDA}\n",
      "YLR328W NMA1 is associated with reactions: {NMNATm, NNATm, NNATr}\n",
      "YLR342W FKS1 is associated with reactions: {13GS}\n",
      "YLR343W GAS2 is associated with reactions: {13GS}\n",
      "YLR348C DIC1 is associated with reactions: {SUCCtm, SUCFUMtm, MALtm}\n",
      "YLR351C NIT3 is associated with reactions: {NTRLASE3, NTRLASE2, NTRLASE}\n",
      "YLR354C TAL1 is associated with reactions: {TALA}\n",
      "YLR355C ILV5 is associated with reactions: {KARA1im, KARA2im, DPRm}\n",
      "YLR359W ADE13 is associated with reactions: {ADSL2r, ADSL1r}\n",
      "YLR372W ELO3 is associated with reactions: {FAS240_L, FAS260}\n",
      "YLR377C FBP1 is associated with reactions: {FBP}\n",
      "YLR382C NAM2 is associated with reactions: {LEUTRSm}\n",
      "YLR395C COX8 is associated with reactions: {CYOOm}\n",
      "YLR420W URA4 is associated with reactions: {DHORTS}\n",
      "YLR432W IMD3 is associated with reactions: {IMPD}\n",
      "YLR438W CAR2 is associated with reactions: {ORNTA}\n",
      "YLR447C VMA6 is associated with reactions: {ATPS3v, ATPS3g}\n",
      "YLR450W HMG2 is associated with reactions: {HMGCOAR}\n",
      "YML004C GLO1 is associated with reactions: {LGTHL}\n",
      "YML008C ERG6 is associated with reactions: {SAM24MT}\n",
      "YML022W APT1 is associated with reactions: {ADPT}\n",
      "YML035C AMD1 is associated with reactions: {AMPDA, AMPN}\n",
      "YML042W CAT2 is associated with reactions: {CSNATp, CSNATm}\n",
      "YML054C CYB2 is associated with reactions: {L_LACD2cm}\n",
      "YML056C IMD4 is associated with reactions: {IMPD}\n",
      "YML059C NTE1 is associated with reactions: {PLBPC_SC}\n",
      "YML070W DAK1 is associated with reactions: {DHAK}\n",
      "YML075C HMG1 is associated with reactions: {HMGCOAR}\n",
      "YML081C_A ATP18 is associated with reactions: {ATPS3m}\n",
      "YML082W  is associated with reactions: {SHSL4r}\n",
      "YML086C ALO1 is associated with reactions: {ARAB14LO}\n",
      "YML096W  is associated with reactions: {ASNS1}\n",
      "YML100W TSL1 is associated with reactions: {TRE6PS, TRE6PP}\n",
      "YML106W URA5 is associated with reactions: {ORPT}\n",
      "YML110C COQ5 is associated with reactions: {3DH5HPBMTm, 2HP6MPMOm, 2HMHMBQMTm, 2HPMMBQMOm, 2HPMBQMTm}\n",
      "YML120C NDI1 is associated with reactions: {NADH2_u6m}\n",
      "YML123C PHO84 is associated with reactions: {PIt2r}\n",
      "YML126C ERG13 is associated with reactions: {HMGCOASm, HMGCOAS}\n",
      "YMR006C PLB2 is associated with reactions: {PLBP1I_SCe, PLBPC_SCe}\n",
      "YMR008C PLB1 is associated with reactions: {PLBP1I_SCe, PLBPC_SCe}\n",
      "YMR009W ADI1 is associated with reactions: {DKMPPD2}\n",
      "YMR011W HXT2 is associated with reactions: {GLCt1, FRUt2, MANt2}\n",
      "YMR013C SEC59 is associated with reactions: {DOLK}\n",
      "YMR015C ERG5 is associated with reactions: {C22STDS, C22STDSx}\n",
      "YMR020W FMS1 is associated with reactions: {POLYAO2, POLYAO3, POLYAO}\n",
      "YMR054W STV1 is associated with reactions: {ATPS3g}\n",
      "YMR056C AAC1 is associated with reactions: {ATPtm_H}\n",
      "YMR062C ARG7 is associated with reactions: {ACGSm, ORNTACim}\n",
      "YMR083W ADH3 is associated with reactions: {ALCD24xim, ALCD25xim, ALCD23xim, ALCD2irm, ALCD26xim, ALCD22xim}\n",
      "YMR084W  is associated with reactions: {GF6PTA}\n",
      "YMR085W  is associated with reactions: {GF6PTA}\n",
      "YMR088C VBA1 is associated with reactions: {HISt6, LYSt6}\n",
      "YMR105C PGM2 is associated with reactions: {PPM, PGMT}\n",
      "YMR108W ILV2 is associated with reactions: {ACLSm, ACHBSm}\n",
      "YMR113W FOL3 is associated with reactions: {THFGLUS}\n",
      "YMR118C SHH3 is associated with reactions: {SUCD1m, SUCD3_u6m, SUCD2_u6m}\n",
      "YMR120C ADE17 is associated with reactions: {AICART, IMPC}\n",
      "YMR145C NDE1 is associated with reactions: {NADH2_u6cm}\n",
      "YMR169C ALD3 is associated with reactions: {ALDD22x, ALDD19xr}\n",
      "YMR170C ALD2 is associated with reactions: {ALDD22x, ALDD19xr}\n",
      "YMR189W GCV2 is associated with reactions: {GLYCLm, GCCcm, GCC2am, GCC2bim, GCC2cm_copy1, GCCam, THFATm, GCCbim}\n",
      "YMR202W ERG2 is associated with reactions: {C8STI}\n",
      "YMR205C PFK2 is associated with reactions: {PFK, PFK_3, PFK_2}\n",
      "YMR207C HFA1 is associated with reactions: {ACCOACrm}\n",
      "YMR208W ERG12 is associated with reactions: {MEVK4, MEVK3, MEVK2, MEVK1}\n",
      "YMR215W GAS3 is associated with reactions: {13GS}\n",
      "YMR217W GUA1 is associated with reactions: {GMPS2}\n",
      "YMR220W ERG8 is associated with reactions: {PMEVK}\n",
      "YMR226C  is associated with reactions: {ATHRDHr, LSERDHr}\n",
      "YMR246W FAA4 is associated with reactions: {FACOAL182, FACOAL160, FACOAL161, FACOAL141, FACOAL181, FACOAL180, FACOAL140}\n",
      "YMR250W GAD1 is associated with reactions: {GLUDC}\n",
      "YMR256C COX7 is associated with reactions: {CYOOm}\n",
      "YMR261C TPS3 is associated with reactions: {TRE6PS, TRE6PP}\n",
      "YMR267W PPA2 is associated with reactions: {PPAm}\n",
      "YMR271C URA10 is associated with reactions: {ORPT}\n",
      "YMR272C SCS7 is associated with reactions: {CERS326, CERH124_copy2, CERS324, CERH126_copy2}\n",
      "YMR289W ABZ2 is associated with reactions: {ADCL}\n",
      "YMR293C HER2 is associated with reactions: {AMID}\n",
      "YMR296C LCB1 is associated with reactions: {SERPT}\n",
      "YMR300C ADE4 is associated with reactions: {GLUPRT}\n",
      "YMR303C ADH2 is associated with reactions: {ALCD22xi, ALCD23xi, ALCD2x_copy1, ALCD25xi, ALCD26xi, ALCD24xi}\n",
      "YMR306W FKS3 is associated with reactions: {13GS}\n",
      "YMR307W GAS1 is associated with reactions: {13GS}\n",
      "YMR313C TGL3 is associated with reactions: {TAGL_SC}\n",
      "YMR318C ADH6 is associated with reactions: {ALCD25yi, ALCD23yi, ALCD22yi, ALCD24yi}\n",
      "YMR319C FET4 is associated with reactions: {FE2t}\n",
      "YMR323W ERR3 is associated with reactions: {ENO}\n",
      "YNL003C PET8 is associated with reactions: {AMETtm}\n",
      "YNL009W IDP3 is associated with reactions: {ICDHyp}\n",
      "YNL029C KTR5 is associated with reactions: {G12MT2g, G12MT1g}\n",
      "YNL037C IDH1 is associated with reactions: {ICDHxm}\n",
      "YNL052W COX5A is associated with reactions: {CYOOm}\n",
      "YNL071W LAT1 is associated with reactions: {PDHm}\n",
      "YNL073W MSK1 is associated with reactions: {LYSTRSm}\n",
      "YNL101W AVT4 is associated with reactions: {LEUt7, ASNt7, ILEt7, TYRt7, GLNt7}\n",
      "YNL104C LEU4 is associated with reactions: {IPPS, IPPSm}\n",
      "YNL106C INP52 is associated with reactions: {PI45BP5P_SC, PI35BP5P_SC}\n",
      "YNL111C CYB5 is associated with reactions: {SQLErx, LNS14DMx, C22STDSx}\n",
      "YNL117W MLS1 is associated with reactions: {MALS, MALSp}\n",
      "YNL129W NRK1 is associated with reactions: {RNMK}\n",
      "YNL130C CPT1 is associated with reactions: {DAGCPT_SC}\n",
      "YNL141W AAH1 is associated with reactions: {ADD, DADA, ADA}\n",
      "YNL142W MEP2 is associated with reactions: {NH4t}\n",
      "YNL169C PSD1 is associated with reactions: {PSERDm_SC}\n",
      "YNL192W CHS1 is associated with reactions: {CHTNS}\n",
      "YNL202W SPS19 is associated with reactions: {FAO182p_eveneven, FAO161p_even, FAO182p_evenodd, FAO181p_even, FAO141p_even}\n",
      "YNL220W ADE12 is associated with reactions: {ADSS}\n",
      "YNL241C ZWF1 is associated with reactions: {G6PDH2r}\n",
      "YNL247W  is associated with reactions: {CYSTRS}\n",
      "YNL256W FOL1 is associated with reactions: {DHPSm, FOLD3m, DHNPAm, HPPKm}\n",
      "YNL267W PIK1 is associated with reactions: {PIN4K_SC, PIN4Kn_SC}\n",
      "YNL268W LYP1 is associated with reactions: {LYSt2r}\n",
      "YNL270C ALP1 is associated with reactions: {ARGt2r}\n",
      "YNL277W MET2 is associated with reactions: {HSERTA}\n",
      "YNL280C ERG24 is associated with reactions: {C14STR}\n",
      "YNL292W PUS4 is associated with reactions: {YUMPS}\n",
      "YNL316C PHA2 is associated with reactions: {PPNDH}\n",
      "YNL318C HXT14 is associated with reactions: {GALt2}\n",
      "YNR001C CIT1 is associated with reactions: {CSm}\n",
      "YNR008W LRO1 is associated with reactions: {PCDAGAT}\n",
      "YNR012W URK1 is associated with reactions: {URIK1, CYTDK2, URIK2}\n",
      "YNR013C PHO91 is associated with reactions: {PIt2r}\n",
      "YNR016C ACC1 is associated with reactions: {FAS180COA, FAS160COA, FAS160, FAS140COA, FAS120, FAS80COA_L, FAS100COA, FAS120COA, FAS180, FAS80_L, FAS100, FAS140, ACCOAC}\n",
      "YNR019W ARE2 is associated with reactions: {TRIGS_SC, ERGSTAT_SC}\n",
      "YNR033W ABZ1 is associated with reactions: {ADCS}\n",
      "YNR034W SOL1 is associated with reactions: {PGL}\n",
      "YNR041C COQ2 is associated with reactions: {HBZOPT6m}\n",
      "YNR043W MVD1 is associated with reactions: {DPMVD}\n",
      "YNR050C LYS9 is associated with reactions: {SACCD1}\n",
      "YNR056C BIO5 is associated with reactions: {8AONNt2}\n",
      "YNR057C BIO4 is associated with reactions: {DBTS}\n",
      "YNR058W BIO3 is associated with reactions: {AMAOTr}\n",
      "YNR072W HXT17 is associated with reactions: {GLCt1, FRUt2, MANt2}\n",
      "YOL011W PLB3 is associated with reactions: {PLBP1I_SCe}\n",
      "YOL020W TAT2 is associated with reactions: {TRPt2r, TYRt2r, GLYt2r, PHEt2r, CYSt2r, ALAt2r}\n",
      "YOL030W GAS5 is associated with reactions: {13GS}\n",
      "YOL033W MSE1 is associated with reactions: {GLUTRSm}\n",
      "YOL049W GSH2 is associated with reactions: {GTHS}\n",
      "YOL052C SPE2 is associated with reactions: {ADMDC}\n",
      "YOL055C THI20 is associated with reactions: {HMPK1, PMPK}\n",
      "YOL056W GPM3 is associated with reactions: {PGM}\n",
      "YOL058W ARG1 is associated with reactions: {ARGSS}\n",
      "YOL059W GPD2 is associated with reactions: {G3PD1irm}\n",
      "YOL061W PRS5 is associated with reactions: {PRPPS}\n",
      "YOL064C MET22 is associated with reactions: {BPNT}\n",
      "YOL065C INP54 is associated with reactions: {PI45BP5P_SC}\n",
      "YOL066C RIB2 is associated with reactions: {DRTPPD}\n",
      "YOL077W_A ATP19 is associated with reactions: {ATPS3m}\n",
      "YOL086C ADH1 is associated with reactions: {ALCD22xi, ALCD23xi, ALCD2ir, ALCD25xi, ALCD26xi, ALCD24xi}\n",
      "YOL096C COQ3 is associated with reactions: {3DH5HPBMTm, 2HP6MPMOm, 2HMHMBQMTm, 2HPMMBQMOm, 2HPMBQMTm}\n",
      "YOL097C WRS1 is associated with reactions: {TRPTRS}\n",
      "YOL103W ITR2 is associated with reactions: {INSTt2}\n",
      "YOL126C MDH2 is associated with reactions: {MDH}\n",
      "YOL132W GAS4 is associated with reactions: {13GS}\n",
      "YOL136C PFK27 is associated with reactions: {PFK26}\n",
      "YOL140W ARG8 is associated with reactions: {ACOTAim}\n",
      "YOL143C RIB4 is associated with reactions: {RBFSa}\n",
      "YOL151W GRE2 is associated with reactions: {LALDO3}\n",
      "YOL156W HXT11 is associated with reactions: {GALt2, GLCt1, FRUt2, MANt2}\n",
      "YOR011W AUS1 is associated with reactions: {FECOSTt, ZYMSTt, ERGSTt, LANOSTt, EPISTt}\n",
      "YOR040W GLO4 is associated with reactions: {GLYOXm}\n",
      "YOR065W CYT1 is associated with reactions: {CYOR_u6m}\n",
      "YOR071C NRT1 is associated with reactions: {THMt2}\n",
      "YOR074C CDC21 is associated with reactions: {TMDS}\n",
      "YOR095C RKI1 is associated with reactions: {RPI}\n",
      "YOR099W KTR1 is associated with reactions: {G12MT2g, G12MT1g}\n",
      "YOR100C CRC1 is associated with reactions: {CRNCARtm}\n",
      "YOR108W LEU9 is associated with reactions: {IPPS}\n",
      "YOR109W INP53 is associated with reactions: {PI45BP5P_SC, PI35BP5P_SC}\n",
      "YOR120W GCY1 is associated with reactions: {GLYCDy}\n",
      "YOR125C CAT5 is associated with reactions: {3DH5HPBMTm, 2HP6MPMOm, 2HMHMBQMTm, 2HPMMBQMOm, 2HPMBQMTm}\n",
      "YOR126C IAH1 is associated with reactions: {ACHLE3, ACHLE1, ACHLE2}\n",
      "YOR128C ADE2 is associated with reactions: {AIRCr}\n",
      "YOR130C ORT1 is associated with reactions: {ORNt3m}\n",
      "YOR136W IDH2 is associated with reactions: {ICDHxm}\n",
      "YOR142W LSC1 is associated with reactions: {ITCOALm, SUCOASm}\n",
      "YOR143C THI80 is associated with reactions: {TMDPK, TMDPPK}\n",
      "YOR155C ISN1 is associated with reactions: {NTD11}\n",
      "YOR163W DDP1 is associated with reactions: {PMI12346PH, PMI1346PH}\n",
      "YOR168W GLN4 is associated with reactions: {GLNTRS}\n",
      "YOR171C LCB4 is associated with reactions: {SLCBK2, SLCBK1}\n",
      "YOR176W HEM15 is associated with reactions: {FCLTm}\n",
      "YOR180C DCI1 is associated with reactions: {FAO181p_odd, FAO182p_eveneven, FAO182p_evenodd, FAO182p_oddodd, FAO141p_odd, FAO161p_even, FAO161p_odd, FAO181p_even, FAO141p_even}\n",
      "YOR184W SER1 is associated with reactions: {PSERT, OHPBAT}\n",
      "YOR190W SPR1 is associated with reactions: {13BGHe}\n",
      "YOR192C THI72 is associated with reactions: {THMt2}\n",
      "YOR202W HIS3 is associated with reactions: {IGPDH}\n",
      "YOR209C NPT1 is associated with reactions: {NAPRT, NAPRTm}\n",
      "YOR221C MCT1 is associated with reactions: {FAS160ACPm, FAS141ACPm, MCOATAm, FAS80ACPm_L, FAS120ACPm, FAS161ACPm, FAS181ACPm, FAS182ACPm, FAS140ACPm, ACOATAm, FAS180ACPm, FAS100ACPm}\n",
      "YOR222W ODC2 is associated with reactions: {OXO2Ctm}\n",
      "YOR236W DFR1 is associated with reactions: {DHFRim, DHFR}\n",
      "YOR241W MET7 is associated with reactions: {THFGLUS}\n",
      "YOR245C DGA1 is associated with reactions: {TRIGS_SC}\n",
      "YOR270C VPH1 is associated with reactions: {ATPS3v}\n",
      "YOR273C TPO4 is associated with reactions: {SPMDt3i, PTRCt3i, SPRMt2i}\n",
      "YOR278W HEM4 is associated with reactions: {UPP3S}\n",
      "YOR303W CPA1 is associated with reactions: {CBPS}\n",
      "YOR317W FAA1 is associated with reactions: {FACOAL182, FACOAL160, FACOAL161, FACOAL141, FACOAL181, FACOAL180, FACOAL140}\n",
      "YOR321W PMT3 is associated with reactions: {DOLPMMer}\n",
      "YOR323C PRO2 is associated with reactions: {G5SD, G5SD2}\n",
      "YOR332W VMA4 is associated with reactions: {ATPS3v, ATPS3g}\n",
      "YOR335C ALA1 is associated with reactions: {ALATRS}\n",
      "YOR347C PYK2 is associated with reactions: {PYK}\n",
      "YOR348C PUT4 is associated with reactions: {PROt2r, GLYt2r, ALAt2r, ABUTt2r}\n",
      "YOR360C PDE2 is associated with reactions: {PDE5, PDE1, PDE2, PDE4, PDE3}\n",
      "YOR374W ALD4 is associated with reactions: {ALDD20ym, ALDD2ym, ABUTDm, ALDD2xm, ALDD20xm}\n",
      "YOR375C GDH1 is associated with reactions: {GLUDy}\n",
      "YOR377W ATF1 is associated with reactions: {OHACT4, OHACT2, OHACT5, OHACT1, OHACT3}\n",
      "YOR388C FDH1 is associated with reactions: {FDH}\n",
      "YOR393W ERR1 is associated with reactions: {ENO}\n",
      "YPL023C MET12 is associated with reactions: {MTHFR3}\n",
      "YPL028W ERG10 is associated with reactions: {ACACT1m, ACACT1r}\n",
      "YPL036W PMA2 is associated with reactions: {ATPS}\n",
      "YPL040C ISM1 is associated with reactions: {ILETRSm}\n",
      "YPL053C KTR6 is associated with reactions: {G12MT2g, G12MT1g}\n",
      "YPL057C SUR1 is associated with reactions: {MIPCS226_SC, MIPCS324_SC, MIPCS326_SC, MIPCS124_SC, MIPCS126_SC, MIPCS224_SC}\n",
      "YPL059W GRX5 is associated with reactions: {GTHOm, GTHPm}\n",
      "YPL061W ALD6 is associated with reactions: {ALDD2y, ALDD20y}\n",
      "YPL069C BTS1 is associated with reactions: {FRTT}\n",
      "YPL078C ATP4 is associated with reactions: {ATPS3m}\n",
      "YPL087W YDC1 is associated with reactions: {CERASE224er, CERS124er, CERASE124er, CERS126er, CERASE126er, CERASE226er}\n",
      "YPL091W GLR1 is associated with reactions: {GTHOm, GTHOr}\n",
      "YPL092W SSU1 is associated with reactions: {SO3ti}\n",
      "YPL097W MSY1 is associated with reactions: {TYRTRSm}\n",
      "YPL104W MSD1 is associated with reactions: {ASPTRSm}\n",
      "YPL110C GDE1 is associated with reactions: {GPDDA1}\n",
      "YPL111W CAR1 is associated with reactions: {ARGN}\n",
      "YPL117C IDI1 is associated with reactions: {IPDDI}\n",
      "YPL134C ODC1 is associated with reactions: {OXO2Ctm}\n",
      "YPL147W PXA1 is associated with reactions: {FA160COAabcp, FA161COAabcp, FA182COAabcp, FA140COAabcp, FA180COAabcp, FA141COAabcp, FA181COAabcp}\n",
      "YPL148C PPT2 is associated with reactions: {ACPSm}\n",
      "YPL160W CDC60 is associated with reactions: {LEUTRS}\n",
      "YPL172C COX10 is associated with reactions: {HEMEOSm}\n",
      "YPL188W POS5 is associated with reactions: {NADK, NADKm}\n",
      "YPL189W GUP2 is associated with reactions: {GLYCt2}\n",
      "YPL212C PUS1 is associated with reactions: {YUMPS}\n",
      "YPL214C THI6 is associated with reactions: {TMPPP, HETZK}\n",
      "YPL231W FAS2 is associated with reactions: {FA160ACPHi, FAS160COA, FAS160, FAS140COA, FAS120, ACOATA, FA182ACPH, FAS100, FA180ACPH, FA120ACPHi, FAS180COA, FA141ACPHi, FA161ACPHi, FAS80COA_L, FAS100COA, FA140ACPHi, FAS120COA, FAS80_L, FAS140, FAS180, MCOATA, FA181ACPH}\n",
      "YPL234C VMA11 is associated with reactions: {ATPS3v, ATPS3g}\n",
      "YPL244C HUT1 is associated with reactions: {UDPGALt2g}\n",
      "YPL252C YAH1 is associated with reactions: {HEMEOMOm}\n",
      "YPL258C THI21 is associated with reactions: {HMPK1, PMPK}\n",
      "YPL262W FUM1 is associated with reactions: {FUMm, FUM}\n",
      "YPL265W DIP5 is associated with reactions: {SERt2r, GLYt2r, ASNt2r, GLNt2r, GLUt2r, ALAt2r, ASPt2r}\n",
      "YPL268W PLC1 is associated with reactions: {PI45BPP_SC}\n",
      "YPL271W ATP15 is associated with reactions: {ATPS3m}\n",
      "YPL273W SAM4 is associated with reactions: {HCYSMT}\n",
      "YPL274W SAM3 is associated with reactions: {AMETt2}\n",
      "YPL275W  is associated with reactions: {FDH}\n",
      "YPL276W  is associated with reactions: {FDH}\n",
      "YPL281C ERR2 is associated with reactions: {ENO}\n",
      "YPR001W CIT3 is associated with reactions: {MCITSm, CSm}\n",
      "YPR002W PDH1 is associated with reactions: {ACONT3m}\n",
      "YPR006C ICL2 is associated with reactions: {MCITL2m}\n",
      "YPR020W ATP20 is associated with reactions: {ATPS3m}\n",
      "YPR021C AGC1 is associated with reactions: {GLUt7m, ASPGLU2m}\n",
      "YPR026W ATH1 is associated with reactions: {TREHv}\n",
      "YPR033C HTS1 is associated with reactions: {HISTRS, HISTRSm}\n",
      "YPR035W GLN1 is associated with reactions: {GLNS}\n",
      "YPR036W VMA13 is associated with reactions: {ATPS3v, ATPS3g}\n",
      "YPR047W MSF1 is associated with reactions: {PHETRSm}\n",
      "YPR060C ARO7 is associated with reactions: {CHORM}\n",
      "YPR062W FCY1 is associated with reactions: {CSND}\n",
      "YPR069C SPE3 is associated with reactions: {SPMS}\n",
      "YPR074C TKL1 is associated with reactions: {TKT1, TKT2}\n",
      "YPR081C GRS2 is associated with reactions: {GLYTRS}\n",
      "YPR113W PIS1 is associated with reactions: {PINOS_SC}\n",
      "YPR121W THI22 is associated with reactions: {HMPK1}\n",
      "YPR128C ANT1 is associated with reactions: {ATPtp_H, ATP2tp_H}\n",
      "YPR138C MEP3 is associated with reactions: {NH4t}\n",
      "YPR140W TAZ1 is associated with reactions: {LPCAT_SC}\n",
      "YPR145W ASN1 is associated with reactions: {ASNS1}\n",
      "YPR156C TPO3 is associated with reactions: {SPRMt2i}\n",
      "YPR159W KRE6 is associated with reactions: {16GS}\n",
      "YPR160W GPH1 is associated with reactions: {GLCP}\n",
      "YPR167C MET16 is associated with reactions: {PAPSR}\n",
      "YPR183W DPM1 is associated with reactions: {DOLPMTcer}\n",
      "YPR184W GDB1 is associated with reactions: {GLCGSD}\n",
      "YPR191W QCR2 is associated with reactions: {CYOR_u6m}\n",
      "YPR192W AQY1 is associated with reactions: {H2Ot}\n",
      "lvaE lvaE is associated with reactions: {FACOAL40ib}\n",
      "phaA phaA is associated with reactions: {ACACT1b}\n",
      "phaBAv phaBAv is associated with reactions: {AvAARb}\n",
      "phaJ phaJ is associated with reactions: {HBCOAhydb}\n"
     ]
    }
   ],
   "source": [
    "print(\"Genes\")\n",
    "print(\"-----\")\n",
    "print(\" id   gene \")\n",
    "for x in mod2.genes:\n",
    "    associated_ids = (i.id for i in x.reactions)\n",
    "    print(x.id, \"%s is associated with reactions: %s\" %\n",
    "          (x.name,  \"{\" + \", \".join(associated_ids) + \"}\"))"
   ]
  },
  {
   "cell_type": "code",
   "execution_count": 228,
   "metadata": {
    "collapsed": true
   },
   "outputs": [],
   "source": [
    "def knockOuts(model, geneList):\n",
    "    \n",
    "    modelCopy = model.copy()\n",
    "    \n",
    "    for i, g in enumerate(geneList):\n",
    "        gKO = modelCopy.genes.get_by_id(g)\n",
    "        gKO.knock_out()\n",
    "        for r in list(gKO.reactions):\n",
    "            r.lower_bound = 0.\n",
    "            r.upper_bound = 0.\n",
    "        \n",
    "    return(modelCopy)\n",
    "    "
   ]
  },
  {
   "cell_type": "code",
   "execution_count": 255,
   "metadata": {
    "collapsed": true
   },
   "outputs": [],
   "source": [
    "fourGenes = ['YOR375C', 'YNL117W', 'YNL037C', 'YOR136W']\n",
    "\n",
    "mod1FourKO = knockOuts(mod1, fourGenes)\n",
    "mod1AccoFourKO = knockOuts(mod1accoa, fourGenes)\n",
    "\n",
    "mod1aFourKO = knockOuts(mod1a, fourGenes)\n",
    "mod1aAccoFourKO = knockOuts(mod1aAccoa, fourGenes)\n",
    "\n",
    "\n",
    "mod2FourKO = knockOuts(mod2, fourGenes)\n",
    "mod2AccoFourKO = knockOuts(mod2accoa, fourGenes)\n",
    "\n",
    "\n",
    "mod3FourKO = knockOuts(mod3, fourGenes)\n",
    "mod3AccoFourKO = knockOuts(mod3accoa, fourGenes)"
   ]
  },
  {
   "cell_type": "code",
   "execution_count": 241,
   "metadata": {},
   "outputs": [
    {
     "data": {
      "text/html": [
       "\n",
       "        <table>\n",
       "            <tr>\n",
       "                <td><strong>Gene identifier</strong></td><td>YOR136W</td>\n",
       "            </tr><tr>\n",
       "                <td><strong>Name</strong></td><td>IDH2</td>\n",
       "            </tr><tr>\n",
       "                <td><strong>Memory address</strong></td>\n",
       "                <td>0x058fdbd3fd0</td>\n",
       "            </tr><tr>\n",
       "                <td><strong>Functional</strong></td><td>False</td>\n",
       "            </tr><tr>\n",
       "                <td><strong>In 1 reaction(s)</strong></td><td>\n",
       "                    ICDHxm</td>\n",
       "            </tr>\n",
       "        </table>"
      ],
      "text/plain": [
       "<Gene YOR136W at 0x58fdbd3fd0>"
      ]
     },
     "execution_count": 241,
     "metadata": {},
     "output_type": "execute_result"
    }
   ],
   "source": [
    "mod2FourKO.genes.YOR136W"
   ]
  },
  {
   "cell_type": "code",
   "execution_count": 242,
   "metadata": {},
   "outputs": [
    {
     "data": {
      "text/html": [
       "\n",
       "        <table>\n",
       "            <tr>\n",
       "                <td><strong>Reaction identifier</strong></td><td>ICDHxm</td>\n",
       "            </tr><tr>\n",
       "                <td><strong>Name</strong></td><td>Isocitrate dehydrogenase  NAD </td>\n",
       "            </tr><tr>\n",
       "                <td><strong>Memory address</strong></td>\n",
       "                <td>0x0589add3e10</td>\n",
       "            </tr><tr>\n",
       "                <td><strong>Stoichiometry</strong></td>\n",
       "                <td>\n",
       "                    <p style='text-align:right'>icit_m + nad_m --> akg_m + co2_m + nadh_m</p>\n",
       "                    <p style='text-align:right'>Isocitrate + Nicotinamide adenine dinucleotide --> 2-Oxoglutarate + CO2 CO2 + Nicotinamide adenine dinucleotide - reduced</p>\n",
       "                </td>\n",
       "            </tr><tr>\n",
       "                <td><strong>GPR</strong></td><td>YNL037C and YOR136W</td>\n",
       "            </tr><tr>\n",
       "                <td><strong>Lower bound</strong></td><td>0.0</td>\n",
       "            </tr><tr>\n",
       "                <td><strong>Upper bound</strong></td><td>0.0</td>\n",
       "            </tr>\n",
       "        </table>\n",
       "        "
      ],
      "text/plain": [
       "<Reaction ICDHxm at 0x589add3e10>"
      ]
     },
     "execution_count": 242,
     "metadata": {},
     "output_type": "execute_result"
    }
   ],
   "source": [
    "mod2FourKO.reactions.ICDHxm"
   ]
  },
  {
   "cell_type": "code",
   "execution_count": 252,
   "metadata": {
    "collapsed": true
   },
   "outputs": [],
   "source": [
    "biomass = mod1FourKO.reactions.BIOMASS_SC5_notrace.flux_expression\n",
    "but = mod1FourKO.reactions.DM_but_c.flux_expression\n",
    "pathMod1FourKO = solPath(lams, mod1FourKO, biomass, but)"
   ]
  },
  {
   "cell_type": "code",
   "execution_count": 256,
   "metadata": {
    "collapsed": true
   },
   "outputs": [],
   "source": [
    "biomass = mod1AccoFourKO.reactions.BIOMASS_SC5_notrace.flux_expression\n",
    "but = mod1AccoFourKO.reactions.DM_but_c.flux_expression\n",
    "pathMod1AccoaFourKO = solPath(lams, mod1AccoFourKO, biomass, but)"
   ]
  },
  {
   "cell_type": "code",
   "execution_count": 259,
   "metadata": {
    "collapsed": true
   },
   "outputs": [],
   "source": [
    "biomass = mod2FourKO.reactions.BIOMASS_SC5_notrace.flux_expression\n",
    "but = mod2FourKO.reactions.DM_but_c.flux_expression\n",
    "pathMod2FourKO = solPath(lams, mod2FourKO, biomass, but)"
   ]
  },
  {
   "cell_type": "code",
   "execution_count": 279,
   "metadata": {
    "collapsed": true
   },
   "outputs": [],
   "source": [
    "biomass = mod2AccoFourKO.reactions.BIOMASS_SC5_notrace.flux_expression\n",
    "but = mod2AccoFourKO.reactions.DM_but_c.flux_expression\n",
    "pathMod2AccoaFourKO = solPath(lams, mod2AccoFourKO, biomass, but)"
   ]
  },
  {
   "cell_type": "code",
   "execution_count": 280,
   "metadata": {
    "collapsed": true
   },
   "outputs": [],
   "source": [
    "biomass = mod3FourKO.reactions.BIOMASS_SC5_notrace.flux_expression\n",
    "but = mod3FourKO.reactions.DM_but_c.flux_expression\n",
    "pathMod3FourKO = solPath(lams, mod3FourKO, biomass, but)"
   ]
  },
  {
   "cell_type": "code",
   "execution_count": 281,
   "metadata": {
    "collapsed": true
   },
   "outputs": [],
   "source": [
    "biomass = mod3AccoFourKO.reactions.BIOMASS_SC5_notrace.flux_expression\n",
    "but = mod3AccoFourKO.reactions.DM_but_c.flux_expression\n",
    "pathMod3AccoaFourKO = solPath(lams, mod3AccoFourKO, biomass, but)"
   ]
  },
  {
   "cell_type": "code",
   "execution_count": 258,
   "metadata": {},
   "outputs": [
    {
     "data": {
      "image/png": "[encoded data removed]",
      "text/plain": [
       "<matplotlib.figure.Figure at 0x58a062fb38>"
      ]
     },
     "metadata": {},
     "output_type": "display_data"
    }
   ],
   "source": [
    "plt.plot(pathMod1['buts'], pathMod1['biomasses'], label = 'mod 1')\n",
    "plt.plot(pathMod1FourKO['buts'], pathMod1FourKO['biomasses'], label = 'mod 1 w. 4 KO')\n",
    "plt.plot(pathMod1AccoaFourKO['buts'], pathMod1AccoaFourKO['biomasses'], label = 'mod 1 plus w. 4 KO')\n",
    "plt.legend()\n",
    "plt.xlabel('butyrate')\n",
    "plt.ylabel('biomass')\n",
    "plt.show()"
   ]
  },
  {
   "cell_type": "code",
   "execution_count": 276,
   "metadata": {},
   "outputs": [
    {
     "data": {
      "image/png": "[encoded data removed]",
      "text/plain": [
       "<matplotlib.figure.Figure at 0x58a6d2dba8>"
      ]
     },
     "metadata": {},
     "output_type": "display_data"
    }
   ],
   "source": [
    "plt.plot(pathMod2['buts'], pathMod2['biomasses'], label = 'mod 2')\n",
    "plt.plot(pathMod2FourKO['buts'], pathMod2FourKO['biomasses'], label = 'mod 2 w. 4 KO')\n",
    "plt.plot(pathMod2AccoaFourKO['buts'], pathMod2AccoaFourKO['biomasses'], label = 'mod 2 plus w. 4 KO')\n",
    "plt.legend()\n",
    "plt.xlabel('butyrate')\n",
    "plt.ylabel('biomass')\n",
    "plt.show()"
   ]
  },
  {
   "cell_type": "code",
   "execution_count": 282,
   "metadata": {},
   "outputs": [
    {
     "data": {
      "image/png": "[encoded data removed]",
      "text/plain": [
       "<matplotlib.figure.Figure at 0x58a6e5a390>"
      ]
     },
     "metadata": {},
     "output_type": "display_data"
    }
   ],
   "source": [
    "plt.plot(pathMod3['buts'], pathMod3['biomasses'], label = 'mod 3')\n",
    "plt.plot(pathMod3FourKO['buts'], pathMod3FourKO['biomasses'], label = 'mod 3 w. 4 KO')\n",
    "plt.plot(pathMod3AccoaFourKO['buts'], pathMod3AccoaFourKO['biomasses'], label = 'mod 3 plus w. 4 KO')\n",
    "plt.legend()\n",
    "plt.xlabel('butyrate')\n",
    "plt.ylabel('biomass')\n",
    "plt.show()"
   ]
  },
  {
   "cell_type": "markdown",
   "metadata": {},
   "source": [
    "## Succinate reactions"
   ]
  },
  {
   "cell_type": "code",
   "execution_count": 270,
   "metadata": {},
   "outputs": [
    {
     "name": "stdout",
     "output_type": "stream",
     "text": [
      "PRODUCING REACTIONS -- Succinate (succ_c)\n",
      "-----------------------------------------\n",
      "%       FLUX  RXN ID    REACTION\n",
      "----  ------  --------  -------------------------------------\n",
      "100%  6.79    FRDcm     fadh2_m + fum_c --> fad_m + succ_c\n",
      "0%    0.0277  DHORDfum  dhor__S_c + fum_c --> orot_c + succ_c\n",
      "\n",
      "CONSUMING REACTIONS -- Succinate (succ_c)\n",
      "-----------------------------------------\n",
      "%       FLUX  RXN ID    REACTION\n",
      "----  ------  --------  -------------------------------------\n",
      "100%  6.82    SUCCt2r   h_e + succ_e <=> h_c + succ_c\n"
     ]
    }
   ],
   "source": [
    "mod2.metabolites.succ_c.summary()"
   ]
  },
  {
   "cell_type": "code",
   "execution_count": 266,
   "metadata": {},
   "outputs": [
    {
     "data": {
      "text/html": [
       "\n",
       "        <table>\n",
       "            <tr>\n",
       "                <td><strong>Reaction identifier</strong></td><td>FRDcm</td>\n",
       "            </tr><tr>\n",
       "                <td><strong>Name</strong></td><td>Fumarate reductase  cytosolicmitochondrial</td>\n",
       "            </tr><tr>\n",
       "                <td><strong>Memory address</strong></td>\n",
       "                <td>0x058fed01f98</td>\n",
       "            </tr><tr>\n",
       "                <td><strong>Stoichiometry</strong></td>\n",
       "                <td>\n",
       "                    <p style='text-align:right'>fadh2_m + fum_c --> fad_m + succ_c</p>\n",
       "                    <p style='text-align:right'>Flavin adenine dinucleotide reduced + Fumarate --> Flavin adenine dinucleotide oxidized + Succinate</p>\n",
       "                </td>\n",
       "            </tr><tr>\n",
       "                <td><strong>GPR</strong></td><td>YEL047C</td>\n",
       "            </tr><tr>\n",
       "                <td><strong>Lower bound</strong></td><td>0.0</td>\n",
       "            </tr><tr>\n",
       "                <td><strong>Upper bound</strong></td><td>999999.0</td>\n",
       "            </tr>\n",
       "        </table>\n",
       "        "
      ],
      "text/plain": [
       "<Reaction FRDcm at 0x58fed01f98>"
      ]
     },
     "execution_count": 266,
     "metadata": {},
     "output_type": "execute_result"
    }
   ],
   "source": [
    "mod2.reactions.FRDcm"
   ]
  },
  {
   "cell_type": "code",
   "execution_count": 271,
   "metadata": {
    "collapsed": true
   },
   "outputs": [],
   "source": [
    "succGene = ['YEL047C']\n",
    "\n",
    "mod2SuccKo = knockOuts(mod2, succGene)\n",
    "mod2AccoSuccKO = knockOuts(mod2accoa, succGene)"
   ]
  },
  {
   "cell_type": "code",
   "execution_count": 272,
   "metadata": {
    "collapsed": true
   },
   "outputs": [],
   "source": [
    "biomass = mod2SuccKo.reactions.BIOMASS_SC5_notrace.flux_expression\n",
    "but = mod2SuccKo.reactions.DM_but_c.flux_expression\n",
    "pathMod2SuccKo = solPath(lams, mod2SuccKo, biomass, but)"
   ]
  },
  {
   "cell_type": "code",
   "execution_count": 273,
   "metadata": {
    "collapsed": true
   },
   "outputs": [],
   "source": [
    "biomass = mod2AccoSuccKO.reactions.BIOMASS_SC5_notrace.flux_expression\n",
    "but = mod2AccoSuccKO.reactions.DM_but_c.flux_expression\n",
    "pathMod2AccoSuccKO = solPath(lams, mod2AccoSuccKO, biomass, but)"
   ]
  },
  {
   "cell_type": "code",
   "execution_count": 275,
   "metadata": {},
   "outputs": [
    {
     "data": {
      "image/png": "[encoded data removed]",
      "text/plain": [
       "<matplotlib.figure.Figure at 0x58a5cc6518>"
      ]
     },
     "metadata": {},
     "output_type": "display_data"
    }
   ],
   "source": [
    "plt.plot(pathMod2['buts'], pathMod2['biomasses'], label = 'mod 2')\n",
    "plt.plot(pathMod2SuccKo['buts'], pathMod2SuccKo['biomasses'], label = 'mod 2 w. Succ. KO')\n",
    "plt.plot(pathMod2AccoSuccKO['buts'], pathMod2AccoSuccKO['biomasses'], label = 'mod 2 Plus w. Succ. KO')\n",
    "plt.legend()\n",
    "plt.xlabel('butyrate')\n",
    "plt.ylabel('biomass')\n",
    "plt.show()"
   ]
  }
 ],
 "metadata": {
  "kernelspec": {
   "display_name": "Python 3",
   "language": "python",
   "name": "python3"
  },
  "language_info": {
   "codemirror_mode": {
    "name": "ipython",
    "version": 3
   },
   "file_extension": ".py",
   "mimetype": "text/x-python",
   "name": "python",
   "nbconvert_exporter": "python",
   "pygments_lexer": "ipython3",
   "version": "3.6.2"
  }
 },
 "nbformat": 4,
 "nbformat_minor": 2
}
