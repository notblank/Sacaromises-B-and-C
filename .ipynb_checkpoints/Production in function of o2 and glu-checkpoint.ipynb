{
 "cells": [
  {
   "cell_type": "markdown",
   "metadata": {},
   "source": [
    "## Biomass and butyrate production in function of $o_2$ and $glu$\n",
    "\n",
    "found units here \n",
    "\n",
    "https://cnls.lanl.gov/external/qbio2018/Slides/FBA%202/qBio-FBA-lab-slides.pdf\n",
    "\n",
    "\n",
    "- Growth Rate (1/h): 0.76\n",
    "- Lycopene Production Rate (mmol/gdcw/h): 0.2496\n",
    "- Lycopene Yield (mol/mol glucose): 0.02496\n"
   ]
  },
  {
   "cell_type": "code",
   "execution_count": 1,
   "metadata": {
    "collapsed": true
   },
   "outputs": [],
   "source": [
    "import cobra\n",
    "import matplotlib.pylab as plt\n",
    "import numpy as np\n",
    "import pandas as pd"
   ]
  },
  {
   "cell_type": "code",
   "execution_count": 17,
   "metadata": {
    "collapsed": true
   },
   "outputs": [],
   "source": [
    "Mod1 = cobra.io.load_json_model('./COBRA models/butyrate production/cerevisiaeMod1.json')\n",
    "Mod1a = cobra.io.load_json_model('./COBRA models/butyrate production/cerevisiaeMod1a.json')\n",
    "Mod2 = cobra.io.load_json_model('./COBRA models/butyrate production/cerevisiaeMod2.json')\n",
    "Mod3 = cobra.io.load_json_model('./COBRA models/butyrate production/cerevisiaeMod3.json')"
   ]
  },
  {
   "cell_type": "code",
   "execution_count": 3,
   "metadata": {},
   "outputs": [
    {
     "data": {
      "text/html": [
       "\n",
       "        <table>\n",
       "            <tr>\n",
       "                <td><strong>Gene identifier</strong></td><td>phaA</td>\n",
       "            </tr><tr>\n",
       "                <td><strong>Name</strong></td><td>phaA</td>\n",
       "            </tr><tr>\n",
       "                <td><strong>Memory address</strong></td>\n",
       "                <td>0x06a5bfbcf28</td>\n",
       "            </tr><tr>\n",
       "                <td><strong>Functional</strong></td><td>True</td>\n",
       "            </tr><tr>\n",
       "                <td><strong>In 1 reaction(s)</strong></td><td>\n",
       "                    ACACT1b</td>\n",
       "            </tr>\n",
       "        </table>"
      ],
      "text/plain": [
       "<Gene phaA at 0x6a5bfbcf28>"
      ]
     },
     "execution_count": 3,
     "metadata": {},
     "output_type": "execute_result"
    }
   ],
   "source": [
    "copyTest = Mod1.copy()\n",
    "copyTest.genes.phaA"
   ]
  },
  {
   "cell_type": "code",
   "execution_count": 4,
   "metadata": {
    "collapsed": true
   },
   "outputs": [],
   "source": [
    "def o2Uptake(lam, model):\n",
    "    '''\n",
    "    Butyrate and biomass production in fucntion of the oxigen uptake.  \n",
    "    \n",
    "    inputs: lam: the tradeoff paremeter. \n",
    "            model: sacaromises model. \n",
    "           \n",
    "    output:\n",
    "     data: a dictionary with\n",
    "                 o2 : array containing the oxigen uptake.\n",
    "                 buts_o2 : array with butyrate production. \n",
    "                 biomasses_o2 : array with biomass produciton.\n",
    "    '''\n",
    "    \n",
    "    biomass = model.reactions.BIOMASS_SC5_notrace.flux_expression\n",
    "    \n",
    "    but1 = model.reactions.DM_but_c.flux_expression\n",
    "\n",
    "    modelCopy = model.copy()\n",
    "    \n",
    "    biomass_but = modelCopy.problem.Objective(biomass + lam*but1,\n",
    "        direction='max')\n",
    "\n",
    "    modelCopy.objective = biomass_but\n",
    "\n",
    "    o2 = np.arange(0., 20., 0.5)\n",
    "    no2 = len(o2)\n",
    "\n",
    "    buts_o2 = np.repeat(0.0, no2)\n",
    "    \n",
    "    biomasses_o2 = np.repeat(0.0, no2)\n",
    "    \n",
    "    for i, o in enumerate(o2):\n",
    "\n",
    "        modelCopy.reactions.EX_o2_e.lower_bound = -o\n",
    "        modelCopy.reactions.EX_o2_e.upper_bound = -o\n",
    "    \n",
    "        solution = modelCopy.optimize(objective_sense=None)\n",
    "        \n",
    "        buts_o2[i] = solution.fluxes.DM_but_c\n",
    "        \n",
    "        biomasses_o2[i] = solution.fluxes.BIOMASS_SC5_notrace\n",
    "        \n",
    "    data = {'o2' : o2, \n",
    "            'buts_o2' : buts_o2, 'biomasses_o2' : biomasses_o2}\n",
    "    \n",
    "    return(data)"
   ]
  },
  {
   "cell_type": "code",
   "execution_count": 5,
   "metadata": {
    "collapsed": true
   },
   "outputs": [],
   "source": [
    "def gluUptake(lam, model):\n",
    "    '''\n",
    "    Butyrate and biomass production in fucntion of the glucose uptake.  \n",
    "    \n",
    "    inputs: lam: the tradeoff paremeter. \n",
    "            model: sacaromises model. \n",
    "           \n",
    "    output: \n",
    "     data: a dictionary with\n",
    "                 glu : array containing the glucose uptake.\n",
    "                 buts_glu : array with butyrate production. \n",
    "                 biomasses_glu : array with biomass produciton.\n",
    "    '''\n",
    "\n",
    "    \n",
    "    biomass = model.reactions.BIOMASS_SC5_notrace.flux_expression\n",
    "    \n",
    "    but1 = model.reactions.DM_but_c.flux_expression\n",
    "\n",
    "    modelCopy = model.copy()\n",
    "    \n",
    "    biomass_but = modelCopy.problem.Objective(biomass + lam*but1,\n",
    "        direction='max')\n",
    "\n",
    "    modelCopy.objective = biomass_but\n",
    "\n",
    "    glu = np.arange(7., 15., 0.5)\n",
    "    noglu = len(glu)\n",
    "\n",
    "    buts_glu = np.repeat(0.0, noglu)\n",
    "    \n",
    "    biomasses_glu = np.repeat(0.0, noglu)\n",
    "    \n",
    "    for i, g in enumerate(glu):\n",
    "\n",
    "        modelCopy.reactions.EX_glc__D_e.lower_bound = -g\n",
    "        modelCopy.reactions.EX_glc__D_e.upper_bound = -g\n",
    "    \n",
    "        solution = modelCopy.optimize(objective_sense=None)\n",
    "        \n",
    "        buts_glu[i] = solution.fluxes.DM_but_c\n",
    "        \n",
    "        biomasses_glu[i] = solution.fluxes.BIOMASS_SC5_notrace\n",
    "        \n",
    "    data = {'glu' : glu, \n",
    "            'buts_glu' : buts_glu, 'biomasses_glu' : biomasses_glu}\n",
    "    \n",
    "    return(data)"
   ]
  },
  {
   "cell_type": "code",
   "execution_count": 6,
   "metadata": {
    "collapsed": true
   },
   "outputs": [],
   "source": [
    "lam = 0.06\n",
    "\n",
    "data006Mod1 = o2Uptake(lam=lam, model=Mod1)\n",
    "data006Mod1a = o2Uptake(lam=lam, model=Mod1a)\n",
    "data006Mod2 = o2Uptake(lam=lam, model=Mod2)\n",
    "data006Mod3 = o2Uptake(lam=lam, model=Mod3)"
   ]
  },
  {
   "cell_type": "code",
   "execution_count": 7,
   "metadata": {
    "collapsed": true
   },
   "outputs": [],
   "source": [
    "data002Mod1 = o2Uptake(lam=0.02, model=Mod1)\n",
    "data002Mod1a = o2Uptake(lam=0.02, model=Mod1a)\n",
    "data002Mod2 = o2Uptake(lam=0.02, model=Mod2)\n",
    "data002Mod3 = o2Uptake(lam=0.02, model=Mod3)"
   ]
  },
  {
   "cell_type": "code",
   "execution_count": 8,
   "metadata": {},
   "outputs": [
    {
     "name": "stderr",
     "output_type": "stream",
     "text": [
      "C:\\Users\\Personal\\Anaconda3\\lib\\site-packages\\matplotlib\\figure.py:98 MatplotlibDeprecationWarning: \n",
      "Adding an axes using the same arguments as a previous axes currently reuses the earlier instance.  In a future version, a new instance will always be created and returned.  Meanwhile, this warning can be suppressed, and the future behavior ensured, by passing a unique label to each axes instance.\n"
     ]
    },
    {
     "data": {
      "image/png": "[encoded data removed]",
      "text/plain": [
       "<Figure size 432x288 with 2 Axes>"
      ]
     },
     "metadata": {
      "needs_background": "light"
     },
     "output_type": "display_data"
    }
   ],
   "source": [
    "ax1 = plt.subplot(2, 1, 1)\n",
    "box = ax1.get_position()\n",
    "ax1.set_position([box.x0, box.y0, box.width * 0.8, box.height])\n",
    "\n",
    "a = 0.8\n",
    "plt.plot(data002Mod1['o2'], data002Mod1['buts_o2'], label=\"mod 1\", alpha=a)\n",
    "plt.plot(data002Mod1a['o2'], data002Mod1a['buts_o2'], label=\"mod 1a\", alpha=a)\n",
    "plt.plot(data002Mod2['o2'], data002Mod2['buts_o2'], label=\"mod 2\", alpha=a)\n",
    "plt.plot(data002Mod3['o2'], data002Mod3['buts_o2'], label=\"mod 3\", alpha=a)\n",
    "\n",
    "ax1.legend(loc='center left', bbox_to_anchor=(1, 0.5))\n",
    "\n",
    "plt.ylim(-1, 20)\n",
    "plt.ylabel('butyrate')\n",
    "plt.title('$\\lambda = 0.02$')\n",
    "\n",
    "plt.subplot(2, 1, 2)\n",
    "plt.plot(data002Mod1['o2'], data002Mod1['biomasses_o2'], label=\"mod 1\", alpha=a)\n",
    "plt.plot(data002Mod1a['o2'], data002Mod1a['biomasses_o2'], label=\"mod 1a\", alpha=a)\n",
    "plt.plot(data002Mod2['o2'], data002Mod2['biomasses_o2'], label=\"mod 2\", alpha=a)\n",
    "plt.plot(data002Mod3['o2'], data002Mod3['biomasses_o2'], label=\"mod 3\", alpha=a)\n",
    "\n",
    "ax2 = plt.subplot(2, 1, 2)\n",
    "box2 = ax2.get_position()\n",
    "ax2.set_position([box2.x0, box2.y0, box2.width * 0.8, box2.height])\n",
    "\n",
    "plt.ylim(-0.1, 1.3)\n",
    "plt.ylabel('biomass')\n",
    "plt.xlabel('$o_2$')\n",
    "\n",
    "plt.savefig('oxigenUptake_lam002.png', format='png', dpi=500)\n",
    "plt.show()"
   ]
  },
  {
   "cell_type": "code",
   "execution_count": 9,
   "metadata": {},
   "outputs": [
    {
     "data": {
      "image/png": "[encoded data removed]",
      "text/plain": [
       "<Figure size 432x288 with 2 Axes>"
      ]
     },
     "metadata": {
      "needs_background": "light"
     },
     "output_type": "display_data"
    }
   ],
   "source": [
    "ax1 = plt.subplot(2, 1, 1)\n",
    "box = ax1.get_position()\n",
    "ax1.set_position([box.x0, box.y0, box.width * 0.8, box.height])\n",
    "\n",
    "a = 0.8\n",
    "plt.plot(data006Mod1['o2'], data006Mod1['buts_o2'], label=\"mod 1\",  alpha=a)\n",
    "plt.plot(data006Mod1a['o2'], data006Mod1a['buts_o2'], label=\"mod 1a\", alpha=a)\n",
    "plt.plot(data006Mod2['o2'], data006Mod2['buts_o2'], label=\"mod 2\", alpha=a)\n",
    "plt.plot(data006Mod3['o2'], data006Mod3['buts_o2'], label=\"mod 3\", alpha=a)\n",
    "\n",
    "ax1.legend(loc='center left', bbox_to_anchor=(1, 0.5))\n",
    "\n",
    "plt.ylim(-1, 20)\n",
    "plt.ylabel('butyrate')\n",
    "plt.title('$\\lambda = 0.06$')\n",
    "\n",
    "plt.subplot(2, 1, 2)\n",
    "plt.plot(data006Mod1['o2'], data006Mod1['biomasses_o2'], label=\"mod 1\",  alpha=a)\n",
    "plt.plot(data006Mod1a['o2'], data006Mod1a['biomasses_o2'], label=\"mod 1a\",  alpha=a)\n",
    "plt.plot(data006Mod2['o2'], data006Mod2['biomasses_o2'], label=\"mod 2\",  alpha=a)\n",
    "plt.plot(data006Mod3['o2'], data006Mod3['biomasses_o2'], label=\"mod 3\",  alpha=a)\n",
    "\n",
    "ax2 = plt.subplot(2, 1, 2)\n",
    "box2 = ax2.get_position()\n",
    "ax2.set_position([box2.x0, box2.y0, box2.width * 0.8, box2.height])\n",
    "\n",
    "plt.ylim(-0.1, 1.3)\n",
    "plt.ylabel('biomass')\n",
    "plt.xlabel('$o_2$')\n",
    "\n",
    "plt.savefig('oxigenUptake_lam006.png', format='png', dpi=500)\n",
    "plt.show()"
   ]
  },
  {
   "cell_type": "code",
   "execution_count": 10,
   "metadata": {
    "collapsed": true
   },
   "outputs": [],
   "source": [
    "lam = 0.02\n",
    "data002gluMod1 = gluUptake(lam = lam, model = Mod1)\n",
    "data002gluMod1a = gluUptake(lam = lam, model = Mod1a)\n",
    "data002gluMod2 = gluUptake(lam = lam, model = Mod2)\n",
    "data002gluMod3 = gluUptake(lam = lam, model = Mod3)"
   ]
  },
  {
   "cell_type": "code",
   "execution_count": 11,
   "metadata": {
    "collapsed": true
   },
   "outputs": [],
   "source": [
    "lam = 0.06\n",
    "data006gluMod1 = gluUptake(lam = lam, model = Mod1)\n",
    "data006gluMod1a = gluUptake(lam = lam, model = Mod1a)\n",
    "data006gluMod2 = gluUptake(lam = lam, model = Mod2)\n",
    "data006gluMod3 = gluUptake(lam = lam, model = Mod3)"
   ]
  },
  {
   "cell_type": "code",
   "execution_count": 12,
   "metadata": {},
   "outputs": [
    {
     "data": {
      "image/png": "[encoded data removed]",
      "text/plain": [
       "<Figure size 432x288 with 2 Axes>"
      ]
     },
     "metadata": {
      "needs_background": "light"
     },
     "output_type": "display_data"
    }
   ],
   "source": [
    "ax1 = plt.subplot(2, 1, 1)\n",
    "box = ax1.get_position()\n",
    "ax1.set_position([box.x0, box.y0, box.width * 0.8, box.height])\n",
    "\n",
    "a = 0.8\n",
    "plt.plot(data002gluMod1['glu'], data002gluMod1['buts_glu'], label=\"mod 1\", alpha=a)\n",
    "plt.plot(data002gluMod1a['glu'], data002gluMod1a['buts_glu'], label=\"mod 1a\", alpha=a)\n",
    "plt.plot(data002gluMod2['glu'], data002gluMod2['buts_glu'], label=\"mod 2\", alpha=a)\n",
    "plt.plot(data002gluMod3['glu'], data002gluMod3['buts_glu'], label=\"mod 3\", alpha=a)\n",
    "\n",
    "ax1.legend(loc='center left', bbox_to_anchor=(1, 0.5))\n",
    "\n",
    "plt.ylim(-1, 20)\n",
    "plt.ylabel('butyrate')\n",
    "plt.title('$\\lambda = 0.02$')\n",
    "\n",
    "ax2 = plt.subplot(2, 1, 2)\n",
    "box2 = ax2.get_position()\n",
    "ax2.set_position([box2.x0, box2.y0, box2.width * 0.8, box2.height])\n",
    "\n",
    "plt.plot(data002gluMod1['glu'], data002gluMod1['biomasses_glu'], label=\"mod 1\", alpha=a)\n",
    "plt.plot(data002gluMod1a['glu'], data002gluMod1a['biomasses_glu'], label=\"mod 1a\", alpha=a)\n",
    "plt.plot(data002gluMod2['glu'], data002gluMod2['biomasses_glu'], label=\"mod 2\", alpha=a)\n",
    "plt.plot(data002gluMod3['glu'], data002gluMod3['biomasses_glu'], label=\"mod 3\", alpha=a)\n",
    "\n",
    "plt.ylim(-0.1, 1.3)\n",
    "plt.ylabel('biomass')\n",
    "plt.xlabel('glucose')\n",
    "\n",
    "plt.savefig('glucoseUptake_lam002.png', format='png', dpi=500)\n",
    "plt.show()"
   ]
  },
  {
   "cell_type": "code",
   "execution_count": 13,
   "metadata": {},
   "outputs": [
    {
     "data": {
      "image/png": "[encoded data removed]",
      "text/plain": [
       "<Figure size 432x288 with 2 Axes>"
      ]
     },
     "metadata": {
      "needs_background": "light"
     },
     "output_type": "display_data"
    }
   ],
   "source": [
    "ax1 = plt.subplot(2, 1, 1)\n",
    "box = ax1.get_position()\n",
    "ax1.set_position([box.x0, box.y0, box.width * 0.8, box.height])\n",
    "\n",
    "a = 0.8\n",
    "plt.plot(data006gluMod1['glu'], data006gluMod1['buts_glu'], label=\"mod 1\", alpha=a)\n",
    "plt.plot(data006gluMod1a['glu'], data006gluMod1a['buts_glu'], label=\"mod 1a\", alpha=a)\n",
    "plt.plot(data006gluMod2['glu'], data006gluMod2['buts_glu'], label=\"mod 2\", alpha=a)\n",
    "plt.plot(data006gluMod3['glu'], data006gluMod3['buts_glu'], label=\"mod 3\", alpha=a)\n",
    "\n",
    "ax1.legend(loc='center left', bbox_to_anchor=(1, 0.5))\n",
    "\n",
    "plt.ylim(-1, 20)\n",
    "plt.ylabel('butyrate')\n",
    "plt.title('$\\lambda = 0.06$')\n",
    "\n",
    "ax2 = plt.subplot(2, 1, 2)\n",
    "box2 = ax2.get_position()\n",
    "ax2.set_position([box2.x0, box2.y0, box2.width * 0.8, box2.height])\n",
    "\n",
    "plt.plot(data006gluMod1['glu'], data006gluMod1['biomasses_glu'], label=\"mod 1\", alpha=a)\n",
    "plt.plot(data006gluMod1a['glu'], data006gluMod1a['biomasses_glu'], label=\"mod 1a\", alpha=a)\n",
    "plt.plot(data006gluMod2['glu'], data006gluMod2['biomasses_glu'], label=\"mod 2\", alpha=a)\n",
    "plt.plot(data006gluMod3['glu'], data006gluMod3['biomasses_glu'], label=\"mod 3\", alpha=a)\n",
    "\n",
    "plt.ylim(-0.1, 1.3)\n",
    "plt.ylabel('biomass')\n",
    "plt.xlabel('glucose')\n",
    "\n",
    "plt.savefig('glucoseUptake_lam006.png', format='png', dpi=500)\n",
    "plt.show()"
   ]
  },
  {
   "cell_type": "markdown",
   "metadata": {},
   "source": [
    "# Single genes deletion"
   ]
  },
  {
   "cell_type": "code",
   "execution_count": 14,
   "metadata": {
    "collapsed": true
   },
   "outputs": [],
   "source": [
    "from cobra.flux_analysis import (\n",
    "    single_gene_deletion, single_reaction_deletion, double_gene_deletion,\n",
    "    double_reaction_deletion)"
   ]
  },
  {
   "cell_type": "code",
   "execution_count": 16,
   "metadata": {},
   "outputs": [],
   "source": [
    "SGD1 = single_gene_deletion(Mod1, return_frame=True)\n",
    "SGD1a = single_gene_deletion(Mod1a, return_frame=True)\n",
    "SGD2 = single_gene_deletion(Mod2, return_frame=True)\n",
    "SGD3 = single_gene_deletion(Mod3, return_frame=True)"
   ]
  },
  {
   "cell_type": "code",
   "execution_count": null,
   "metadata": {},
   "outputs": [],
   "source": [
    "SGD1.sort_values(by='flux', ascending=True).head(210).plot.bar(width=1, figsize=(30, 4))\n",
    "locs, labels = plt.xticks()\n",
    "plt.setp(labels, rotation=70, fontsize = 9)\n",
    "plt.ylim(0, 1.2)\n",
    "plt.title('mod 1')\n",
    "plt.ylabel('$biomass \\  + \\lambda \\ but$')\n",
    "\n",
    "SGD1a.sort_values(by='flux', ascending=True).head(210).plot.bar(width=1.1, figsize=(30, 4))\n",
    "locs, labels = plt.xticks()\n",
    "plt.setp(labels, rotation=70, fontsize = 9)\n",
    "plt.ylim(0, 1.2)\n",
    "plt.title('mod 1a')\n",
    "plt.ylabel('$biomass \\  + \\lambda \\ but$')\n",
    "\n",
    "SGD2.sort_values(by='flux', ascending=True).head(210).plot.bar(width=1.1, figsize=(30, 4))\n",
    "locs, labels = plt.xticks()\n",
    "plt.setp(labels, rotation=70, fontsize = 9)\n",
    "plt.ylim(0, 1.2)\n",
    "plt.title('mod 2')\n",
    "plt.ylabel('$biomass \\  + \\lambda \\ but$')\n",
    "\n",
    "SGD3.sort_values(by='flux', ascending=True).head(210).plot.bar(width=1.1, figsize=(30, 4))\n",
    "locs, labels = plt.xticks()\n",
    "plt.setp(labels, rotation=70, fontsize = 9)\n",
    "plt.ylim(0, 1.2)\n",
    "plt.title('mod 3')\n",
    "plt.ylabel('$biomass \\  + \\lambda \\ but$')\n",
    "\n",
    "plt.show()"
   ]
  },
  {
   "cell_type": "code",
   "execution_count": null,
   "metadata": {
    "collapsed": true,
    "scrolled": true
   },
   "outputs": [],
   "source": []
  },
  {
   "cell_type": "code",
   "execution_count": null,
   "metadata": {
    "collapsed": true
   },
   "outputs": [],
   "source": []
  }
 ],
 "metadata": {
  "kernelspec": {
   "display_name": "Python 3",
   "language": "python",
   "name": "python3"
  },
  "language_info": {
   "codemirror_mode": {
    "name": "ipython",
    "version": 3
   },
   "file_extension": ".py",
   "mimetype": "text/x-python",
   "name": "python",
   "nbconvert_exporter": "python",
   "pygments_lexer": "ipython3",
   "version": "3.6.2"
  }
 },
 "nbformat": 4,
 "nbformat_minor": 2
}
