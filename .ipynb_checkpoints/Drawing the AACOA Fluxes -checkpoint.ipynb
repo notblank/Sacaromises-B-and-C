{
 "cells": [
  {
   "cell_type": "code",
   "execution_count": 3,
   "metadata": {
    "collapsed": true
   },
   "outputs": [],
   "source": [
    "import cobra\n",
    "import matplotlib.pylab as plt\n",
    "import numpy as np\n",
    "import pandas as pd"
   ]
  },
  {
   "cell_type": "code",
   "execution_count": 4,
   "metadata": {
    "collapsed": true
   },
   "outputs": [],
   "source": [
    "#Load the model for genome scale E. coli iJO1366\n",
    "model = cobra.test.create_test_model(\"ecoli\")"
   ]
  },
  {
   "cell_type": "code",
   "execution_count": 2,
   "metadata": {
    "collapsed": true
   },
   "outputs": [],
   "source": [
    "model.reactions.get_by_id( \"EX_glc_e\").lower_bound= - 10\n",
    "model.reactions.get_by_id( \"EX_o2_e\").lower_bound = - 15"
   ]
  },
  {
   "cell_type": "code",
   "execution_count": 6,
   "metadata": {
    "collapsed": true
   },
   "outputs": [],
   "source": [
    "coa_c = model.metabolites.get_by_id( 'coa_c')\n",
    "ipdp_c = model.metabolites.get_by_id( 'ipdp_c')\n",
    "frdp_c = model.metabolites.get_by_id( 'frdp_c')\n",
    "ppi_c = model.metabolites.get_by_id( 'ppi_c')\n",
    "nadp_c = model.metabolites.get_by_id( 'nadp_c')\n",
    "nadph_c = model.metabolites.get_by_id( 'nadph_c')\n",
    "#Create new metabolites\n",
    "ggpp_c = Metabolite( 'ggpp_c', formula='C20H36O7P2', name='GeranylgeranylPyrophospate', compartment ='c')\n",
    "phyto_c = Metabolite( 'phyto_c', formula='C40H64', name='Phytoene', compartment ='c')\n",
    "lyco_c = Metabolite( 'lyco_c', formula='C40H56', name='Lycopene', compartment ='c')"
   ]
  },
  {
   "cell_type": "code",
   "execution_count": 7,
   "metadata": {
    "collapsed": true
   },
   "outputs": [],
   "source": [
    "from cobra import Reaction\n",
    "#add CRTE:\n",
    "reaction1 = Reaction('CRTE')\n",
    "reaction1.name = 'Geranylgeranyl diphosphate (GGPP) synthase'\n",
    "reaction1.subsystem = 'Lycopene biosynthesis'\n",
    "reaction1.lower_bound = 0\n",
    "reaction1.upper_bound = 1000\n",
    "reaction1.add_metabolites({ipdp_c: -1.0, frdp_c: -1.0, ggpp_c: 1.0, ppi_c: 1.0})\n",
    "model.add_reaction(reaction1)\n",
    "#add CRTB:\n",
    "reaction2 = Reaction('CRTB')\n",
    "reaction2.name = 'Phytoene synthase'\n",
    "reaction2.subsystem = 'Lycopene biosynthesis'\n",
    "reaction2.lower_bound = 0\n",
    "reaction2.upper_bound = 1000\n",
    "reaction2.add_metabolites({ggpp_c: -2.0, phyto_c: 1.0, ppi_c: 1.0})\n",
    "model.add_reaction(reaction2)\n",
    "#add CRTI:\n",
    "reaction3 = Reaction('CRTI')\n",
    "reaction3.name = 'Phytoene desaturase'\n",
    "reaction3.subsystem = 'Lycopene biosynthesis'\n",
    "reaction3.lower_bound = 0\n",
    "reaction3.upper_bound = 1000\n",
    "reaction3.add_metabolites({phyto_c: -1.0, nadp_c: -8.0, lyco_c: 1.0, nadph_c: 8.0})\n",
    "model.add_reaction(reaction3)\n",
    "#add LYCO-dem:\n",
    "reaction4 = Reaction('LYCO-dem')\n",
    "reaction4.name = 'Lycopene demand'\n",
    "reaction4.subsystem = 'Lycopene biosynthesis'\n",
    "reaction4.lower_bound = 0\n",
    "reaction4.upper_bound = 1000\n",
    "reaction4.add_metabolites({lyco_c: -1.0})\n",
    "model.add_reaction(reaction4)"
   ]
  },
  {
   "cell_type": "code",
   "execution_count": 8,
   "metadata": {},
   "outputs": [
    {
     "name": "stdout",
     "output_type": "stream",
     "text": [
      "Growth Rate (1/h): 0.9865144469529775\n",
      "Lycopene Production Rate (mmol/gdcw/h): 0.0\n",
      "Lycopene Yield (mol/mol glucose): 0.0\n"
     ]
    }
   ],
   "source": [
    "#Set the objective to biomass\n",
    "model.reactions.get_by_id('Ec_biomass_iJO1366_core_53p95M').objective_coefficient = 0\n",
    "model.reactions.get_by_id('Ec_biomass_iJO1366_WT_53p95M').objective_coefficient = 1.0\n",
    "#Solve\n",
    "solution=model.optimize() #solution is stored at model.solution\n",
    "#Output solution\n",
    "print('Growth Rate (1/h): ' + str(solution.x_dict.get('Ec_biomass_iJO1366_WT_53p95M')))\n",
    "print('Lycopene Production Rate (mmol/gdcw/h): ' + str(solution.x_dict.get('LYCO-dem')))\n",
    "print('Lycopene Yield (mol/mol glucose): ' +\n",
    "str(-solution.x_dict.get('LYCO-dem')/solution.x_dict.get('EX_glc_e')))\n"
   ]
  },
  {
   "cell_type": "code",
   "execution_count": null,
   "metadata": {
    "collapsed": true
   },
   "outputs": [],
   "source": []
  }
 ],
 "metadata": {
  "kernelspec": {
   "display_name": "Python 3",
   "language": "python",
   "name": "python3"
  },
  "language_info": {
   "codemirror_mode": {
    "name": "ipython",
    "version": 3
   },
   "file_extension": ".py",
   "mimetype": "text/x-python",
   "name": "python",
   "nbconvert_exporter": "python",
   "pygments_lexer": "ipython3",
   "version": "3.6.2"
  }
 },
 "nbformat": 4,
 "nbformat_minor": 2
}
