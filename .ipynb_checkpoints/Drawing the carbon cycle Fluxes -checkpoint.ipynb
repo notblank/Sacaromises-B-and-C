{
 "cells": [
  {
   "cell_type": "code",
   "execution_count": 2,
   "metadata": {
    "collapsed": true
   },
   "outputs": [],
   "source": [
    "import cobra\n",
    "import matplotlib.pylab as plt\n",
    "import numpy as np\n",
    "import pandas as pd"
   ]
  },
  {
   "cell_type": "code",
   "execution_count": 3,
   "metadata": {
    "collapsed": true
   },
   "outputs": [],
   "source": [
    "mod1 = cobra.io.load_json_model('./COBRA models/butyrate production/cerevisiaeMod1.json')\n",
    "mod1a = cobra.io.load_json_model('./COBRA models/butyrate production/cerevisiaeMod1a.json')\n",
    "mod2 = cobra.io.load_json_model('./COBRA models/butyrate production/cerevisiaeMod2.json')\n",
    "mod3 = cobra.io.load_json_model('./COBRA models/butyrate production/cerevisiaeMod3.json')"
   ]
  },
  {
   "cell_type": "code",
   "execution_count": 4,
   "metadata": {
    "collapsed": true
   },
   "outputs": [],
   "source": [
    "def escherDF(model, lam, name):\n",
    "    \n",
    "    modelCopy = model.copy()\n",
    "    \n",
    "    biomass = modelCopy.reactions.BIOMASS_SC5_notrace.flux_expression\n",
    "    but = modelCopy.reactions.DM_but_c.flux_expression\n",
    "    \n",
    "    biomass_but = modelCopy.problem.Objective(biomass + lam*but, direction='max')\n",
    "    modelCopy.objective = biomass_but\n",
    "    \n",
    "    solution = modelCopy.optimize(objective_sense=None)\n",
    "    \n",
    "    df = pd.DataFrame.from_dict([solution.fluxes]).T\n",
    "    df.to_csv( name + '.csv')\n",
    "    \n",
    "    return(solution)"
   ]
  },
  {
   "cell_type": "markdown",
   "metadata": {},
   "source": [
    "Two different regimes for each model: \n",
    "\n",
    "- 100% butyrate production\n",
    "- 50% butyrate production\n",
    "\n",
    "For models 2 and 3 the 100% biomass production regime is studied because these produce butyrate when biomass is optimized. \n",
    "\n",
    "<img src=\"./plots/lambdaBioBut.png\">"
   ]
  },
  {
   "cell_type": "code",
   "execution_count": 5,
   "metadata": {
    "collapsed": true
   },
   "outputs": [],
   "source": [
    "def solPath(lams, model, biomass, but):\n",
    "    \n",
    "    modelCopy = model.copy()\n",
    "    \n",
    "    nlams = len(lams)\n",
    "\n",
    "    buts = np.repeat(0.0, nlams)\n",
    "    biomasses = np.repeat(0.0, nlams)\n",
    "\n",
    "\n",
    "    for i, lam in enumerate(lams):\n",
    "\n",
    "        biomass_but = modelCopy.problem.Objective(biomass + lam*but, direction='max')\n",
    "\n",
    "        modelCopy.objective = biomass_but\n",
    "\n",
    "        solution = modelCopy.optimize(objective_sense=None)\n",
    "\n",
    "        buts[i] = solution.fluxes.DM_but_c\n",
    "\n",
    "        biomasses[i] = solution.fluxes.BIOMASS_SC5_notrace  \n",
    "        \n",
    "    return({'buts' : buts, 'biomasses' : biomasses})\n",
    "    "
   ]
  },
  {
   "cell_type": "code",
   "execution_count": 6,
   "metadata": {
    "collapsed": true
   },
   "outputs": [],
   "source": [
    "lams = np.arange(0, 0.07, 0.001)"
   ]
  },
  {
   "cell_type": "code",
   "execution_count": 7,
   "metadata": {
    "collapsed": true
   },
   "outputs": [],
   "source": [
    "biomass = mod1.reactions.BIOMASS_SC5_notrace.flux_expression\n",
    "but = mod1.reactions.DM_but_c.flux_expression\n",
    "pathMod1= solPath(lams, mod1, biomass, but)"
   ]
  },
  {
   "cell_type": "code",
   "execution_count": 8,
   "metadata": {
    "collapsed": true
   },
   "outputs": [],
   "source": [
    "biomass = mod1a.reactions.BIOMASS_SC5_notrace.flux_expression\n",
    "but = mod1a.reactions.DM_but_c.flux_expression\n",
    "pathMod1a= solPath(lams, mod1a, biomass, but)"
   ]
  },
  {
   "cell_type": "code",
   "execution_count": 9,
   "metadata": {
    "collapsed": true
   },
   "outputs": [],
   "source": [
    "biomass = mod2.reactions.BIOMASS_SC5_notrace.flux_expression\n",
    "but = mod2.reactions.DM_but_c.flux_expression\n",
    "pathMod2 = solPath(lams, mod2, biomass, but)"
   ]
  },
  {
   "cell_type": "code",
   "execution_count": 10,
   "metadata": {
    "collapsed": true
   },
   "outputs": [],
   "source": [
    "biomass = mod3.reactions.BIOMASS_SC5_notrace.flux_expression\n",
    "but = mod3.reactions.DM_but_c.flux_expression\n",
    "pathMod3= solPath(lams, mod3, biomass, but)"
   ]
  },
  {
   "cell_type": "code",
   "execution_count": 11,
   "metadata": {
    "collapsed": true
   },
   "outputs": [],
   "source": [
    "def lamPercentage(path, p):\n",
    "    \n",
    "    index = np.argmin( np.abs(path['buts'] - max(path['buts'])*p ))\n",
    "    \n",
    "    return(lams[index])\n"
   ]
  },
  {
   "cell_type": "code",
   "execution_count": 12,
   "metadata": {
    "collapsed": true
   },
   "outputs": [],
   "source": [
    "l50Mod1 = lamPercentage(pathMod1, 0.5)\n",
    "l100Mod1 = lamPercentage(pathMod1, 1)\n",
    "\n",
    "soll50Mod1 = escherDF(mod1, l50Mod1, 'mod1_b50')\n",
    "soll100Mod1 = escherDF(mod1, l100Mod1, 'mod1_b100')"
   ]
  },
  {
   "cell_type": "code",
   "execution_count": 13,
   "metadata": {
    "collapsed": true
   },
   "outputs": [],
   "source": [
    "l50Mod1a = lamPercentage(pathMod1a, 0.5)\n",
    "l100Mod1a = lamPercentage(pathMod1a, 1)\n",
    "\n",
    "soll50Mod1a = escherDF(mod1a, l50Mod1a, 'mod1a_b50')\n",
    "soll100Mod1a = escherDF(mod1a, l100Mod1a, 'mod1a_b100')"
   ]
  },
  {
   "cell_type": "code",
   "execution_count": 14,
   "metadata": {
    "collapsed": true
   },
   "outputs": [],
   "source": [
    "l50Mod2 = lamPercentage(pathMod2, 0.5)\n",
    "l100Mod2 = lamPercentage(pathMod2, 1)\n",
    "\n",
    "solBioMod2 = escherDF(mod2, 0, 'mod2_biomass')\n",
    "soll50Mod2 = escherDF(mod2, l50Mod2, 'mod2_b50')\n",
    "soll100Mod2 = escherDF(mod2, l100Mod2, 'mod2_b100')"
   ]
  },
  {
   "cell_type": "code",
   "execution_count": 15,
   "metadata": {
    "collapsed": true
   },
   "outputs": [],
   "source": [
    "l50Mod3 = lamPercentage(pathMod3, 0.5)\n",
    "l100Mod3 = lamPercentage(pathMod3, 1)\n",
    "\n",
    "solBioMod3 = escherDF(mod3, 0, 'mod3_biomass')\n",
    "soll50Mod3 = escherDF(mod3, l50Mod3, 'mod3_b50')\n",
    "soll100Mod3 = escherDF(mod3, l100Mod3, 'mod3_b100')"
   ]
  },
  {
   "cell_type": "markdown",
   "metadata": {},
   "source": [
    "## Flux differences"
   ]
  },
  {
   "cell_type": "code",
   "execution_count": 16,
   "metadata": {
    "collapsed": true
   },
   "outputs": [],
   "source": [
    "dfMod1 = pd.DataFrame.from_dict([soll50Mod1.fluxes, soll100Mod1.fluxes]).T\n",
    "dfMod1.columns = [\"but50\", \"but100\"]\n",
    "\n",
    "dfMod1a = pd.DataFrame.from_dict([soll50Mod1a.fluxes, soll100Mod1a.fluxes]).T\n",
    "dfMod1a.columns = [\"but50\", \"but100\"]\n",
    "\n",
    "dfMod2 = pd.DataFrame.from_dict([solBioMod2.fluxes, soll50Mod2.fluxes, soll100Mod2.fluxes]).T\n",
    "dfMod2.columns = [\"biomass\", \"but50\", \"but100\"]\n",
    "\n",
    "dfMod3 = pd.DataFrame.from_dict([solBioMod3.fluxes, soll50Mod3.fluxes, soll100Mod3.fluxes]).T\n",
    "dfMod3.columns = [\"biomass\", \"but50\", \"but100\"]"
   ]
  },
  {
   "cell_type": "markdown",
   "metadata": {},
   "source": [
    "### Some remarks: \n",
    "\n",
    "- Only a small fraction of the fluxes are nonzero. \n",
    "- The number of nonzero fluxes increases with butyrate production except for model 3. "
   ]
  },
  {
   "cell_type": "code",
   "execution_count": 17,
   "metadata": {},
   "outputs": [
    {
     "data": {
      "text/plain": [
       "but50     331\n",
       "but100    358\n",
       "dtype: int64"
      ]
     },
     "execution_count": 17,
     "metadata": {},
     "output_type": "execute_result"
    }
   ],
   "source": [
    "(dfMod1 != 0).sum()"
   ]
  },
  {
   "cell_type": "code",
   "execution_count": 18,
   "metadata": {},
   "outputs": [
    {
     "data": {
      "text/plain": [
       "but50     345\n",
       "but100    362\n",
       "dtype: int64"
      ]
     },
     "execution_count": 18,
     "metadata": {},
     "output_type": "execute_result"
    }
   ],
   "source": [
    "(dfMod1a != 0).sum()"
   ]
  },
  {
   "cell_type": "code",
   "execution_count": 19,
   "metadata": {},
   "outputs": [
    {
     "data": {
      "text/plain": [
       "biomass    317\n",
       "but50      339\n",
       "but100     393\n",
       "dtype: int64"
      ]
     },
     "execution_count": 19,
     "metadata": {},
     "output_type": "execute_result"
    }
   ],
   "source": [
    "(dfMod2 != 0).sum()"
   ]
  },
  {
   "cell_type": "code",
   "execution_count": 20,
   "metadata": {},
   "outputs": [
    {
     "data": {
      "text/plain": [
       "biomass    357\n",
       "but50      340\n",
       "but100     319\n",
       "dtype: int64"
      ]
     },
     "execution_count": 20,
     "metadata": {},
     "output_type": "execute_result"
    }
   ],
   "source": [
    "(dfMod3 != 0).sum()"
   ]
  },
  {
   "cell_type": "code",
   "execution_count": 21,
   "metadata": {},
   "outputs": [
    {
     "data": {
      "image/png": "[encoded data removed]",
      "text/plain": [
       "<Figure size 432x288 with 1 Axes>"
      ]
     },
     "metadata": {
      "needs_background": "light"
     },
     "output_type": "display_data"
    }
   ],
   "source": [
    "bins = np.linspace(-20, 20, 100)\n",
    "plt.hist(solBioMod3.fluxes, bins, alpha=0.5, label='biomass')\n",
    "plt.hist(soll50Mod3.fluxes, bins, alpha=0.5, label='50% but. prod.')\n",
    "plt.hist(soll50Mod3.fluxes, bins, alpha=0.5, label='100% but. prod.')\n",
    "plt.legend(loc='upper right')\n",
    "plt.show()"
   ]
  },
  {
   "cell_type": "code",
   "execution_count": 22,
   "metadata": {},
   "outputs": [
    {
     "data": {
      "text/html": [
       "<div>\n",
       "<style scoped>\n",
       "    .dataframe tbody tr th:only-of-type {\n",
       "        vertical-align: middle;\n",
       "    }\n",
       "\n",
       "    .dataframe tbody tr th {\n",
       "        vertical-align: top;\n",
       "    }\n",
       "\n",
       "    .dataframe thead th {\n",
       "        text-align: right;\n",
       "    }\n",
       "</style>\n",
       "<table border=\"1\" class=\"dataframe\">\n",
       "  <thead>\n",
       "    <tr style=\"text-align: right;\">\n",
       "      <th></th>\n",
       "      <th>but50</th>\n",
       "      <th>but100</th>\n",
       "    </tr>\n",
       "  </thead>\n",
       "  <tbody>\n",
       "    <tr>\n",
       "      <th>DM_but_c</th>\n",
       "      <td>5.556069</td>\n",
       "      <td>7.481328</td>\n",
       "    </tr>\n",
       "  </tbody>\n",
       "</table>\n",
       "</div>"
      ],
      "text/plain": [
       "             but50    but100\n",
       "DM_but_c  5.556069  7.481328"
      ]
     },
     "execution_count": 22,
     "metadata": {},
     "output_type": "execute_result"
    }
   ],
   "source": [
    "dfMod1[dfMod1.index == 'DM_but_c']"
   ]
  },
  {
   "cell_type": "code",
   "execution_count": 23,
   "metadata": {},
   "outputs": [
    {
     "data": {
      "text/html": [
       "<div>\n",
       "<style scoped>\n",
       "    .dataframe tbody tr th:only-of-type {\n",
       "        vertical-align: middle;\n",
       "    }\n",
       "\n",
       "    .dataframe tbody tr th {\n",
       "        vertical-align: top;\n",
       "    }\n",
       "\n",
       "    .dataframe thead th {\n",
       "        text-align: right;\n",
       "    }\n",
       "</style>\n",
       "<table border=\"1\" class=\"dataframe\">\n",
       "  <thead>\n",
       "    <tr style=\"text-align: right;\">\n",
       "      <th></th>\n",
       "      <th>but50</th>\n",
       "      <th>but100</th>\n",
       "    </tr>\n",
       "  </thead>\n",
       "  <tbody>\n",
       "    <tr>\n",
       "      <th>DM_but_c</th>\n",
       "      <td>5.280294</td>\n",
       "      <td>8.948529</td>\n",
       "    </tr>\n",
       "  </tbody>\n",
       "</table>\n",
       "</div>"
      ],
      "text/plain": [
       "             but50    but100\n",
       "DM_but_c  5.280294  8.948529"
      ]
     },
     "execution_count": 23,
     "metadata": {},
     "output_type": "execute_result"
    }
   ],
   "source": [
    "dfMod1a[dfMod1a.index == 'DM_but_c']"
   ]
  },
  {
   "cell_type": "code",
   "execution_count": 24,
   "metadata": {},
   "outputs": [
    {
     "data": {
      "text/html": [
       "<div>\n",
       "<style scoped>\n",
       "    .dataframe tbody tr th:only-of-type {\n",
       "        vertical-align: middle;\n",
       "    }\n",
       "\n",
       "    .dataframe tbody tr th {\n",
       "        vertical-align: top;\n",
       "    }\n",
       "\n",
       "    .dataframe thead th {\n",
       "        text-align: right;\n",
       "    }\n",
       "</style>\n",
       "<table border=\"1\" class=\"dataframe\">\n",
       "  <thead>\n",
       "    <tr style=\"text-align: right;\">\n",
       "      <th></th>\n",
       "      <th>biomass</th>\n",
       "      <th>but50</th>\n",
       "      <th>but100</th>\n",
       "    </tr>\n",
       "  </thead>\n",
       "  <tbody>\n",
       "    <tr>\n",
       "      <th>DM_but_c</th>\n",
       "      <td>1.052316</td>\n",
       "      <td>5.25408</td>\n",
       "      <td>11.378676</td>\n",
       "    </tr>\n",
       "  </tbody>\n",
       "</table>\n",
       "</div>"
      ],
      "text/plain": [
       "           biomass    but50     but100\n",
       "DM_but_c  1.052316  5.25408  11.378676"
      ]
     },
     "execution_count": 24,
     "metadata": {},
     "output_type": "execute_result"
    }
   ],
   "source": [
    "dfMod2[dfMod2.index == 'DM_but_c']"
   ]
  },
  {
   "cell_type": "code",
   "execution_count": 25,
   "metadata": {},
   "outputs": [
    {
     "data": {
      "text/html": [
       "<div>\n",
       "<style scoped>\n",
       "    .dataframe tbody tr th:only-of-type {\n",
       "        vertical-align: middle;\n",
       "    }\n",
       "\n",
       "    .dataframe tbody tr th {\n",
       "        vertical-align: top;\n",
       "    }\n",
       "\n",
       "    .dataframe thead th {\n",
       "        text-align: right;\n",
       "    }\n",
       "</style>\n",
       "<table border=\"1\" class=\"dataframe\">\n",
       "  <thead>\n",
       "    <tr style=\"text-align: right;\">\n",
       "      <th></th>\n",
       "      <th>biomass</th>\n",
       "      <th>but50</th>\n",
       "      <th>but100</th>\n",
       "    </tr>\n",
       "  </thead>\n",
       "  <tbody>\n",
       "    <tr>\n",
       "      <th>DM_but_c</th>\n",
       "      <td>0.457089</td>\n",
       "      <td>5.291694</td>\n",
       "      <td>10.918919</td>\n",
       "    </tr>\n",
       "  </tbody>\n",
       "</table>\n",
       "</div>"
      ],
      "text/plain": [
       "           biomass     but50     but100\n",
       "DM_but_c  0.457089  5.291694  10.918919"
      ]
     },
     "execution_count": 25,
     "metadata": {},
     "output_type": "execute_result"
    }
   ],
   "source": [
    "dfMod3[dfMod3.index == 'DM_but_c']"
   ]
  },
  {
   "cell_type": "markdown",
   "metadata": {
    "collapsed": true
   },
   "source": [
    "### Flux difference analysis"
   ]
  },
  {
   "cell_type": "code",
   "execution_count": 50,
   "metadata": {
    "collapsed": true
   },
   "outputs": [],
   "source": [
    "def matPlot(dfMod, aspect):\n",
    "    \n",
    "    dfModCopy = dfMod.copy()\n",
    "    \n",
    "    dfModCopy[dfModCopy != 0] = 1\n",
    "    \n",
    "    plt.matshow(dfModCopy.values, aspect=aspect)\n",
    "    plt.show()"
   ]
  },
  {
   "cell_type": "code",
   "execution_count": 51,
   "metadata": {},
   "outputs": [
    {
     "data": {
      "image/png": "[encoded data removed]",
      "text/plain": [
       "<Figure size 288x1152 with 1 Axes>"
      ]
     },
     "metadata": {
      "needs_background": "light"
     },
     "output_type": "display_data"
    }
   ],
   "source": [
    "matPlot(dfMod1, 0.008)"
   ]
  },
  {
   "cell_type": "code",
   "execution_count": 52,
   "metadata": {},
   "outputs": [
    {
     "data": {
      "image/png": "[encoded data removed]",
      "text/plain": [
       "<Figure size 288x1152 with 1 Axes>"
      ]
     },
     "metadata": {
      "needs_background": "light"
     },
     "output_type": "display_data"
    }
   ],
   "source": [
    "matPlot(dfMod3, 0.008)"
   ]
  },
  {
   "cell_type": "code",
   "execution_count": null,
   "metadata": {
    "collapsed": true
   },
   "outputs": [],
   "source": []
  }
 ],
 "metadata": {
  "kernelspec": {
   "display_name": "Python 3",
   "language": "python",
   "name": "python3"
  },
  "language_info": {
   "codemirror_mode": {
    "name": "ipython",
    "version": 3
   },
   "file_extension": ".py",
   "mimetype": "text/x-python",
   "name": "python",
   "nbconvert_exporter": "python",
   "pygments_lexer": "ipython3",
   "version": "3.6.2"
  }
 },
 "nbformat": 4,
 "nbformat_minor": 2
}
