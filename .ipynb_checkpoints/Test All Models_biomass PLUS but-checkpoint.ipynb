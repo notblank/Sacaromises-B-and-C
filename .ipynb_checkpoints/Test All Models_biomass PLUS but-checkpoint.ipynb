{
 "cells": [
  {
   "cell_type": "code",
   "execution_count": 6,
   "metadata": {
    "collapsed": true
   },
   "outputs": [],
   "source": [
    "import cobra\n",
    "import matplotlib.pylab as plt\n",
    "import numpy as np\n",
    "import pandas as pd"
   ]
  },
  {
   "cell_type": "code",
   "execution_count": 7,
   "metadata": {},
   "outputs": [
    {
     "data": {
      "text/html": [
       "\n",
       "        <table>\n",
       "            <tr>\n",
       "                <td><strong>Name</strong></td>\n",
       "                <td>iMM904</td>\n",
       "            </tr><tr>\n",
       "                <td><strong>Memory address</strong></td>\n",
       "                <td>0x07c35433b70</td>\n",
       "            </tr><tr>\n",
       "                <td><strong>Number of metabolites</strong></td>\n",
       "                <td>1226</td>\n",
       "            </tr><tr>\n",
       "                <td><strong>Number of reactions</strong></td>\n",
       "                <td>1577</td>\n",
       "            </tr><tr>\n",
       "                <td><strong>Objective expression</strong></td>\n",
       "                <td>-1.0*BIOMASS_SC5_notrace_reverse_93090 + 1.0*BIOMASS_SC5_notrace</td>\n",
       "            </tr><tr>\n",
       "                <td><strong>Compartments</strong></td>\n",
       "                <td>cytosol, mitochondria, extracellular space, peroxisome/glyoxysome, endoplasmic reticulum, vacuole, nucleus, golgi apparatus</td>\n",
       "            </tr>\n",
       "          </table>"
      ],
      "text/plain": [
       "<Model iMM904 at 0x7c35433b70>"
      ]
     },
     "execution_count": 7,
     "metadata": {},
     "output_type": "execute_result"
    }
   ],
   "source": [
    "cerevisiae = cobra.io.load_json_model('./modelos COBRA/iMM904.json')\n",
    "cerevisiae"
   ]
  },
  {
   "cell_type": "code",
   "execution_count": 8,
   "metadata": {
    "collapsed": true
   },
   "outputs": [],
   "source": [
    "cerevisiaeMod1 = cobra.io.load_json_model('./cerevisiaeMod1.json')\n",
    "cerevisiaeMod1a = cobra.io.load_json_model('./cerevisiaeMod1a.json')\n",
    "cerevisiaeMod2 = cobra.io.load_json_model('./cerevisiaeMod2.json')\n",
    "cerevisiaeMod3 = cobra.io.load_json_model('./cerevisiaeMod3.json')"
   ]
  },
  {
   "cell_type": "code",
   "execution_count": 9,
   "metadata": {
    "collapsed": true
   },
   "outputs": [],
   "source": [
    "#print(\"Reactions\")\n",
    "#print(\"---------\")\n",
    "#for x in cerevisiaeMod1.reactions:\n",
    "#    print(\"%s : %s \\n lower: %s, upper: %s\" % (x.id, x.reaction, x.lower_bound, x.upper_bound))"
   ]
  },
  {
   "cell_type": "code",
   "execution_count": 10,
   "metadata": {},
   "outputs": [],
   "source": [
    "cerevisiaeMod1.objective = cerevisiaeMod1.add_boundary(cerevisiaeMod1.metabolites.but_c, type='demand')\n",
    "cerevisiaeMod1a.objective = cerevisiaeMod1a.add_boundary(cerevisiaeMod1a.metabolites.but_c, type='demand')\n",
    "cerevisiaeMod2.objective = cerevisiaeMod2.add_boundary(cerevisiaeMod2.metabolites.but_c, type='demand')\n",
    "cerevisiaeMod3.objective = cerevisiaeMod3.add_boundary(cerevisiaeMod3.metabolites.but_c, type='demand')"
   ]
  },
  {
   "cell_type": "code",
   "execution_count": 12,
   "metadata": {},
   "outputs": [
    {
     "name": "stdout",
     "output_type": "stream",
     "text": [
      "IN FLUXES     OUT FLUXES     OBJECTIVES\n",
      "------------  -------------  --------------\n",
      "glc__D_e  10  h_e     19.2   DM_but_c  7.48\n",
      "o2_e       2  h2o_e   12.4\n",
      "              but_c    7.48\n",
      "              co2_e    6.54\n",
      "              succ_e   5.88\n"
     ]
    }
   ],
   "source": [
    "cerevisiaeMod1.optimize()\n",
    "cerevisiaeMod1.summary()"
   ]
  },
  {
   "cell_type": "code",
   "execution_count": 13,
   "metadata": {},
   "outputs": [
    {
     "name": "stdout",
     "output_type": "stream",
     "text": [
      "IN FLUXES     OUT FLUXES     OBJECTIVES\n",
      "------------  -------------  --------------\n",
      "glc__D_e  10  h_e     14.2   DM_but_c  8.95\n",
      "o2_e       2  h2o_e   12.3\n",
      "              co2_e   11\n",
      "              but_c    8.95\n",
      "              succ_e   2.63\n",
      "              etoh_e   1.35\n"
     ]
    }
   ],
   "source": [
    "cerevisiaeMod1a.optimize()\n",
    "cerevisiaeMod1a.summary()"
   ]
  },
  {
   "cell_type": "code",
   "execution_count": 14,
   "metadata": {},
   "outputs": [
    {
     "name": "stdout",
     "output_type": "stream",
     "text": [
      "IN FLUXES        OUT FLUXES    OBJECTIVES\n",
      "---------------  ------------  --------------\n",
      "glc__D_e  10     h2o_e  13.3   DM_but_c  11.7\n",
      "o2_e       1.65  co2_e  13.3\n",
      "                 h_e    11.7\n",
      "                 but_c  11.7\n"
     ]
    }
   ],
   "source": [
    "cerevisiaeMod2.optimize()\n",
    "cerevisiaeMod2.summary()"
   ]
  },
  {
   "cell_type": "code",
   "execution_count": 15,
   "metadata": {},
   "outputs": [
    {
     "name": "stdout",
     "output_type": "stream",
     "text": [
      "IN FLUXES     OUT FLUXES     OBJECTIVES\n",
      "------------  -------------  --------------\n",
      "glc__D_e  10  co2_e   14.1   DM_but_c  10.9\n",
      "o2_e       2  h2o_e   12.9\n",
      "              but_c   10.9\n",
      "              h_e     10.9\n",
      "              etoh_e   1.14\n"
     ]
    }
   ],
   "source": [
    "cerevisiaeMod3.optimize()\n",
    "cerevisiaeMod3.summary()"
   ]
  },
  {
   "cell_type": "markdown",
   "metadata": {},
   "source": [
    "## The optmal flux for butyrate production is using the prescribed reactions: "
   ]
  },
  {
   "cell_type": "code",
   "execution_count": 16,
   "metadata": {},
   "outputs": [
    {
     "name": "stdout",
     "output_type": "stream",
     "text": [
      "PRODUCING REACTIONS -- Butyrate (n-C4:0) (but_c)\n",
      "------------------------------------------------\n",
      "%       FLUX  RXN ID    REACTION\n",
      "----  ------  --------  ---------------------------------------\n",
      "100%    8.95  BCOAhydb  btcoa_c + h2o_c <=> but_c + coa_c + h_c\n",
      "\n",
      "CONSUMING REACTIONS -- Butyrate (n-C4:0) (but_c)\n",
      "------------------------------------------------\n",
      "%       FLUX  RXN ID    REACTION\n",
      "----  ------  --------  ---------------------------------------\n",
      "100%    8.95  DM_but_c  but_c -->\n"
     ]
    }
   ],
   "source": [
    "cerevisiaeMod1a.metabolites.but_c.summary()"
   ]
  },
  {
   "cell_type": "code",
   "execution_count": 17,
   "metadata": {},
   "outputs": [
    {
     "name": "stdout",
     "output_type": "stream",
     "text": [
      "PRODUCING REACTIONS -- Butanoyl-CoA (btcoa_c)\n",
      "---------------------------------------------\n",
      "%       FLUX  RXN ID    REACTION\n",
      "----  ------  --------  ------------------------------------------\n",
      "100%    8.95  ACOAD1b   b2coa_c + h_c + nadh_c <=> btcoa_c + nad_c\n",
      "\n",
      "CONSUMING REACTIONS -- Butanoyl-CoA (btcoa_c)\n",
      "---------------------------------------------\n",
      "%       FLUX  RXN ID    REACTION\n",
      "----  ------  --------  ------------------------------------------\n",
      "100%    8.95  BCOAhydb  btcoa_c + h2o_c <=> but_c + coa_c + h_c\n"
     ]
    }
   ],
   "source": [
    "cerevisiaeMod1a.metabolites.btcoa_c.summary()"
   ]
  },
  {
   "cell_type": "code",
   "execution_count": 18,
   "metadata": {},
   "outputs": [
    {
     "name": "stdout",
     "output_type": "stream",
     "text": [
      "PRODUCING REACTIONS -- Crotonoyl-CoA (b2coa_c)\n",
      "----------------------------------------------\n",
      "%       FLUX  RXN ID     REACTION\n",
      "----  ------  ---------  ------------------------------------------\n",
      "100%    8.95  HBCOAhydb  3hbcoa_c <=> b2coa_c + h2o_c\n",
      "\n",
      "CONSUMING REACTIONS -- Crotonoyl-CoA (b2coa_c)\n",
      "----------------------------------------------\n",
      "%       FLUX  RXN ID     REACTION\n",
      "----  ------  ---------  ------------------------------------------\n",
      "100%    8.95  ACOAD1b    b2coa_c + h_c + nadh_c <=> btcoa_c + nad_c\n"
     ]
    }
   ],
   "source": [
    "cerevisiaeMod1a.metabolites.b2coa_c.summary()"
   ]
  },
  {
   "cell_type": "code",
   "execution_count": null,
   "metadata": {},
   "outputs": [],
   "source": []
  },
  {
   "cell_type": "markdown",
   "metadata": {},
   "source": [
    "# Optimal Biomass Production: "
   ]
  },
  {
   "cell_type": "code",
   "execution_count": 20,
   "metadata": {
    "collapsed": true
   },
   "outputs": [],
   "source": [
    "cerevisiaeMod1.objective = 'BIOMASS_SC5_notrace' \n",
    "cerevisiaeMod1a.objective = 'BIOMASS_SC5_notrace' \n",
    "cerevisiaeMod2.objective = 'BIOMASS_SC5_notrace' \n",
    "cerevisiaeMod3.objective = 'BIOMASS_SC5_notrace' "
   ]
  },
  {
   "cell_type": "code",
   "execution_count": 21,
   "metadata": {},
   "outputs": [
    {
     "name": "stdout",
     "output_type": "stream",
     "text": [
      "IN FLUXES          OUT FLUXES        OBJECTIVES\n",
      "-----------------  ----------------  ----------------------\n",
      "glc__D_e  10       co2_e   17.9      BIOMASS_SC5_...  0.291\n",
      "o2_e       2       etoh_e  15.7\n",
      "nh4_e      1.63    h2o_e    5.68\n",
      "pi_e       0.0576  h_e      1.54\n",
      "so4_e      0.0225  ac_e     0.0709\n",
      "                   for_e    0.00151\n"
     ]
    }
   ],
   "source": [
    "cerevisiaeMod1.optimize()\n",
    "cerevisiaeMod1.summary()"
   ]
  },
  {
   "cell_type": "code",
   "execution_count": 22,
   "metadata": {},
   "outputs": [
    {
     "name": "stdout",
     "output_type": "stream",
     "text": [
      "IN FLUXES          OUT FLUXES        OBJECTIVES\n",
      "-----------------  ----------------  ----------------------\n",
      "glc__D_e  10       co2_e   17.9      BIOMASS_SC5_...  0.291\n",
      "o2_e       2       etoh_e  15.7\n",
      "nh4_e      1.63    h2o_e    5.68\n",
      "pi_e       0.0576  h_e      1.54\n",
      "so4_e      0.0225  ac_e     0.0709\n",
      "                   for_e    0.00151\n"
     ]
    }
   ],
   "source": [
    "cerevisiaeMod1a.optimize()\n",
    "cerevisiaeMod1a.summary()"
   ]
  },
  {
   "cell_type": "code",
   "execution_count": 23,
   "metadata": {},
   "outputs": [
    {
     "name": "stdout",
     "output_type": "stream",
     "text": [
      "IN FLUXES          OUT FLUXES        OBJECTIVES\n",
      "-----------------  ----------------  --------------------\n",
      "glc__D_e  10       co2_e   17.2      BIOMASS_SC5_...  0.3\n",
      "o2_e       2       etoh_e  13.9\n",
      "nh4_e      1.68    h2o_e    6.85\n",
      "pi_e       0.0594  h_e      2.56\n",
      "so4_e      0.0232  but_c    1.05\n",
      "                   for_e    0.00155\n"
     ]
    }
   ],
   "source": [
    "cerevisiaeMod2.optimize()\n",
    "cerevisiaeMod2.summary()"
   ]
  },
  {
   "cell_type": "code",
   "execution_count": 24,
   "metadata": {},
   "outputs": [
    {
     "name": "stdout",
     "output_type": "stream",
     "text": [
      "IN FLUXES          OUT FLUXES        OBJECTIVES\n",
      "-----------------  ----------------  ----------------------\n",
      "glc__D_e  10       co2_e   17.6      BIOMASS_SC5_...  0.293\n",
      "o2_e       2       etoh_e  14.9\n",
      "nh4_e      1.64    h2o_e    6.16\n",
      "pi_e       0.0579  h_e      2\n",
      "so4_e      0.0227  but_c    0.457\n",
      "                   ac_e     0.0713\n",
      "                   for_e    0.00152\n"
     ]
    }
   ],
   "source": [
    "cerevisiaeMod3.optimize()\n",
    "cerevisiaeMod3.summary()"
   ]
  },
  {
   "cell_type": "markdown",
   "metadata": {},
   "source": [
    "# Multi-objective optimization\n",
    "\n",
    "https://cobrapy.readthedocs.io/en/latest/constraints_objectives.html\n",
    "\n",
    "Here the scalarization of the multi-objective problem where the biomass and butyrate production are maximized is solved: \n",
    "\n",
    "$$\n",
    "\\begin{equation*}\n",
    "\\begin{aligned}\n",
    "& \\underset{f}{\\text{maximize}}\n",
    "& &  biomass(f) +  \\lambda \\ but(f) \\\\\n",
    "& \\text{subject to}\n",
    "& & Sf = 0 \\\\\n",
    "&&& l_i \\leq f_i \\leq u_i, \\; i = 1, \\ldots, m.\n",
    "\\end{aligned}\n",
    "\\end{equation*}\n",
    "$$\n",
    "\n",
    "In the objective $biomass$ and $but$ are functions of the vector of flows $f$. The parameter $\\lambda$ controls the tradeoff between the biomass and the production of butyrate. \n",
    "\n"
   ]
  },
  {
   "cell_type": "code",
   "execution_count": 105,
   "metadata": {
    "collapsed": true
   },
   "outputs": [],
   "source": [
    "biomass = cerevisiaeMod1.reactions.BIOMASS_SC5_notrace.flux_expression\n",
    "but1 = cerevisiaeMod1.reactions.DM_but_c.flux_expression\n",
    "but1a = cerevisiaeMod1a.reactions.DM_but_c.flux_expression\n",
    "but2 = cerevisiaeMod2.reactions.DM_but_c.flux_expression\n",
    "but3 = cerevisiaeMod3.reactions.DM_but_c.flux_expression"
   ]
  },
  {
   "cell_type": "code",
   "execution_count": 247,
   "metadata": {
    "collapsed": true
   },
   "outputs": [],
   "source": [
    "# solution path:\n",
    "lams = np.arange(0, 0.1, 0.001)\n",
    "nlams = len(lams)\n",
    "\n",
    "buts1 = np.repeat(0.0, nlams)\n",
    "buts1a = np.repeat(0.0, nlams)\n",
    "buts2 = np.repeat(0.0, nlams)\n",
    "buts3 = np.repeat(0.0, nlams)\n",
    "\n",
    "biomasses1 = np.repeat(0.0, nlams)\n",
    "biomasses1a = np.repeat(0.0, nlams)\n",
    "biomasses2 = np.repeat(0.0, nlams)\n",
    "biomasses3 = np.repeat(0.0, nlams)\n",
    "\n",
    "\n",
    "for i, lam in enumerate(lams):\n",
    "    \n",
    "    biomass_but1 = cerevisiaeMod1.problem.Objective(biomass + lam*but1,\n",
    "    direction='max')\n",
    "    biomass_but1a = cerevisiaeMod1a.problem.Objective(biomass + lam*but1a,\n",
    "    direction='max')\n",
    "    biomass_but2 = cerevisiaeMod2.problem.Objective(biomass + lam*but2,\n",
    "    direction='max')\n",
    "    biomass_but3 = cerevisiaeMod3.problem.Objective(biomass + lam*but3,\n",
    "    direction='max')\n",
    "    \n",
    "    cerevisiaeMod1.objective = biomass_but1\n",
    "    cerevisiaeMod1a.objective = biomass_but1a\n",
    "    cerevisiaeMod2.objective = biomass_but2\n",
    "    cerevisiaeMod3.objective = biomass_but3\n",
    "    \n",
    "    solution1 = cerevisiaeMod1.optimize(objective_sense=None)\n",
    "    solution1a = cerevisiaeMod1a.optimize(objective_sense=None)\n",
    "    solution2 = cerevisiaeMod2.optimize(objective_sense=None)\n",
    "    solution3 = cerevisiaeMod3.optimize(objective_sense=None)\n",
    "    \n",
    "    buts1[i] = solution1.fluxes.DM_but_c\n",
    "    buts1a[i] = solution1a.fluxes.DM_but_c\n",
    "    buts2[i] = solution2.fluxes.DM_but_c\n",
    "    buts3[i] = solution3.fluxes.DM_but_c\n",
    "    \n",
    "    biomasses1[i] = solution1.fluxes.BIOMASS_SC5_notrace\n",
    "    biomasses1a[i] = solution1a.fluxes.BIOMASS_SC5_notrace\n",
    "    biomasses2[i] = solution2.fluxes.BIOMASS_SC5_notrace\n",
    "    biomasses3[i] = solution3.fluxes.BIOMASS_SC5_notrace\n",
    "    \n",
    "    "
   ]
  },
  {
   "cell_type": "markdown",
   "metadata": {},
   "source": [
    "## Some plots:"
   ]
  },
  {
   "cell_type": "code",
   "execution_count": 248,
   "metadata": {},
   "outputs": [
    {
     "data": {
      "image/png": "[encoded data removed]",
      "text/plain": [
       "<matplotlib.figure.Figure at 0x7c38bbad68>"
      ]
     },
     "metadata": {},
     "output_type": "display_data"
    }
   ],
   "source": [
    "plt.subplot(2, 1, 1)\n",
    "plt.plot(lams, buts1, label = 'mod 1.')\n",
    "plt.plot(lams, buts1a, label = 'mod 1a.')\n",
    "plt.plot(lams, buts2, label = 'mod 2.')\n",
    "plt.plot(lams, buts3, label = 'mod 3.')\n",
    "plt.ylabel('butyrate')\n",
    "plt.legend()\n",
    "\n",
    "plt.subplot(2, 1, 2)\n",
    "plt.plot(lams, biomasses1, label = 'mod 1.')\n",
    "plt.plot(lams, biomasses1a, label = 'mod 1a.')\n",
    "plt.plot(lams, biomasses2, label = 'mod 2.')\n",
    "plt.plot(lams, biomasses3, label = 'mod 3.')\n",
    "plt.ylabel('biomass')\n",
    "plt.legend()\n",
    "\n",
    "plt.show()"
   ]
  },
  {
   "cell_type": "markdown",
   "metadata": {},
   "source": [
    "### Model 2 is consistenly better:\n",
    "\n",
    "The butyrate production is higher for any fixed biomass produciton. "
   ]
  },
  {
   "cell_type": "code",
   "execution_count": 253,
   "metadata": {},
   "outputs": [
    {
     "data": {
      "image/png": "[encoded data removed]",
      "text/plain": [
       "<matplotlib.figure.Figure at 0x7c3929f780>"
      ]
     },
     "metadata": {},
     "output_type": "display_data"
    }
   ],
   "source": [
    "plt.plot(biomasses1, buts1, label = 'mod 1.')\n",
    "plt.plot(biomasses1a, buts1a, label = 'mod 1a.')\n",
    "plt.plot(biomasses2, buts2, label = 'mod 2.')\n",
    "plt.plot(biomasses3, buts3, label = 'mod 3.')\n",
    "\n",
    "plt.title('Biomass and Butyrate Production')\n",
    "plt.xlabel('biomass')\n",
    "plt.ylabel('butyrate')\n",
    "plt.legend()\n",
    "plt.show()"
   ]
  },
  {
   "cell_type": "markdown",
   "metadata": {},
   "source": [
    "## Butyrate consumption for biomass in models 2 and 3"
   ]
  },
  {
   "cell_type": "code",
   "execution_count": 237,
   "metadata": {
    "collapsed": true
   },
   "outputs": [],
   "source": [
    "lam = 0.02\n",
    "\n",
    "but2 = cerevisiaeMod2.reactions.DM_but_c.flux_expression\n",
    "but3 = cerevisiaeMod3.reactions.DM_but_c.flux_expression\n",
    "\n",
    "biomass_but2 = cerevisiaeMod2.problem.Objective(biomass + lam*but2,\n",
    "    direction='max')\n",
    "biomass_but3 = cerevisiaeMod3.problem.Objective(biomass + lam*but3,\n",
    "    direction='max')\n",
    "\n",
    "cerevisiaeMod2.objective = biomass_but2\n",
    "cerevisiaeMod3.objective = biomass_but3"
   ]
  },
  {
   "cell_type": "code",
   "execution_count": 238,
   "metadata": {
    "collapsed": true
   },
   "outputs": [],
   "source": [
    "solution2 = cerevisiaeMod2.optimize(objective_sense=None)\n",
    "solution3 = cerevisiaeMod3.optimize(objective_sense=None)"
   ]
  },
  {
   "cell_type": "code",
   "execution_count": 239,
   "metadata": {},
   "outputs": [
    {
     "name": "stdout",
     "output_type": "stream",
     "text": [
      "IN FLUXES          OUT FLUXES     OBJECTIVES\n",
      "-----------------  -------------  -----------------------\n",
      "glc__D_e  10       h_e     19.9   BIOMASS_SC5_...  0.251\n",
      "o2_e       2       h2o_e   13.6   DM_but_c         0.0997\n",
      "nh4_e      1.4     succ_e   6.82\n",
      "pi_e       0.0496  but_c    4.99\n",
      "so4_e      0.0194  co2_e    3.76\n"
     ]
    }
   ],
   "source": [
    "cerevisiaeMod2.summary()"
   ]
  },
  {
   "cell_type": "code",
   "execution_count": 240,
   "metadata": {},
   "outputs": [
    {
     "name": "stdout",
     "output_type": "stream",
     "text": [
      "IN FLUXES          OUT FLUXES       OBJECTIVES\n",
      "-----------------  ---------------  ----------------------\n",
      "glc__D_e  10       h_e     20       BIOMASS_SC5_...  0.239\n",
      "o2_e       2       h2o_e   13.5     DM_but_c         0.101\n",
      "nh4_e      1.34    succ_e   6.87\n",
      "pi_e       0.0473  but_c    5.03\n",
      "so4_e      0.0185  co2_e    3.78\n",
      "                   etoh_e   0.0137\n"
     ]
    }
   ],
   "source": [
    "cerevisiaeMod3.summary()"
   ]
  },
  {
   "cell_type": "code",
   "execution_count": 241,
   "metadata": {},
   "outputs": [
    {
     "name": "stdout",
     "output_type": "stream",
     "text": [
      "PRODUCING REACTIONS -- Butyrate (n-C4:0) (but_c)\n",
      "------------------------------------------------\n",
      "%       FLUX  RXN ID      REACTION\n",
      "----  ------  ----------  -------------------------------------------------\n",
      "100%    4.99  FACOAL40ib  atp_c + but_c + coa_c <=> amp_c + btcoa_c + ppi_c\n",
      "\n",
      "CONSUMING REACTIONS -- Butyrate (n-C4:0) (but_c)\n",
      "------------------------------------------------\n",
      "%       FLUX  RXN ID      REACTION\n",
      "----  ------  ----------  -------------------------------------------------\n",
      "100%    4.99  DM_but_c    but_c -->\n"
     ]
    }
   ],
   "source": [
    "cerevisiaeMod2.metabolites.but_c.summary()"
   ]
  },
  {
   "cell_type": "code",
   "execution_count": 242,
   "metadata": {},
   "outputs": [
    {
     "name": "stdout",
     "output_type": "stream",
     "text": [
      "PRODUCING REACTIONS -- Butanoyl-CoA (btcoa_c)\n",
      "---------------------------------------------\n",
      "%       FLUX  RXN ID      REACTION\n",
      "----  ------  ----------  -------------------------------------------------\n",
      "100%    4.99  ACOAD1b     b2coa_c + h_c + nadh_c <=> btcoa_c + nad_c\n",
      "\n",
      "CONSUMING REACTIONS -- Butanoyl-CoA (btcoa_c)\n",
      "---------------------------------------------\n",
      "%       FLUX  RXN ID      REACTION\n",
      "----  ------  ----------  -------------------------------------------------\n",
      "100%    4.99  FACOAL40ib  atp_c + but_c + coa_c <=> amp_c + btcoa_c + ppi_c\n"
     ]
    }
   ],
   "source": [
    "cerevisiaeMod2.metabolites.btcoa_c.summary()"
   ]
  },
  {
   "cell_type": "code",
   "execution_count": 243,
   "metadata": {},
   "outputs": [
    {
     "name": "stdout",
     "output_type": "stream",
     "text": [
      "PRODUCING REACTIONS -- Crotonoyl-CoA (b2coa_c)\n",
      "----------------------------------------------\n",
      "%       FLUX  RXN ID     REACTION\n",
      "----  ------  ---------  ------------------------------------------\n",
      "100%    4.99  HBCOAhydb  3hbcoa_c <=> b2coa_c + h2o_c\n",
      "\n",
      "CONSUMING REACTIONS -- Crotonoyl-CoA (b2coa_c)\n",
      "----------------------------------------------\n",
      "%       FLUX  RXN ID     REACTION\n",
      "----  ------  ---------  ------------------------------------------\n",
      "100%    4.99  ACOAD1b    b2coa_c + h_c + nadh_c <=> btcoa_c + nad_c\n"
     ]
    }
   ],
   "source": [
    "cerevisiaeMod2.metabolites.b2coa_c.summary()"
   ]
  },
  {
   "cell_type": "code",
   "execution_count": 244,
   "metadata": {},
   "outputs": [
    {
     "name": "stdout",
     "output_type": "stream",
     "text": [
      "PRODUCING REACTIONS -- (R)-3-Hydroxybutyryl-CoA (3hbcoa_c)\n",
      "----------------------------------------------------------\n",
      "%       FLUX  RXN ID     REACTION\n",
      "----  ------  ---------  -------------------------------------------\n",
      "100%    4.99  AvAARb     aacoa_c + h_c + nadh_c <=> 3hbcoa_c + nad_c\n",
      "\n",
      "CONSUMING REACTIONS -- (R)-3-Hydroxybutyryl-CoA (3hbcoa_c)\n",
      "----------------------------------------------------------\n",
      "%       FLUX  RXN ID     REACTION\n",
      "----  ------  ---------  -------------------------------------------\n",
      "100%    4.99  HBCOAhydb  3hbcoa_c <=> b2coa_c + h2o_c\n"
     ]
    }
   ],
   "source": [
    "cerevisiaeMod2.metabolites.get_by_id('3hbcoa_c').summary()"
   ]
  },
  {
   "cell_type": "code",
   "execution_count": 245,
   "metadata": {},
   "outputs": [
    {
     "name": "stdout",
     "output_type": "stream",
     "text": [
      "PRODUCING REACTIONS -- Acetoacetyl-CoA (aacoa_c)\n",
      "------------------------------------------------\n",
      "%       FLUX  RXN ID    REACTION\n",
      "----  ------  --------  --------------------------------------------------\n",
      "58%     2.89  HMGCOAS   coa_c + h_c + hmgcoa_c <=> aacoa_c + accoa_c + ...\n",
      "42%     2.1   ACACT1b   2.0 accoa_c <=> aacoa_c + coa_c\n",
      "\n",
      "CONSUMING REACTIONS -- Acetoacetyl-CoA (aacoa_c)\n",
      "------------------------------------------------\n",
      "%       FLUX  RXN ID    REACTION\n",
      "----  ------  --------  --------------------------------------------------\n",
      "100%    4.99  AvAARb    aacoa_c + h_c + nadh_c <=> 3hbcoa_c + nad_c\n"
     ]
    }
   ],
   "source": [
    "cerevisiaeMod2.metabolites.aacoa_c.summary()"
   ]
  },
  {
   "cell_type": "code",
   "execution_count": 246,
   "metadata": {},
   "outputs": [
    {
     "name": "stdout",
     "output_type": "stream",
     "text": [
      "PRODUCING REACTIONS -- Acetyl-CoA (accoa_c)\n",
      "-------------------------------------------\n",
      "%      FLUX  RXN ID      REACTION\n",
      "---  ------  ----------  --------------------------------------------------\n",
      "65%  2.89    HMGCOAS     coa_c + h_c + hmgcoa_c <=> aacoa_c + accoa_c + ...\n",
      "35%  1.55    ACS         ac_c + atp_c + coa_c --> accoa_c + amp_c + ppi_c\n",
      "\n",
      "CONSUMING REACTIONS -- Acetyl-CoA (accoa_c)\n",
      "-------------------------------------------\n",
      "%      FLUX  RXN ID      REACTION\n",
      "---  ------  ----------  --------------------------------------------------\n",
      "94%  4.19    ACACT1b     2.0 accoa_c <=> aacoa_c + coa_c\n",
      "2%   0.0997  ACCOAC      accoa_c + atp_c + hco3_c <=> adp_c + h_c + malc...\n",
      "2%   0.0743  IPPS        3mob_c + accoa_c + h2o_c --> 3c3hmp_c + coa_c +...\n",
      "1%   0.061   HSERTA      accoa_c + hom__L_c <=> achms_c + coa_c\n",
      "0%   0.014   FAS80COA_L  accoa_c + 9.0 h_c + 3.0 malcoa_c + 6.0 nadph_c ...\n"
     ]
    }
   ],
   "source": [
    "cerevisiaeMod2.metabolites.accoa_c.summary()"
   ]
  },
  {
   "cell_type": "code",
   "execution_count": null,
   "metadata": {
    "collapsed": true
   },
   "outputs": [],
   "source": []
  }
 ],
 "metadata": {
  "kernelspec": {
   "display_name": "Python 3",
   "language": "python",
   "name": "python3"
  },
  "language_info": {
   "codemirror_mode": {
    "name": "ipython",
    "version": 3
   },
   "file_extension": ".py",
   "mimetype": "text/x-python",
   "name": "python",
   "nbconvert_exporter": "python",
   "pygments_lexer": "ipython3",
   "version": "3.6.2"
  }
 },
 "nbformat": 4,
 "nbformat_minor": 2
}
