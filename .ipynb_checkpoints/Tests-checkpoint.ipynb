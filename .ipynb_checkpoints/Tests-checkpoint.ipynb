{
 "cells": [
  {
   "cell_type": "code",
   "execution_count": 1,
   "metadata": {
    "collapsed": true
   },
   "outputs": [],
   "source": [
    "import cobra\n",
    "import matplotlib.pylab as plt\n",
    "import numpy as np\n",
    "import pandas as pd"
   ]
  },
  {
   "cell_type": "code",
   "execution_count": 2,
   "metadata": {},
   "outputs": [
    {
     "data": {
      "text/html": [
       "\n",
       "        <table>\n",
       "            <tr>\n",
       "                <td><strong>Name</strong></td>\n",
       "                <td>iMM904</td>\n",
       "            </tr><tr>\n",
       "                <td><strong>Memory address</strong></td>\n",
       "                <td>0x0b61fa96748</td>\n",
       "            </tr><tr>\n",
       "                <td><strong>Number of metabolites</strong></td>\n",
       "                <td>1226</td>\n",
       "            </tr><tr>\n",
       "                <td><strong>Number of reactions</strong></td>\n",
       "                <td>1577</td>\n",
       "            </tr><tr>\n",
       "                <td><strong>Objective expression</strong></td>\n",
       "                <td>-1.0*BIOMASS_SC5_notrace_reverse_93090 + 1.0*BIOMASS_SC5_notrace</td>\n",
       "            </tr><tr>\n",
       "                <td><strong>Compartments</strong></td>\n",
       "                <td>cytosol, mitochondria, extracellular space, peroxisome/glyoxysome, endoplasmic reticulum, vacuole, nucleus, golgi apparatus</td>\n",
       "            </tr>\n",
       "          </table>"
      ],
      "text/plain": [
       "<Model iMM904 at 0xb61fa96748>"
      ]
     },
     "execution_count": 2,
     "metadata": {},
     "output_type": "execute_result"
    }
   ],
   "source": [
    "cerevisiae = cobra.io.load_json_model('./modelos COBRA/iMM904.json')\n",
    "cerevisiae"
   ]
  },
  {
   "cell_type": "code",
   "execution_count": 3,
   "metadata": {},
   "outputs": [
    {
     "data": {
      "text/html": [
       "\n",
       "        <table>\n",
       "            <tr>\n",
       "                <td><strong>Name</strong></td>\n",
       "                <td>iMM904</td>\n",
       "            </tr><tr>\n",
       "                <td><strong>Memory address</strong></td>\n",
       "                <td>0x0b621dd56d8</td>\n",
       "            </tr><tr>\n",
       "                <td><strong>Number of metabolites</strong></td>\n",
       "                <td>1230</td>\n",
       "            </tr><tr>\n",
       "                <td><strong>Number of reactions</strong></td>\n",
       "                <td>1582</td>\n",
       "            </tr><tr>\n",
       "                <td><strong>Objective expression</strong></td>\n",
       "                <td>-1.0*BIOMASS_SC5_notrace_reverse_93090 + 1.0*BIOMASS_SC5_notrace</td>\n",
       "            </tr><tr>\n",
       "                <td><strong>Compartments</strong></td>\n",
       "                <td>cytosol, mitochondria, extracellular space, peroxisome/glyoxysome, cytosol, endoplasmic reticulum, nucleus, golgi apparatus, vacuole</td>\n",
       "            </tr>\n",
       "          </table>"
      ],
      "text/plain": [
       "<Model iMM904 at 0xb621dd56d8>"
      ]
     },
     "execution_count": 3,
     "metadata": {},
     "output_type": "execute_result"
    }
   ],
   "source": [
    "cerevisiaeMod1 = cobra.io.load_json_model('./cerevisiaeMod1.json')\n",
    "cerevisiaeMod1"
   ]
  },
  {
   "cell_type": "code",
   "execution_count": 4,
   "metadata": {},
   "outputs": [],
   "source": [
    "#print(\"Reactions\")\n",
    "#print(\"---------\")\n",
    "#for x in cerevisiaeMod1.reactions:\n",
    "#    print(\"%s : %s \\n lower: %s, upper: %s\" % (x.id, x.reaction, x.lower_bound, x.upper_bound))"
   ]
  },
  {
   "cell_type": "code",
   "execution_count": 5,
   "metadata": {
    "collapsed": true
   },
   "outputs": [],
   "source": [
    "cerevisiaeMod1.objective = cerevisiaeMod1.add_boundary(cerevisiaeMod1.metabolites.but_c, type='demand')\n",
    "\n",
    "cerevisiaeMod1.objective = 'BCOAhydb' \n",
    "cerevisiaeMod1.objective.expression\n",
    "\n",
    "BCOAhydb = cerevisiaeMod1.reactions.get_by_id('BCOAhydb')\n",
    "BCOAhydb.lower_bound = -100\n",
    "BCOAhydb.upper_bound = 100"
   ]
  },
  {
   "cell_type": "code",
   "execution_count": 12,
   "metadata": {},
   "outputs": [
    {
     "name": "stdout",
     "output_type": "stream",
     "text": [
      "IN FLUXES          OUT FLUXES        OBJECTIVES\n",
      "-----------------  ----------------  ----------------------\n",
      "glc__D_e  10       co2_e   17.9      BIOMASS_SC5_...  0.291\n",
      "o2_e       2       etoh_e  15.7\n",
      "nh4_e      1.63    h2o_e    5.68\n",
      "pi_e       0.0576  h_e      1.54\n",
      "so4_e      0.0225  ac_e     0.0709\n",
      "                   for_e    0.00151\n"
     ]
    }
   ],
   "source": [
    "cerevisiaeMod1.optimize()\n",
    "cerevisiaeMod1.summary()"
   ]
  },
  {
   "cell_type": "markdown",
   "metadata": {},
   "source": [
    "## The flux is using the prescribed reactions: "
   ]
  },
  {
   "cell_type": "code",
   "execution_count": 7,
   "metadata": {},
   "outputs": [
    {
     "name": "stdout",
     "output_type": "stream",
     "text": [
      "PRODUCING REACTIONS -- Butyrate (n-C4:0) (but_c)\n",
      "------------------------------------------------\n",
      "%       FLUX  RXN ID    REACTION\n",
      "----  ------  --------  ---------------------------------------\n",
      "100%    7.48  BCOAhydb  btcoa_c + h2o_c <=> but_c + coa_c + h_c\n",
      "\n",
      "CONSUMING REACTIONS -- Butyrate (n-C4:0) (but_c)\n",
      "------------------------------------------------\n",
      "%       FLUX  RXN ID    REACTION\n",
      "----  ------  --------  ---------------------------------------\n",
      "100%    7.48  DM_but_c  but_c -->\n"
     ]
    }
   ],
   "source": [
    "cerevisiaeMod1.metabolites.but_c.summary()"
   ]
  },
  {
   "cell_type": "code",
   "execution_count": 8,
   "metadata": {},
   "outputs": [
    {
     "name": "stdout",
     "output_type": "stream",
     "text": [
      "PRODUCING REACTIONS -- Butanoyl-CoA (btcoa_c)\n",
      "---------------------------------------------\n",
      "%       FLUX  RXN ID    REACTION\n",
      "----  ------  --------  ------------------------------------------\n",
      "100%    7.48  ACOAD1b   b2coa_c + h_c + nadh_c <=> btcoa_c + nad_c\n",
      "\n",
      "CONSUMING REACTIONS -- Butanoyl-CoA (btcoa_c)\n",
      "---------------------------------------------\n",
      "%       FLUX  RXN ID    REACTION\n",
      "----  ------  --------  ------------------------------------------\n",
      "100%    7.48  BCOAhydb  btcoa_c + h2o_c <=> but_c + coa_c + h_c\n"
     ]
    }
   ],
   "source": [
    "cerevisiaeMod1.metabolites.btcoa_c.summary()"
   ]
  },
  {
   "cell_type": "code",
   "execution_count": 9,
   "metadata": {},
   "outputs": [
    {
     "name": "stdout",
     "output_type": "stream",
     "text": [
      "PRODUCING REACTIONS -- Crotonoyl-CoA (b2coa_c)\n",
      "----------------------------------------------\n",
      "%       FLUX  RXN ID     REACTION\n",
      "----  ------  ---------  ------------------------------------------\n",
      "100%    7.48  HBCOAhydb  3hbcoa_c <=> b2coa_c + h2o_c\n",
      "\n",
      "CONSUMING REACTIONS -- Crotonoyl-CoA (b2coa_c)\n",
      "----------------------------------------------\n",
      "%       FLUX  RXN ID     REACTION\n",
      "----  ------  ---------  ------------------------------------------\n",
      "100%    7.48  ACOAD1b    b2coa_c + h_c + nadh_c <=> btcoa_c + nad_c\n"
     ]
    }
   ],
   "source": [
    "cerevisiaeMod1.metabolites.b2coa_c.summary()"
   ]
  },
  {
   "cell_type": "code",
   "execution_count": 11,
   "metadata": {},
   "outputs": [
    {
     "name": "stdout",
     "output_type": "stream",
     "text": [
      "IN FLUXES          OUT FLUXES        OBJECTIVES\n",
      "-----------------  ----------------  ----------------------\n",
      "glc__D_e  10       co2_e   17.9      BIOMASS_SC5_...  0.291\n",
      "o2_e       2       etoh_e  15.7\n",
      "nh4_e      1.63    h2o_e    5.68\n",
      "pi_e       0.0576  h_e      1.54\n",
      "so4_e      0.0225  ac_e     0.0709\n",
      "                   for_e    0.00151\n"
     ]
    }
   ],
   "source": [
    "cerevisiaeMod1.objective = 'BIOMASS_SC5_notrace' \n",
    "cerevisiaeMod1.objective.expression\n",
    "\n",
    "cerevisiaeMod1.optimize()\n",
    "cerevisiaeMod1.summary()"
   ]
  },
  {
   "cell_type": "markdown",
   "metadata": {},
   "source": [
    "# Multi-objective optimization\n",
    "\n",
    "https://cobrapy.readthedocs.io/en/latest/constraints_objectives.html\n",
    "\n",
    "\n",
    "Here the scalarization of the multi-objective problem where the biomass and butyrate production are maximized is solved: \n",
    "\n",
    "$$\n",
    "\\begin{equation*}\n",
    "\\begin{aligned}\n",
    "& \\underset{f}{\\text{maximize}}\n",
    "& &  biomass(f) +  \\lambda \\ but(f) \\\\\n",
    "& \\text{subject to}\n",
    "& & Sf = 0 \\\\\n",
    "&&& l_i \\leq f_i \\leq u_i, \\; i = 1, \\ldots, m.\n",
    "\\end{aligned}\n",
    "\\end{equation*}\n",
    "$$\n",
    "\n",
    "In the objective $biomass$ and $but$ are functions of the vector of flows $f$. The parameter $\\lambda$ controls the tradeoff between the biomass and the production of butyrate. \n",
    "\n"
   ]
  },
  {
   "cell_type": "code",
   "execution_count": 56,
   "metadata": {},
   "outputs": [],
   "source": [
    "biomass = cerevisiaeMod1.reactions.BIOMASS_SC5_notrace.flux_expression\n",
    "but = cerevisiaeMod1.reactions.BCOAhydb.flux_expression\n",
    "lam = 0.05"
   ]
  },
  {
   "cell_type": "code",
   "execution_count": 57,
   "metadata": {},
   "outputs": [
    {
     "name": "stdout",
     "output_type": "stream",
     "text": [
      "IN FLUXES           OUT FLUXES     OBJECTIVES\n",
      "------------------  -------------  ----------------------\n",
      "glc__D_e  10        h_e     20.9   BCOAhydb         0.284\n",
      "o2_e       2        h2o_e   12.7   BIOMASS_SC5_...  0.103\n",
      "nh4_e      0.578    succ_e   7.37\n",
      "pi_e       0.0204   but_c    5.68\n",
      "so4_e      0.00799  co2_e    4.07\n"
     ]
    }
   ],
   "source": [
    "biomass_but = cerevisiaeMod1.problem.Objective(biomass + lam*but,\n",
    "    direction='max')\n",
    "cerevisiaeMod1.objective = biomass_but\n",
    "solution = cerevisiaeMod1.optimize(objective_sense=None)\n",
    "cerevisiaeMod1.summary()"
   ]
  },
  {
   "cell_type": "code",
   "execution_count": 74,
   "metadata": {},
   "outputs": [],
   "source": [
    "# solution path:\n",
    "lams = np.arange(0, 0.06, 0.0025)\n",
    "nlams = len(lams)\n",
    "buts = np.repeat(0.0, nlams)\n",
    "biomasses = np.repeat(0.0, nlams)\n",
    "\n",
    "for i, lam in enumerate(lams):\n",
    "    biomass_but = cerevisiaeMod1.problem.Objective(biomass + lam*but,\n",
    "    direction='max')\n",
    "    cerevisiaeMod1.objective = biomass_but\n",
    "    solution = cerevisiaeMod1.optimize(objective_sense=None)\n",
    "    \n",
    "    buts[i] = solution.fluxes.BCOAhydb\n",
    "    biomasses[i] = solution.fluxes.BIOMASS_SC5_notrace\n",
    "    #print(i, lam)\n"
   ]
  },
  {
   "cell_type": "code",
   "execution_count": 81,
   "metadata": {},
   "outputs": [
    {
     "data": {
      "image/png": "[encoded data removed]",
      "text/plain": [
       "<matplotlib.figure.Figure at 0xb6249d9358>"
      ]
     },
     "metadata": {},
     "output_type": "display_data"
    }
   ],
   "source": [
    "plt.subplot(2, 1, 1)\n",
    "plt.plot(lams, buts, label = 'butyrate prod.')\n",
    "plt.legend()\n",
    "\n",
    "plt.subplot(2, 1, 2)\n",
    "plt.plot(lams, biomasses, label = 'biomass prod.')\n",
    "plt.legend()\n",
    "\n",
    "plt.show()\n"
   ]
  },
  {
   "cell_type": "code",
   "execution_count": null,
   "metadata": {
    "collapsed": true
   },
   "outputs": [],
   "source": []
  },
  {
   "cell_type": "code",
   "execution_count": null,
   "metadata": {
    "collapsed": true
   },
   "outputs": [],
   "source": []
  },
  {
   "cell_type": "markdown",
   "metadata": {
    "collapsed": true
   },
   "source": [
    "### Gap Filling\n",
    "\n",
    "https://cobrapy.readthedocs.io/en/latest/gapfilling.html"
   ]
  },
  {
   "cell_type": "code",
   "execution_count": 34,
   "metadata": {
    "collapsed": true
   },
   "outputs": [],
   "source": [
    "from cobra.flux_analysis import gapfill"
   ]
  },
  {
   "cell_type": "code",
   "execution_count": 35,
   "metadata": {
    "collapsed": true
   },
   "outputs": [],
   "source": [
    "universal = cobra.Model(\"universal_reactions\")\n",
    "cerevisiaeMod1.objective = cerevisiaeMod1.add_boundary(cerevisiaeMod1.metabolites.but_c, type='demand')"
   ]
  },
  {
   "cell_type": "code",
   "execution_count": 36,
   "metadata": {
    "collapsed": true
   },
   "outputs": [],
   "source": [
    "solution = gapfill(cerevisiaeMod1, universal)\n",
    "for reaction in solution[0]:\n",
    "    print(reaction.id)"
   ]
  },
  {
   "cell_type": "code",
   "execution_count": 37,
   "metadata": {},
   "outputs": [
    {
     "data": {
      "text/plain": [
       "[[]]"
      ]
     },
     "execution_count": 37,
     "metadata": {},
     "output_type": "execute_result"
    }
   ],
   "source": [
    "solution"
   ]
  }
 ],
 "metadata": {
  "kernelspec": {
   "display_name": "Python 3",
   "language": "python",
   "name": "python3"
  },
  "language_info": {
   "codemirror_mode": {
    "name": "ipython",
    "version": 3
   },
   "file_extension": ".py",
   "mimetype": "text/x-python",
   "name": "python",
   "nbconvert_exporter": "python",
   "pygments_lexer": "ipython3",
   "version": "3.6.2"
  }
 },
 "nbformat": 4,
 "nbformat_minor": 2
}
